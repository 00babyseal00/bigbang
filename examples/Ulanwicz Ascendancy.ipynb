{
 "metadata": {
  "name": "",
  "signature": "sha256:17cc2be6e477881ed43e41e832274f404512f915552c79a8d552a3ac3d1cf5bb"
 },
 "nbformat": 3,
 "nbformat_minor": 0,
 "worksheets": [
  {
   "cells": [
    {
     "cell_type": "markdown",
     "metadata": {},
     "source": [
      "Now we'll plot an ecosystem measure. To start, let's use the ratio of Ulanowicz's *ascendancy* measure and his *capacity* measure.\n",
      "\n",
      "*Ascendancy* is a measure of the amount of energy flowing through an ecosystem in a structure, regular way. *Capacity* is a measure of the total energy flowing through the ecosystem. *Overhead* is capacity minues ascendancy, and represents the free energy of an ecosystem. \n",
      "\n",
      "Ulanowicz originally hypothesized that ecosystems would tend toward greater ascendancy over time due to autocatalysis and selection effects.\n",
      "\n",
      "While this model was originally developed for studying low level biological ecosystems, one goal of BigBang is provide a way to test this theory of sociotechnical ecosystems.\n",
      "\n",
      "Here we plot ascendency over time--the amount of structured energy flow, as opposed to entropic flow, in the system over time. We are using the interaction graph computed from the rolling average window, with edges weighted by number of replies between participants, as the ecosystem model. Note that this is a very crude measurement--there are better ways to compute ascendancy and overhead over evolving ecosystem data."
     ]
    },
    {
     "cell_type": "code",
     "collapsed": false,
     "input": [
      "\n",
      "\n",
      "#if os.path.exists(saved_path):\n",
      "#    activities = pickle.load(open(saved_path,'rb'))\n",
      "#else:\n",
      "#    mlists = [mailman.open_list_archives(url,\"../archives\") for url in urls]\n",
      "#    activities = \n",
      "#    pickle.dump(activities,open(saved_path,'wb'))\n",
      "\n",
      "ascendancies = [compute_ascendancy(ml) for ml in mlists]\n",
      "\n",
      "plt.figure(figsize=(12.5, 7.5))\n",
      "\n",
      "for i, (ascendancy,capacity) in enumerate(activities):\n",
      "    \n",
      "    colors = 'rgbkm'\n",
      "    \n",
      "    #ascendancy computations are currently slow,\n",
      "    # and don't produce DataFrames\n",
      "    cropped_capacity = capacity[smooth_factor:-smooth_factor]\n",
      "    \n",
      "    rmta = pd.rolling_mean(ta,window)\n",
      "    rmtadna = rmta.dropna()\n",
      "\n",
      "    \n",
      "    scaled_activity = smooth_activity * np.mean(cropped_capacity) / np.mean(smooth_activity)\n",
      "\n",
      "    plt.plot_date(\n",
      "        dates,\n",
      "        ascendancy,\":\"+colors[i],\n",
      "        label=(mailman.get_list_name(urls[i]) + ' overhead'),xdate=True)\n",
      "\n",
      "\n",
      "#plt.plot(ascendancy,'o')\n",
      "#plt.plot(capacity,'y')\n",
      "plt.axvline(x=733140,color='c',ls='dashed')\n",
      "#plt.ylim(0,1)\n",
      "plt.show()"
     ],
     "language": "python",
     "metadata": {},
     "outputs": [
      {
       "ename": "NameError",
       "evalue": "name 'mlists' is not defined",
       "output_type": "pyerr",
       "traceback": [
        "\u001b[1;31m---------------------------------------------------------------------------\u001b[0m\n\u001b[1;31mNameError\u001b[0m                                 Traceback (most recent call last)",
        "\u001b[1;32m<ipython-input-1-68cff2e60d6f>\u001b[0m in \u001b[0;36m<module>\u001b[1;34m()\u001b[0m\n\u001b[0;32m      8\u001b[0m \u001b[1;31m#    pickle.dump(activities,open(saved_path,'wb'))\u001b[0m\u001b[1;33m\u001b[0m\u001b[1;33m\u001b[0m\u001b[0m\n\u001b[0;32m      9\u001b[0m \u001b[1;33m\u001b[0m\u001b[0m\n\u001b[1;32m---> 10\u001b[1;33m \u001b[0mascendancies\u001b[0m \u001b[1;33m=\u001b[0m \u001b[1;33m[\u001b[0m\u001b[0mcompute_ascendancy\u001b[0m\u001b[1;33m(\u001b[0m\u001b[0mml\u001b[0m\u001b[1;33m)\u001b[0m \u001b[1;32mfor\u001b[0m \u001b[0mml\u001b[0m \u001b[1;32min\u001b[0m \u001b[0mmlists\u001b[0m\u001b[1;33m]\u001b[0m\u001b[1;33m\u001b[0m\u001b[0m\n\u001b[0m\u001b[0;32m     11\u001b[0m \u001b[1;33m\u001b[0m\u001b[0m\n\u001b[0;32m     12\u001b[0m \u001b[0mplt\u001b[0m\u001b[1;33m.\u001b[0m\u001b[0mfigure\u001b[0m\u001b[1;33m(\u001b[0m\u001b[0mfigsize\u001b[0m\u001b[1;33m=\u001b[0m\u001b[1;33m(\u001b[0m\u001b[1;36m12.5\u001b[0m\u001b[1;33m,\u001b[0m \u001b[1;36m7.5\u001b[0m\u001b[1;33m)\u001b[0m\u001b[1;33m)\u001b[0m\u001b[1;33m\u001b[0m\u001b[0m\n",
        "\u001b[1;31mNameError\u001b[0m: name 'mlists' is not defined"
       ]
      }
     ],
     "prompt_number": 1
    },
    {
     "cell_type": "markdown",
     "metadata": {},
     "source": [
      "Just eyeballing this for now, we can see that variation in ascendancy appears to track variation in overall activity on the mailing list closely.\n",
      "\n",
      "This is an expected result given the way that ascendancy is computed. More mailing list participation means more 'energy' flowing through the ecosystem as a whole. To the extent that this energy flow is structured (i.e., follows regular patterns as opposed to random ones), this will increase ascendancy as well.\n",
      "\n",
      "A measure to investigate further is the ascendancy/capacity ratio, which will be a measure of the proportion of emails sent that follow a regular response pattern."
     ]
    },
    {
     "cell_type": "code",
     "collapsed": false,
     "input": [],
     "language": "python",
     "metadata": {},
     "outputs": []
    }
   ],
   "metadata": {}
  }
 ]
}