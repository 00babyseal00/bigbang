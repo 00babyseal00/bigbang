{
 "metadata": {
  "name": "",
  "signature": "sha256:3a82c5d11a12a0997300358e042b67818f6da339f1c7d3cd8042314a9afbac35"
 },
 "nbformat": 3,
 "nbformat_minor": 0,
 "worksheets": [
  {
   "cells": [
    {
     "cell_type": "markdown",
     "metadata": {},
     "source": [
      "This notebook shows how BigBang can be used to display a graph of interactions in the mailing list over some period of time.\n",
      "\n",
      "First we'll make the I Python notebook display computed visualizations inline."
     ]
    },
    {
     "cell_type": "code",
     "collapsed": false,
     "input": [
      "%matplotlib inline"
     ],
     "language": "python",
     "metadata": {},
     "outputs": [],
     "prompt_number": 7
    },
    {
     "cell_type": "markdown",
     "metadata": {},
     "source": [
      "Next we'll import dependencies."
     ]
    },
    {
     "cell_type": "code",
     "collapsed": false,
     "input": [
      "from bigbang.archive import Archive\n",
      "import bigbang.parse as parse\n",
      "import bigbang.graph as graph\n",
      "import bigbang.mailman as mailman\n",
      "import bigbang.process as process\n",
      "import networkx as nx\n",
      "import matplotlib.pyplot as plt\n",
      "import pandas as pd\n",
      "from pprint import pprint as pp\n",
      "import pytz"
     ],
     "language": "python",
     "metadata": {},
     "outputs": [],
     "prompt_number": 8
    },
    {
     "cell_type": "markdown",
     "metadata": {},
     "source": [
      "Now we will use BigBang to process mailing list archives we've already downloaded.\n",
      "\n",
      "Note that you can load an Archive that you have stored locally in a .csv file just by using its shortened *name*. You can also still include full URL's if you haven't downloaded the data yet, or you aren't sure."
     ]
    },
    {
     "cell_type": "code",
     "collapsed": false,
     "input": [
      "urls = [\n",
      "\"http://mail.scipy.org/pipermail/scipy-dev/\",\n",
      "        \"http://mail.scipy.org/pipermail/numpy-discussion/\"]\n",
      "\n",
      "archives= [Archive(url,archive_dir=\"../archives\") for url in urls]"
     ],
     "language": "python",
     "metadata": {},
     "outputs": [
      {
       "output_type": "stream",
       "stream": "stdout",
       "text": [
        "No data found at https://lists.wikimedia.org/pipermail/gendergap/. Attempting to collect data from URL.\n",
        "This could take a while.\n",
        "'Getting archive page for gendergap'\n",
        "["
       ]
      },
      {
       "output_type": "stream",
       "stream": "stdout",
       "text": [
        "'2015-March.txt.gz',\n",
        " '2015-February.txt.gz',\n",
        " '2015-January.txt.gz',\n",
        " '2014-December.txt.gz',\n",
        " '2014-November.txt.gz',\n",
        " '2014-October.txt.gz',\n",
        " '2014-September.txt.gz',\n",
        " '2014-August.txt.gz',\n",
        " '2014-July.txt.gz',\n",
        " '2014-June.txt.gz',\n",
        " '2014-May.txt.gz',\n",
        " '2014-April.txt.gz',\n",
        " '2014-March.txt.gz',\n",
        " '2014-February.txt.gz',\n",
        " '2014-January.txt.gz',\n",
        " '2013-December.txt.gz',\n",
        " '2013-November.txt.gz',\n",
        " '2013-October.txt.gz',\n",
        " '2013-September.txt.gz',\n",
        " '2013-August.txt.gz',\n",
        " '2013-July.txt.gz',\n",
        " '2013-June.txt.gz',\n",
        " '2013-May.txt.gz',\n",
        " '2013-April.txt.gz',\n",
        " '2013-March.txt.gz',\n",
        " '2013-February.txt.gz',\n",
        " '2013-January.txt.gz',\n",
        " '2012-December.txt.gz',\n",
        " '2012-November.txt.gz',\n",
        " '2012-October.txt.gz',\n",
        " '2012-September.txt.gz',\n",
        " '2012-August.txt.gz',\n",
        " '2012-July.txt.gz',\n",
        " '2012-June.txt.gz',\n",
        " '2012-May.txt.gz',\n",
        " '2012-April.txt.gz',\n",
        " '2012-March.txt.gz',\n",
        " '2012-February.txt.gz',\n",
        " '2012-January.txt.gz',\n",
        " '2011-December.txt.gz',\n",
        " '2011-November.txt.gz',\n",
        " '2011-October.txt.gz',\n",
        " '2011-September.txt.gz',\n",
        " '2011-August.txt.gz',\n",
        " '2011-July.txt.gz',\n",
        " '2011-June.txt.gz',\n",
        " '2011-May.txt.gz',\n",
        " '2011-April.txt.gz',\n",
        " '2011-March.txt.gz',\n",
        " '2011-February.txt.gz']\n",
        "'retrieving https://lists.wikimedia.org/pipermail/gendergap/2015-March.txt.gz'\n",
        "200 - writing file to archives/gendergap/2015-March.txt.gz"
       ]
      },
      {
       "output_type": "stream",
       "stream": "stdout",
       "text": [
        "\n",
        "'retrieving https://lists.wikimedia.org/pipermail/gendergap/2015-February.txt.gz'"
       ]
      },
      {
       "output_type": "stream",
       "stream": "stdout",
       "text": [
        "\n",
        "200 - writing file to archives/gendergap/2015-February.txt.gz"
       ]
      },
      {
       "output_type": "stream",
       "stream": "stdout",
       "text": [
        "\n",
        "'retrieving https://lists.wikimedia.org/pipermail/gendergap/2015-January.txt.gz'"
       ]
      },
      {
       "output_type": "stream",
       "stream": "stdout",
       "text": [
        "\n",
        "200 - writing file to archives/gendergap/2015-January.txt.gz"
       ]
      },
      {
       "output_type": "stream",
       "stream": "stdout",
       "text": [
        "\n",
        "'retrieving https://lists.wikimedia.org/pipermail/gendergap/2014-December.txt.gz'"
       ]
      },
      {
       "output_type": "stream",
       "stream": "stdout",
       "text": [
        "\n",
        "200 - writing file to archives/gendergap/2014-December.txt.gz"
       ]
      },
      {
       "output_type": "stream",
       "stream": "stdout",
       "text": [
        "\n",
        "'retrieving https://lists.wikimedia.org/pipermail/gendergap/2014-November.txt.gz'"
       ]
      },
      {
       "output_type": "stream",
       "stream": "stdout",
       "text": [
        "\n",
        "200 - writing file to archives/gendergap/2014-November.txt.gz"
       ]
      },
      {
       "output_type": "stream",
       "stream": "stdout",
       "text": [
        "\n",
        "'retrieving https://lists.wikimedia.org/pipermail/gendergap/2014-October.txt.gz'"
       ]
      },
      {
       "output_type": "stream",
       "stream": "stdout",
       "text": [
        "\n",
        "200 - writing file to archives/gendergap/2014-October.txt.gz"
       ]
      },
      {
       "output_type": "stream",
       "stream": "stdout",
       "text": [
        "\n",
        "'retrieving https://lists.wikimedia.org/pipermail/gendergap/2014-September.txt.gz'"
       ]
      },
      {
       "output_type": "stream",
       "stream": "stdout",
       "text": [
        "\n",
        "200 - writing file to archives/gendergap/2014-September.txt.gz"
       ]
      },
      {
       "output_type": "stream",
       "stream": "stdout",
       "text": [
        "\n",
        "'retrieving https://lists.wikimedia.org/pipermail/gendergap/2014-August.txt.gz'"
       ]
      },
      {
       "output_type": "stream",
       "stream": "stdout",
       "text": [
        "\n",
        "200 - writing file to archives/gendergap/2014-August.txt.gz"
       ]
      },
      {
       "output_type": "stream",
       "stream": "stdout",
       "text": [
        "\n",
        "'retrieving https://lists.wikimedia.org/pipermail/gendergap/2014-July.txt.gz'"
       ]
      },
      {
       "output_type": "stream",
       "stream": "stdout",
       "text": [
        "\n",
        "200 - writing file to archives/gendergap/2014-July.txt.gz"
       ]
      },
      {
       "output_type": "stream",
       "stream": "stdout",
       "text": [
        "\n",
        "'retrieving https://lists.wikimedia.org/pipermail/gendergap/2014-June.txt.gz'"
       ]
      },
      {
       "output_type": "stream",
       "stream": "stdout",
       "text": [
        "\n",
        "200 - writing file to archives/gendergap/2014-June.txt.gz"
       ]
      },
      {
       "output_type": "stream",
       "stream": "stdout",
       "text": [
        "\n",
        "'retrieving https://lists.wikimedia.org/pipermail/gendergap/2014-May.txt.gz'"
       ]
      },
      {
       "output_type": "stream",
       "stream": "stdout",
       "text": [
        "\n",
        "200 - writing file to archives/gendergap/2014-May.txt.gz"
       ]
      },
      {
       "output_type": "stream",
       "stream": "stdout",
       "text": [
        "\n",
        "'retrieving https://lists.wikimedia.org/pipermail/gendergap/2014-April.txt.gz'"
       ]
      },
      {
       "output_type": "stream",
       "stream": "stdout",
       "text": [
        "\n",
        "200 - writing file to archives/gendergap/2014-April.txt.gz"
       ]
      },
      {
       "output_type": "stream",
       "stream": "stdout",
       "text": [
        "\n",
        "'retrieving https://lists.wikimedia.org/pipermail/gendergap/2014-March.txt.gz'"
       ]
      },
      {
       "output_type": "stream",
       "stream": "stdout",
       "text": [
        "\n",
        "200 - writing file to archives/gendergap/2014-March.txt.gz"
       ]
      },
      {
       "output_type": "stream",
       "stream": "stdout",
       "text": [
        "\n",
        "'retrieving https://lists.wikimedia.org/pipermail/gendergap/2014-February.txt.gz'"
       ]
      },
      {
       "output_type": "stream",
       "stream": "stdout",
       "text": [
        "\n",
        "200 - writing file to archives/gendergap/2014-February.txt.gz"
       ]
      },
      {
       "output_type": "stream",
       "stream": "stdout",
       "text": [
        "\n",
        "'retrieving https://lists.wikimedia.org/pipermail/gendergap/2014-January.txt.gz'"
       ]
      },
      {
       "output_type": "stream",
       "stream": "stdout",
       "text": [
        "\n",
        "200 - writing file to archives/gendergap/2014-January.txt.gz"
       ]
      },
      {
       "output_type": "stream",
       "stream": "stdout",
       "text": [
        "\n",
        "'retrieving https://lists.wikimedia.org/pipermail/gendergap/2013-December.txt.gz'\n",
        "200 - writing file to archives/gendergap/2013-December.txt.gz"
       ]
      },
      {
       "output_type": "stream",
       "stream": "stdout",
       "text": [
        "\n",
        "'retrieving https://lists.wikimedia.org/pipermail/gendergap/2013-November.txt.gz'"
       ]
      },
      {
       "output_type": "stream",
       "stream": "stdout",
       "text": [
        "\n",
        "200 - writing file to archives/gendergap/2013-November.txt.gz"
       ]
      },
      {
       "output_type": "stream",
       "stream": "stdout",
       "text": [
        "\n",
        "'retrieving https://lists.wikimedia.org/pipermail/gendergap/2013-October.txt.gz'"
       ]
      },
      {
       "output_type": "stream",
       "stream": "stdout",
       "text": [
        "\n",
        "200 - writing file to archives/gendergap/2013-October.txt.gz"
       ]
      },
      {
       "output_type": "stream",
       "stream": "stdout",
       "text": [
        "\n",
        "'retrieving https://lists.wikimedia.org/pipermail/gendergap/2013-September.txt.gz'"
       ]
      },
      {
       "output_type": "stream",
       "stream": "stdout",
       "text": [
        "\n",
        "200 - writing file to archives/gendergap/2013-September.txt.gz"
       ]
      },
      {
       "output_type": "stream",
       "stream": "stdout",
       "text": [
        "\n",
        "'retrieving https://lists.wikimedia.org/pipermail/gendergap/2013-August.txt.gz'"
       ]
      },
      {
       "output_type": "stream",
       "stream": "stdout",
       "text": [
        "\n",
        "200 - writing file to archives/gendergap/2013-August.txt.gz"
       ]
      },
      {
       "output_type": "stream",
       "stream": "stdout",
       "text": [
        "\n",
        "'retrieving https://lists.wikimedia.org/pipermail/gendergap/2013-July.txt.gz'"
       ]
      },
      {
       "output_type": "stream",
       "stream": "stdout",
       "text": [
        "\n",
        "200 - writing file to archives/gendergap/2013-July.txt.gz"
       ]
      },
      {
       "output_type": "stream",
       "stream": "stdout",
       "text": [
        "\n",
        "'retrieving https://lists.wikimedia.org/pipermail/gendergap/2013-June.txt.gz'"
       ]
      },
      {
       "output_type": "stream",
       "stream": "stdout",
       "text": [
        "\n",
        "200 - writing file to archives/gendergap/2013-June.txt.gz"
       ]
      },
      {
       "output_type": "stream",
       "stream": "stdout",
       "text": [
        "\n",
        "'retrieving https://lists.wikimedia.org/pipermail/gendergap/2013-May.txt.gz'"
       ]
      },
      {
       "output_type": "stream",
       "stream": "stdout",
       "text": [
        "\n",
        "200 - writing file to archives/gendergap/2013-May.txt.gz"
       ]
      },
      {
       "output_type": "stream",
       "stream": "stdout",
       "text": [
        "\n",
        "'retrieving https://lists.wikimedia.org/pipermail/gendergap/2013-April.txt.gz'"
       ]
      },
      {
       "output_type": "stream",
       "stream": "stdout",
       "text": [
        "\n",
        "200 - writing file to archives/gendergap/2013-April.txt.gz"
       ]
      },
      {
       "output_type": "stream",
       "stream": "stdout",
       "text": [
        "\n",
        "'retrieving https://lists.wikimedia.org/pipermail/gendergap/2013-March.txt.gz'"
       ]
      },
      {
       "output_type": "stream",
       "stream": "stdout",
       "text": [
        "\n",
        "200 - writing file to archives/gendergap/2013-March.txt.gz"
       ]
      },
      {
       "output_type": "stream",
       "stream": "stdout",
       "text": [
        "\n",
        "'retrieving https://lists.wikimedia.org/pipermail/gendergap/2013-February.txt.gz'"
       ]
      },
      {
       "output_type": "stream",
       "stream": "stdout",
       "text": [
        "\n",
        "200 - writing file to archives/gendergap/2013-February.txt.gz"
       ]
      },
      {
       "output_type": "stream",
       "stream": "stdout",
       "text": [
        "\n",
        "'retrieving https://lists.wikimedia.org/pipermail/gendergap/2013-January.txt.gz'"
       ]
      },
      {
       "output_type": "stream",
       "stream": "stdout",
       "text": [
        "\n",
        "200 - writing file to archives/gendergap/2013-January.txt.gz"
       ]
      },
      {
       "output_type": "stream",
       "stream": "stdout",
       "text": [
        "\n",
        "'retrieving https://lists.wikimedia.org/pipermail/gendergap/2012-December.txt.gz'"
       ]
      },
      {
       "output_type": "stream",
       "stream": "stdout",
       "text": [
        "\n",
        "200 - writing file to archives/gendergap/2012-December.txt.gz"
       ]
      },
      {
       "output_type": "stream",
       "stream": "stdout",
       "text": [
        "\n",
        "'retrieving https://lists.wikimedia.org/pipermail/gendergap/2012-November.txt.gz'\n",
        "200 - writing file to archives/gendergap/2012-November.txt.gz"
       ]
      },
      {
       "output_type": "stream",
       "stream": "stdout",
       "text": [
        "\n",
        "'retrieving https://lists.wikimedia.org/pipermail/gendergap/2012-October.txt.gz'"
       ]
      },
      {
       "output_type": "stream",
       "stream": "stdout",
       "text": [
        "\n",
        "200 - writing file to archives/gendergap/2012-October.txt.gz"
       ]
      },
      {
       "output_type": "stream",
       "stream": "stdout",
       "text": [
        "\n",
        "'retrieving https://lists.wikimedia.org/pipermail/gendergap/2012-September.txt.gz'"
       ]
      },
      {
       "output_type": "stream",
       "stream": "stdout",
       "text": [
        "\n",
        "200 - writing file to archives/gendergap/2012-September.txt.gz"
       ]
      },
      {
       "output_type": "stream",
       "stream": "stdout",
       "text": [
        "\n",
        "'retrieving https://lists.wikimedia.org/pipermail/gendergap/2012-August.txt.gz'"
       ]
      },
      {
       "output_type": "stream",
       "stream": "stdout",
       "text": [
        "\n",
        "200 - writing file to archives/gendergap/2012-August.txt.gz"
       ]
      },
      {
       "output_type": "stream",
       "stream": "stdout",
       "text": [
        "\n",
        "'retrieving https://lists.wikimedia.org/pipermail/gendergap/2012-July.txt.gz'"
       ]
      },
      {
       "output_type": "stream",
       "stream": "stdout",
       "text": [
        "\n",
        "200 - writing file to archives/gendergap/2012-July.txt.gz"
       ]
      },
      {
       "output_type": "stream",
       "stream": "stdout",
       "text": [
        "\n",
        "'retrieving https://lists.wikimedia.org/pipermail/gendergap/2012-June.txt.gz'"
       ]
      },
      {
       "output_type": "stream",
       "stream": "stdout",
       "text": [
        "\n",
        "200 - writing file to archives/gendergap/2012-June.txt.gz"
       ]
      },
      {
       "output_type": "stream",
       "stream": "stdout",
       "text": [
        "\n",
        "'retrieving https://lists.wikimedia.org/pipermail/gendergap/2012-May.txt.gz'"
       ]
      },
      {
       "output_type": "stream",
       "stream": "stdout",
       "text": [
        "\n",
        "200 - writing file to archives/gendergap/2012-May.txt.gz"
       ]
      },
      {
       "output_type": "stream",
       "stream": "stdout",
       "text": [
        "\n",
        "'retrieving https://lists.wikimedia.org/pipermail/gendergap/2012-April.txt.gz'"
       ]
      },
      {
       "output_type": "stream",
       "stream": "stdout",
       "text": [
        "\n",
        "200 - writing file to archives/gendergap/2012-April.txt.gz"
       ]
      },
      {
       "output_type": "stream",
       "stream": "stdout",
       "text": [
        "\n",
        "'retrieving https://lists.wikimedia.org/pipermail/gendergap/2012-March.txt.gz'"
       ]
      },
      {
       "output_type": "stream",
       "stream": "stdout",
       "text": [
        "\n",
        "200 - writing file to archives/gendergap/2012-March.txt.gz"
       ]
      },
      {
       "output_type": "stream",
       "stream": "stdout",
       "text": [
        "\n",
        "'retrieving https://lists.wikimedia.org/pipermail/gendergap/2012-February.txt.gz'"
       ]
      },
      {
       "output_type": "stream",
       "stream": "stdout",
       "text": [
        "\n",
        "200 - writing file to archives/gendergap/2012-February.txt.gz"
       ]
      },
      {
       "output_type": "stream",
       "stream": "stdout",
       "text": [
        "\n",
        "'retrieving https://lists.wikimedia.org/pipermail/gendergap/2012-January.txt.gz'"
       ]
      },
      {
       "output_type": "stream",
       "stream": "stdout",
       "text": [
        "\n",
        "200 - writing file to archives/gendergap/2012-January.txt.gz"
       ]
      },
      {
       "output_type": "stream",
       "stream": "stdout",
       "text": [
        "\n",
        "'retrieving https://lists.wikimedia.org/pipermail/gendergap/2011-December.txt.gz'"
       ]
      },
      {
       "output_type": "stream",
       "stream": "stdout",
       "text": [
        "\n",
        "200 - writing file to archives/gendergap/2011-December.txt.gz"
       ]
      },
      {
       "output_type": "stream",
       "stream": "stdout",
       "text": [
        "\n",
        "'retrieving https://lists.wikimedia.org/pipermail/gendergap/2011-November.txt.gz'"
       ]
      },
      {
       "output_type": "stream",
       "stream": "stdout",
       "text": [
        "\n",
        "200 - writing file to archives/gendergap/2011-November.txt.gz"
       ]
      },
      {
       "output_type": "stream",
       "stream": "stdout",
       "text": [
        "\n",
        "'retrieving https://lists.wikimedia.org/pipermail/gendergap/2011-October.txt.gz'"
       ]
      },
      {
       "output_type": "stream",
       "stream": "stdout",
       "text": [
        "\n",
        "200 - writing file to archives/gendergap/2011-October.txt.gz"
       ]
      },
      {
       "output_type": "stream",
       "stream": "stdout",
       "text": [
        "\n",
        "'retrieving https://lists.wikimedia.org/pipermail/gendergap/2011-September.txt.gz'"
       ]
      },
      {
       "output_type": "stream",
       "stream": "stdout",
       "text": [
        "\n",
        "200 - writing file to archives/gendergap/2011-September.txt.gz"
       ]
      },
      {
       "output_type": "stream",
       "stream": "stdout",
       "text": [
        "\n",
        "'retrieving https://lists.wikimedia.org/pipermail/gendergap/2011-August.txt.gz'"
       ]
      },
      {
       "output_type": "stream",
       "stream": "stdout",
       "text": [
        "\n",
        "200 - writing file to archives/gendergap/2011-August.txt.gz"
       ]
      },
      {
       "output_type": "stream",
       "stream": "stdout",
       "text": [
        "\n",
        "'retrieving https://lists.wikimedia.org/pipermail/gendergap/2011-July.txt.gz'"
       ]
      },
      {
       "output_type": "stream",
       "stream": "stdout",
       "text": [
        "\n",
        "200 - writing file to archives/gendergap/2011-July.txt.gz"
       ]
      },
      {
       "output_type": "stream",
       "stream": "stdout",
       "text": [
        "\n",
        "'retrieving https://lists.wikimedia.org/pipermail/gendergap/2011-June.txt.gz'"
       ]
      },
      {
       "output_type": "stream",
       "stream": "stdout",
       "text": [
        "\n",
        "200 - writing file to archives/gendergap/2011-June.txt.gz"
       ]
      },
      {
       "output_type": "stream",
       "stream": "stdout",
       "text": [
        "\n",
        "'retrieving https://lists.wikimedia.org/pipermail/gendergap/2011-May.txt.gz'"
       ]
      },
      {
       "output_type": "stream",
       "stream": "stdout",
       "text": [
        "\n",
        "200 - writing file to archives/gendergap/2011-May.txt.gz"
       ]
      },
      {
       "output_type": "stream",
       "stream": "stdout",
       "text": [
        "\n",
        "'retrieving https://lists.wikimedia.org/pipermail/gendergap/2011-April.txt.gz'"
       ]
      },
      {
       "output_type": "stream",
       "stream": "stdout",
       "text": [
        "\n",
        "200 - writing file to archives/gendergap/2011-April.txt.gz"
       ]
      },
      {
       "output_type": "stream",
       "stream": "stdout",
       "text": [
        "\n",
        "'retrieving https://lists.wikimedia.org/pipermail/gendergap/2011-March.txt.gz'"
       ]
      },
      {
       "output_type": "stream",
       "stream": "stdout",
       "text": [
        "\n",
        "200 - writing file to archives/gendergap/2011-March.txt.gz"
       ]
      },
      {
       "output_type": "stream",
       "stream": "stdout",
       "text": [
        "\n",
        "'retrieving https://lists.wikimedia.org/pipermail/gendergap/2011-February.txt.gz'"
       ]
      }
     ]
    },
    {
     "cell_type": "markdown",
     "metadata": {},
     "source": [
      "Here we will set the window for analysis. By default, November 2011."
     ]
    },
    {
     "cell_type": "code",
     "collapsed": false,
     "input": [
      "date_from = pd.datetime(2011,11,1,tzinfo=pytz.utc)\n",
      "date_to = pd.datetime(2011,12,1,tzinfo=pytz.utc)"
     ],
     "language": "python",
     "metadata": {},
     "outputs": []
    },
    {
     "cell_type": "markdown",
     "metadata": {},
     "source": [
      "This is a helper function to select messages from a dataframe that fall within a certain range of dates."
     ]
    },
    {
     "cell_type": "code",
     "collapsed": false,
     "input": [
      "def filter_by_date(df,d_from,d_to):\n",
      "    return df[(df['Date'] > d_from) & (df['Date'] < d_to)]"
     ],
     "language": "python",
     "metadata": {},
     "outputs": []
    },
    {
     "cell_type": "markdown",
     "metadata": {},
     "source": [
      "A function for drawing interaction graphs.\n",
      "\n",
      "*TODO: Move this into the library code*"
     ]
    },
    {
     "cell_type": "code",
     "collapsed": false,
     "input": [
      "def draw_interaction_graph(ig):\n",
      "    #pdig = nx.to_pydot(ig)\n",
      "    #pdig.set_overlap('False')\n",
      "    \n",
      "    pos = nx.graphviz_layout(ig,prog='neato')\n",
      "    node_size = [data['sent'] * 40 for name,data in ig.nodes(data=True)]\n",
      "\n",
      "    nx.draw(ig,\n",
      "        pos,\n",
      "        node_size = node_size,\n",
      "        node_color = 'w',\n",
      "        alpha = 0.4,\n",
      "        font_size=18,\n",
      "        font_weight='bold'\n",
      "    )\n",
      "\n",
      "\n",
      "    # edge width is proportional to replies sent\n",
      "    edgewidth=[d['weight'] for (u,v,d) in ig.edges(data=True)]\n",
      "\n",
      "    #overlay edges with width based on weight\n",
      "    nx.draw_networkx_edges(ig,pos,alpha=0.5,width=edgewidth,edge_color='r')"
     ],
     "language": "python",
     "metadata": {},
     "outputs": []
    },
    {
     "cell_type": "markdown",
     "metadata": {},
     "source": [
      "Now we'll use BigBang's graph processing methods to turn the processed messages into a graph of interactions."
     ]
    },
    {
     "cell_type": "code",
     "collapsed": false,
     "input": [
      "plt.figure(figsize=(12.5, 7.5))\n",
      "for i,arx in enumerate(archives):\n",
      "    df = arx.data\n",
      "    dff = filter_by_date(df,date_from,date_to)\n",
      "    ig = graph.messages_to_interaction_graph(dff)\n",
      "    plt.subplot(230 + i) # create a subplot keyed to the index of this ml\n",
      "    \n",
      "    draw_interaction_graph(ig)\n",
      "\n",
      "plt.show()"
     ],
     "language": "python",
     "metadata": {},
     "outputs": []
    },
    {
     "cell_type": "code",
     "collapsed": false,
     "input": [
      "dfs = [filter_by_date(arx.data,\n",
      "                      date_from,\n",
      "                      date_to) for arx in archives]\n",
      "\n",
      "bdf = pd.concat(dfs)\n",
      "\n",
      "#RG = graph.messages_to_reply_graph(messages)\n",
      "\n",
      "IG = graph.messages_to_interaction_graph(bdf)\n",
      "\n",
      "pdig = nx.to_pydot(IG)\n",
      "\n",
      "pdig.set_overlap('False')\n"
     ],
     "language": "python",
     "metadata": {},
     "outputs": []
    },
    {
     "cell_type": "markdown",
     "metadata": {},
     "source": [
      "Lastly, we use NetworkX's built in compatibility with Matplotlib to visualize the graph."
     ]
    },
    {
     "cell_type": "code",
     "collapsed": false,
     "input": [
      "plt.figure(figsize=(12.5,7.5))\n",
      "\n",
      "draw_interaction_graph(IG)\n",
      "\n",
      "plt.show()"
     ],
     "language": "python",
     "metadata": {},
     "outputs": []
    },
    {
     "cell_type": "code",
     "collapsed": false,
     "input": [
      "nx.write_gexf(IG,\"all.gexf\")"
     ],
     "language": "python",
     "metadata": {},
     "outputs": []
    },
    {
     "cell_type": "code",
     "collapsed": false,
     "input": [],
     "language": "python",
     "metadata": {},
     "outputs": []
    }
   ],
   "metadata": {}
  }
 ]
}