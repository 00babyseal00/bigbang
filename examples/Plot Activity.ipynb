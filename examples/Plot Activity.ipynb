{
 "metadata": {
  "name": "",
  "signature": "sha256:c38c620812c3bc40ec45d8b462b61307d51ad5cdac993b6a1f5fcc2e77b83b24"
 },
 "nbformat": 3,
 "nbformat_minor": 0,
 "worksheets": [
  {
   "cells": [
    {
     "cell_type": "code",
     "collapsed": false,
     "input": [
      "%matplotlib inline"
     ],
     "language": "python",
     "metadata": {},
     "outputs": [],
     "prompt_number": 15
    },
    {
     "cell_type": "code",
     "collapsed": false,
     "input": [
      "import bigbang.mailman as mailman\n",
      "import bigbang.graph as graph\n",
      "from bigbang.parse import get_date\n",
      "from bigbang.functions import *"
     ],
     "language": "python",
     "metadata": {},
     "outputs": [],
     "prompt_number": 16
    },
    {
     "cell_type": "code",
     "collapsed": false,
     "input": [
      "import pandas as pd\n",
      "import datetime\n",
      "import matplotlib.pyplot as plt\n",
      "import numpy as np\n",
      "import math\n",
      "import pytz\n",
      "import pickle\n",
      "import os"
     ],
     "language": "python",
     "metadata": {},
     "outputs": [],
     "prompt_number": 17
    },
    {
     "cell_type": "code",
     "collapsed": false,
     "input": [
      "URLS_FILE = \"../urls.txt\"\n",
      "for url in open(URLS_FILE):\n",
      "    url = url.rstrip()\n",
      "    break  # just grab the first one, for now"
     ],
     "language": "python",
     "metadata": {},
     "outputs": [],
     "prompt_number": 18
    },
    {
     "cell_type": "code",
     "collapsed": false,
     "input": [
      "def process_messages(messages):\n",
      "    dates = []\n",
      "    froms = []\n",
      "    broke = []\n",
      "\n",
      "    for m in messages:\n",
      "        m_from = m.get('From')\n",
      "        froms.append(m_from)\n",
      "    \n",
      "        try:\n",
      "            date = get_date(m)\n",
      "            dates.append(date)\n",
      "        except Exception as e:\n",
      "            print e\n",
      "            dates.append(pd.NaT)\n",
      "            broke.append(m)\n",
      "\n",
      "    return dates, froms, broke\n"
     ],
     "language": "python",
     "metadata": {},
     "outputs": [],
     "prompt_number": 19
    },
    {
     "cell_type": "code",
     "collapsed": false,
     "input": [
      "def to_dataframe(dates,froms):\n",
      "    # just drop the missing values for now\n",
      "    data = pd.DataFrame({'Date':dates,'From':froms}).dropna()\n",
      "\n",
      "    # because sometimes somebody sends a messages from the future\n",
      "    data = data[data['Date'] < datetime.datetime.now(pytz.utc)]\n",
      "\n",
      "    return data\n"
     ],
     "language": "python",
     "metadata": {},
     "outputs": [],
     "prompt_number": 20
    },
    {
     "cell_type": "code",
     "collapsed": false,
     "input": [
      "def activity(messages):\n",
      "    dates, froms, broke = process_messages(messages)\n",
      "\n",
      "    data = to_dataframe(dates,froms)\n",
      "\n",
      "    ## an array\n",
      "    ## * columns are From addresses\n",
      "    ## * rows are ordinal days\n",
      "    ## * values are number of messages sent From x on day y\n",
      "    from_list = list(set(froms))\n",
      "    days = [d.toordinal() for d in data['Date']]\n",
      "\n",
      "    activity = np.zeros([len(from_list),max(days)-min(days)+1])\n",
      "    \n",
      "    # the ordinal day semantics of position 0 in the activity array\n",
      "    day_offset = data['Date'].min().toordinal()\n",
      "\n",
      "    for values in data.values:\n",
      "        date = values[0]\n",
      "        m_from = values[1]\n",
      "        \n",
      "        m_from_i = from_list.index(m_from)\n",
      "        day_i = date.toordinal() - day_offset\n",
      "\n",
      "        activity[m_from_i,day_i] = activity[m_from_i,day_i] + 1\n",
      "\n",
      "    return activity, np.arange(min(days),max(days)+1), from_list\n"
     ],
     "language": "python",
     "metadata": {},
     "outputs": [],
     "prompt_number": 21
    },
    {
     "cell_type": "code",
     "collapsed": false,
     "input": [
      "def compute_ascendancy(messages,duration=50):\n",
      "    print('compute ascendancy')\n",
      "    dated_messages = {}\n",
      "\n",
      "    for m in messages:\n",
      "        d = get_date(m)\n",
      "\n",
      "        if d is not None and d < datetime.datetime.now(pytz.utc):\n",
      "            o = d.toordinal()        \n",
      "            dated_messages[o] = dated_messages.get(o,[])\n",
      "            dated_messages[o].append(m)\n",
      "\n",
      "    days = [k for k in dated_messages.keys()]\n",
      "    day_offset = min(days)\n",
      "    epoch = max(days)-min(days)\n",
      "\n",
      "    ascendancy = np.zeros([max(days)-min(days)+1])\n",
      "    capacity = np.zeros(([max(days)-min(days)+1]))\n",
      "\n",
      "    for i in range(epoch):\n",
      "        min_d = min(days) + i\n",
      "        max_d = min_d + duration\n",
      "\n",
      "        block_messages = []\n",
      "\n",
      "        for d in range(min_d,max_d):\n",
      "            block_messages.extend(dated_messages.get(d,[]))\n",
      "\n",
      "        b_IG = graph.messages_to_interaction_graph(block_messages)\n",
      "        b_matrix = graph.interaction_graph_to_matrix(b_IG)\n",
      "\n",
      "        ascendancy[min_d-day_offset] = graph.ascendancy(b_matrix)\n",
      "        capacity[min_d-day_offset] = graph.capacity(b_matrix)\n",
      "\n",
      "    return ascendancy, capacity\n"
     ],
     "language": "python",
     "metadata": {},
     "outputs": [],
     "prompt_number": 22
    },
    {
     "cell_type": "code",
     "collapsed": false,
     "input": [
      "urls = [\"http://mail.scipy.org/pipermail/ipython-dev/\",\n",
      "        \"http://mail.scipy.org/pipermail/ipython-user/\",\n",
      "        \"http://mail.scipy.org/pipermail/scipy-dev/\",\n",
      "        \"http://mail.scipy.org/pipermail/scipy-user/\",\n",
      "        \"http://mail.scipy.org/pipermail/numpy-discussion/\"]\n",
      "\n",
      "\n",
      "activities = []\n",
      "\n",
      "saved_path =  '../save.p'\n",
      "\n",
      "if os.path.exists(saved_path):\n",
      "    activities = pickle.load(open(saved_path,'rb'))\n",
      "else:\n",
      "    mlists = [mailman.open_list_archives(url) for url in urls]\n",
      "    activities = [(activity(ml),compute_ascendancy(ml)) for ml in mlists]\n",
      "    pickle.dump(activities,open(saved_path,'wb'))\n"
     ],
     "language": "python",
     "metadata": {},
     "outputs": [],
     "prompt_number": 23
    },
    {
     "cell_type": "code",
     "collapsed": false,
     "input": [
      "smooth_factor = 120"
     ],
     "language": "python",
     "metadata": {},
     "outputs": [],
     "prompt_number": 24
    },
    {
     "cell_type": "code",
     "collapsed": false,
     "input": [
      "for i, ((activity,dates,froml),(ascendancy,capacity)) in enumerate(activities):\n",
      "\n",
      "    colors = 'rgbkm'\n",
      "\n",
      "    total_activity = np.sum(activity,0)\n",
      "\n",
      "    smooth_activity = smooth(total_activity,smooth_factor)\n",
      "    cropped_capacity = capacity[smooth_factor:-smooth_factor]\n",
      "    \n",
      "    scaled_activity = smooth_activity * np.mean(cropped_capacity) / np.mean(smooth_activity)\n",
      "\n",
      "    plt.plot_date(\n",
      "        #use convolve?\n",
      "        dates[smooth_factor:-smooth_factor],\n",
      "        smooth_activity,'-'+colors[i],\n",
      "        label=mailman.get_list_name(urls[i]) + ' activity',xdate=True)\n",
      "\n",
      "    \"\"\"\n",
      "    print urls[i]\n",
      "    print dates.shape\n",
      "    print ascendancy.shape\n",
      "    plt.plot_date(\n",
      "        dates,\n",
      "        capacity-ascendancy,\":\"+colors[i],\n",
      "        label=(mailman.get_list_name(urls[i]) + ' overhead'),xdate=True)\n",
      "    \"\"\"\n",
      "\n",
      "\n",
      "plt.axvline(x=733140,color='c',ls='dashed')\n",
      "#plt.legend()\n",
      "plt.savefig(\"activites-marked.png\")\n",
      "plt.show()\n",
      "\n",
      "\n",
      "#plt.plot(ascendancy,'o')\n",
      "#plt.plot(capacity,'y')\n",
      "\n",
      "#plt.show()\n"
     ],
     "language": "python",
     "metadata": {},
     "outputs": [
      {
       "metadata": {},
       "output_type": "display_data",
       "png": "[encoded data removed]",
       "text": [
        "<matplotlib.figure.Figure at 0x7f42a0f19f10>"
       ]
      }
     ],
     "prompt_number": 25
    }
   ],
   "metadata": {}
  }
 ]
}