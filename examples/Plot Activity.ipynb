{
 "metadata": {
  "name": "",
  "signature": "sha256:f46388cd78513904604a0674284d317aba31336231fbc0b80216e4867df161ad"
 },
 "nbformat": 3,
 "nbformat_minor": 0,
 "worksheets": [
  {
   "cells": [
    {
     "cell_type": "markdown",
     "metadata": {},
     "source": [
      "This notebook shows how BigBang can help you explore a mailing list archive.\n",
      "\n",
      "First, use this IPython magic to tell the notebook to display matplotlib graphics inline. This is a nice way to display results."
     ]
    },
    {
     "cell_type": "code",
     "collapsed": false,
     "input": [
      "%matplotlib inline"
     ],
     "language": "python",
     "metadata": {},
     "outputs": [],
     "prompt_number": 3
    },
    {
     "cell_type": "markdown",
     "metadata": {},
     "source": [
      "Import the BigBang modules as needed. These should be in your Python environment if you've installed BigBang correctly.\n",
      "\n",
      "Ignore these RuntimeErrors for now."
     ]
    },
    {
     "cell_type": "code",
     "collapsed": false,
     "input": [
      "import bigbang.mailman as mailman\n",
      "import bigbang.graph as graph\n",
      "from bigbang.process import *\n",
      "from bigbang.parse import get_date\n",
      "#from bigbang.functions import *"
     ],
     "language": "python",
     "metadata": {},
     "outputs": [],
     "prompt_number": 4
    },
    {
     "cell_type": "markdown",
     "metadata": {},
     "source": [
      "Also, let's import a number of other dependencies we'll use later."
     ]
    },
    {
     "cell_type": "code",
     "collapsed": false,
     "input": [
      "import pandas as pd\n",
      "import datetime\n",
      "import matplotlib.pyplot as plt\n",
      "import numpy as np\n",
      "import math\n",
      "import pytz\n",
      "import pickle\n",
      "import os"
     ],
     "language": "python",
     "metadata": {},
     "outputs": [],
     "prompt_number": 5
    },
    {
     "cell_type": "markdown",
     "metadata": {},
     "source": [
      "Now let's load the data for analysis."
     ]
    },
    {
     "cell_type": "code",
     "collapsed": false,
     "input": [
      "urls = [\"http://mail.scipy.org/pipermail/ipython-dev/\",\n",
      "        \"http://mail.scipy.org/pipermail/ipython-user/\",\n",
      "        \"http://mail.scipy.org/pipermail/scipy-dev/\",\n",
      "        \"http://mail.scipy.org/pipermail/scipy-user/\",\n",
      "        \"http://mail.scipy.org/pipermail/numpy-discussion/\"]\n",
      "\n",
      "\n",
      "activities = []\n",
      "\n",
      "saved_path =  '../save.p'\n",
      "\n",
      "if os.path.exists(saved_path):\n",
      "    activities = pickle.load(open(saved_path,'rb'))\n",
      "else:\n",
      "    mlists = [mailman.open_list_archives(url,\"../archives\") for url in urls]\n",
      "    activities = [(activity(ml),compute_ascendancy(ml)) for ml in mlists]\n",
      "    pickle.dump(activities,open(saved_path,'wb'))\n"
     ],
     "language": "python",
     "metadata": {},
     "outputs": [],
     "prompt_number": 6
    },
    {
     "cell_type": "code",
     "collapsed": false,
     "input": [],
     "language": "python",
     "metadata": {},
     "outputs": []
    },
    {
     "cell_type": "code",
     "collapsed": false,
     "input": [
      "smooth_factor = 360"
     ],
     "language": "python",
     "metadata": {},
     "outputs": [],
     "prompt_number": 11
    },
    {
     "cell_type": "code",
     "collapsed": false,
     "input": [
      "for i, ((activity,dates,froml),(ascendancy,capacity)) in enumerate(activities):\n",
      "\n",
      "    colors = 'rgbkm'\n",
      "\n",
      "    total_activity = np.sum(activity,0)\n",
      "\n",
      "    smooth_activity = smooth(total_activity,smooth_factor)\n",
      "    cropped_capacity = capacity[smooth_factor:-smooth_factor]\n",
      "    \n",
      "    scaled_activity = smooth_activity * np.mean(cropped_capacity) / np.mean(smooth_activity)\n",
      "\n",
      "    plt.plot_date(\n",
      "        #use convolve?\n",
      "        dates[smooth_factor:-smooth_factor],\n",
      "        smooth_activity,'-'+colors[i],\n",
      "        label=mailman.get_list_name(urls[i]) + ' activity',xdate=True)\n",
      "\n",
      "    \"\"\"\n",
      "    print urls[i]\n",
      "    print dates.shape\n",
      "    print ascendancy.shape\n",
      "    plt.plot_date(\n",
      "        dates,\n",
      "        capacity-ascendancy,\":\"+colors[i],\n",
      "        label=(mailman.get_list_name(urls[i]) + ' overhead'),xdate=True)\n",
      "    \"\"\"\n",
      "\n",
      "\n",
      "plt.axvline(x=733140,color='c',ls='dashed')\n",
      "#plt.legend()\n",
      "plt.savefig(\"activites-marked.png\")\n",
      "plt.show()\n",
      "\n",
      "\n",
      "#plt.plot(ascendancy,'o')\n",
      "#plt.plot(capacity,'y')\n",
      "\n",
      "#plt.show()\n"
     ],
     "language": "python",
     "metadata": {},
     "outputs": [
      {
       "metadata": {},
       "output_type": "display_data",
       "png": "[encoded data removed]",
       "text": [
        "<matplotlib.figure.Figure at 0x7f19779c3590>"
       ]
      }
     ],
     "prompt_number": 12
    },
    {
     "cell_type": "code",
     "collapsed": false,
     "input": [],
     "language": "python",
     "metadata": {},
     "outputs": [],
     "prompt_number": 10
    },
    {
     "cell_type": "code",
     "collapsed": false,
     "input": [],
     "language": "python",
     "metadata": {},
     "outputs": []
    }
   ],
   "metadata": {}
  }
 ]
}