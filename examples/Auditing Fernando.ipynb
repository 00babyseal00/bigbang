{
 "metadata": {
  "name": "",
  "signature": "sha256:ecdeef90756e09a71465e21676dda81c7410af3d748c8dfeb35920cfe134324c"
 },
 "nbformat": 3,
 "nbformat_minor": 0,
 "worksheets": [
  {
   "cells": [
    {
     "cell_type": "markdown",
     "metadata": {},
     "source": [
      "This note will show you how to use BigBang to investigate a particular project participant's activity.\n",
      "\n",
      "We will focus on Fernando Perez's role within the IPython community.\n",
      "\n",
      "First, imports."
     ]
    },
    {
     "cell_type": "code",
     "collapsed": false,
     "input": [
      "from bigbang.mailman import open_list_archives"
     ],
     "language": "python",
     "metadata": {},
     "outputs": [],
     "prompt_number": 1
    },
    {
     "cell_type": "markdown",
     "metadata": {},
     "source": [
      "Let's get all the available date from the IPython community. For now, this is just the mailing lists. One day, BigBang will also get its issue tracker data! That will be very exciting."
     ]
    },
    {
     "cell_type": "code",
     "collapsed": false,
     "input": [
      "urls = [\"http://mail.scipy.org/pipermail/ipython-dev/\",\n",
      "        \"http://mail.scipy.org/pipermail/ipython-user/\"]\n",
      "\n",
      "mls = [open_list_archives(url,\"../archives\") for url in urls]\n",
      "\n",
      "messages = [m for ml in mls for m in ml]"
     ],
     "language": "python",
     "metadata": {},
     "outputs": [
      {
       "output_type": "stream",
       "stream": "stdout",
       "text": [
        "Opening 136 archive files\n",
        "Opening 136 archive files"
       ]
      },
      {
       "output_type": "stream",
       "stream": "stdout",
       "text": [
        "\n"
       ]
      }
     ],
     "prompt_number": 2
    },
    {
     "cell_type": "markdown",
     "metadata": {},
     "source": [
      "Now let's isolate the messages involving Fernando Perez.\n",
      "\n",
      "This includes both messages from Fernando, and messages to Fernando."
     ]
    },
    {
     "cell_type": "code",
     "collapsed": false,
     "input": [
      "[m for m in messages[:10] if 'Fernando' in m.get('From')]"
     ],
     "language": "python",
     "metadata": {},
     "outputs": [
      {
       "metadata": {},
       "output_type": "pyout",
       "prompt_number": 15,
       "text": [
        "[<mailbox.mboxMessage instance at 0x7f0e5c06be60>,\n",
        " <mailbox.mboxMessage instance at 0x7f0e562ef710>,\n",
        " <mailbox.mboxMessage instance at 0x7f0e562efcf8>,\n",
        " <mailbox.mboxMessage instance at 0x7f0e562ef908>]"
       ]
      }
     ],
     "prompt_number": 15
    },
    {
     "cell_type": "code",
     "collapsed": false,
     "input": [
      "from_fernando = [m for m in messages if m.get(\"From\") is not None and \"Fernando\" in m.get('From')]"
     ],
     "language": "python",
     "metadata": {},
     "outputs": [],
     "prompt_number": 20
    },
    {
     "cell_type": "code",
     "collapsed": false,
     "input": [
      "from_fernando\n",
      "\n",
      "print len(messages)\n",
      "print len(from_fernando)"
     ],
     "language": "python",
     "metadata": {},
     "outputs": [
      {
       "output_type": "stream",
       "stream": "stdout",
       "text": [
        "28151\n",
        "6047\n"
       ]
      }
     ],
     "prompt_number": 21
    },
    {
     "cell_type": "markdown",
     "metadata": {},
     "source": [
      "Further progress on this notebook is blocking on this issue:\n",
      "\n",
      "https://github.com/sbenthall/bigbang/issues/42"
     ]
    },
    {
     "cell_type": "code",
     "collapsed": false,
     "input": [],
     "language": "python",
     "metadata": {},
     "outputs": []
    }
   ],
   "metadata": {}
  }
 ]
}