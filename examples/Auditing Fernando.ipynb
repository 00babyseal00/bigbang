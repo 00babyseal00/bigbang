{
 "metadata": {
  "name": "",
  "signature": "sha256:816454bfce3652df17128f8a11168c0a4bd69f33bf34a813ec086cffc9be60e3"
 },
 "nbformat": 3,
 "nbformat_minor": 0,
 "worksheets": [
  {
   "cells": [
    {
     "cell_type": "markdown",
     "metadata": {},
     "source": [
      "This note will show you how to use BigBang to investigate a particular project participant's activity.\n",
      "\n",
      "We will focus on Fernando Perez's role within the IPython community.\n",
      "\n",
      "First, imports."
     ]
    },
    {
     "cell_type": "code",
     "collapsed": false,
     "input": [
      "from bigbang.mailman import open_list_archives"
     ],
     "language": "python",
     "metadata": {},
     "outputs": [],
     "prompt_number": 1
    },
    {
     "cell_type": "markdown",
     "metadata": {},
     "source": [
      "Let's get all the available date from the IPython community. For now, this is just the mailing lists. One day, BigBang will also get its issue tracker data! That will be very exciting."
     ]
    },
    {
     "cell_type": "code",
     "collapsed": false,
     "input": [
      "urls = [\"http://mail.scipy.org/pipermail/ipython-dev/\",\n",
      "        \"http://mail.scipy.org/pipermail/ipython-user/\"]\n",
      "\n",
      "mls = [open_list_archives(url,\"../archives\") for url in urls]\n",
      "\n",
      "messages = [m for ml in mls for m in ml]"
     ],
     "language": "python",
     "metadata": {},
     "outputs": [
      {
       "output_type": "stream",
       "stream": "stdout",
       "text": [
        "Opening 136 archive files\n",
        "Opening 136 archive files"
       ]
      },
      {
       "output_type": "stream",
       "stream": "stdout",
       "text": [
        "\n"
       ]
      }
     ],
     "prompt_number": 3
    },
    {
     "cell_type": "markdown",
     "metadata": {},
     "source": [
      "Now let's isolate the messages involving Fernando Perez.\n",
      "\n",
      "This includes both messages from Fernando, and messages to Fernando."
     ]
    },
    {
     "cell_type": "code",
     "collapsed": false,
     "input": [
      "from_fernando = [m for m in messages if \"Fernando\" in m.get('From')]"
     ],
     "language": "python",
     "metadata": {},
     "outputs": [],
     "prompt_number": 7
    },
    {
     "cell_type": "code",
     "collapsed": false,
     "input": [
      "from_fernando\n",
      "\n",
      "print len(messages)\n",
      "print len(from_fernando)"
     ],
     "language": "python",
     "metadata": {},
     "outputs": [
      {
       "output_type": "stream",
       "stream": "stdout",
       "text": [
        "28134\n",
        "6047\n"
       ]
      }
     ],
     "prompt_number": 10
    },
    {
     "cell_type": "code",
     "collapsed": false,
     "input": [],
     "language": "python",
     "metadata": {},
     "outputs": []
    }
   ],
   "metadata": {}
  }
 ]
}