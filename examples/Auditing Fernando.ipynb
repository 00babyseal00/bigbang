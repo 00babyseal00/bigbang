{
 "metadata": {
  "name": "",
  "signature": "sha256:d4426110b43d5b95fd5b433b3e3da57e9d1ab08a6c4c123049da306a702504f4"
 },
 "nbformat": 3,
 "nbformat_minor": 0,
 "worksheets": [
  {
   "cells": [
    {
     "cell_type": "markdown",
     "metadata": {},
     "source": [
      "This note will show you how to use BigBang to investigate a particular project participant's activity.\n",
      "\n",
      "We will focus on Fernando Perez's role within the IPython community.\n",
      "\n",
      "First, imports."
     ]
    },
    {
     "cell_type": "code",
     "collapsed": false,
     "input": [
      "from bigbang.archive import Archive"
     ],
     "language": "python",
     "metadata": {},
     "outputs": [],
     "prompt_number": 1
    },
    {
     "cell_type": "markdown",
     "metadata": {},
     "source": [
      "Let's get all the available date from the IPython community. For now, this is just the mailing lists. One day, BigBang will also get its issue tracker data! That will be very exciting."
     ]
    },
    {
     "cell_type": "code",
     "collapsed": false,
     "input": [
      "urls = [\"http://mail.scipy.org/pipermail/ipython-dev/\",\n",
      "        \"http://mail.scipy.org/pipermail/ipython-user/\"]\n",
      "\n",
      "archives = [Archive(url,archive_dir=\"../archives\") for url in urls]"
     ],
     "language": "python",
     "metadata": {},
     "outputs": [
      {
       "output_type": "stream",
       "stream": "stdout",
       "text": [
        "Opening 136 archive files\n",
        "Opening 136 archive files"
       ]
      },
      {
       "output_type": "stream",
       "stream": "stdout",
       "text": [
        "\n"
       ]
      }
     ],
     "prompt_number": 2
    },
    {
     "cell_type": "markdown",
     "metadata": {},
     "source": [
      "Now let's isolate the messages involving Fernando Perez.\n",
      "\n",
      "This includes both messages from Fernando, and messages to Fernando."
     ]
    },
    {
     "cell_type": "code",
     "collapsed": false,
     "input": [
      "arx = archives[0]\n",
      "arx.data[arx.data.From.map(lambda x: 'Fernando' in x)][:3]\n"
     ],
     "language": "python",
     "metadata": {},
     "outputs": [
      {
       "html": [
        "<div style=\"max-height:1000px;max-width:1500px;overflow:auto;\">\n",
        "<table border=\"1\" class=\"dataframe\">\n",
        "  <thead>\n",
        "    <tr style=\"text-align: right;\">\n",
        "      <th></th>\n",
        "      <th>From</th>\n",
        "      <th>Subject</th>\n",
        "      <th>Date</th>\n",
        "      <th>In-Reply-To</th>\n",
        "      <th>References</th>\n",
        "      <th>Body</th>\n",
        "    </tr>\n",
        "    <tr>\n",
        "      <th>Message-ID</th>\n",
        "      <th></th>\n",
        "      <th></th>\n",
        "      <th></th>\n",
        "      <th></th>\n",
        "      <th></th>\n",
        "      <th></th>\n",
        "    </tr>\n",
        "  </thead>\n",
        "  <tbody>\n",
        "    <tr>\n",
        "      <th>&lt;db6b5ecc0807010012j211ffd8bx818ab7792c1dbdc@mail.gmail.com&gt;</th>\n",
        "      <td> fperez.net@gmail.... (Fernando Perez)</td>\n",
        "      <td>               [IPython-dev] frontend plans</td>\n",
        "      <td> 2008-07-01 00:12:29-07:00</td>\n",
        "      <td>      &lt;20080701052759.GA4509@phare.normalesup.org&gt;</td>\n",
        "      <td> &lt;cd7634ce0806251133i305d0b1dsccf083e3c64fcf73@...</td>\n",
        "      <td> On Mon, Jun 30, 2008 at 10:27 PM, Gael Varoqua...</td>\n",
        "    </tr>\n",
        "    <tr>\n",
        "      <th>&lt;db6b5ecc0807021021l13f3f44by9069b81432c9f8f5@mail.gmail.com&gt;</th>\n",
        "      <td> fperez.net@gmail.... (Fernando Perez)</td>\n",
        "      <td> [IPython-dev] how to filter launchpad bugs</td>\n",
        "      <td> 2008-07-02 10:21:16-07:00</td>\n",
        "      <td> &lt;85b5c3130807020638j3e73008fkd0435aed52d13de3@...</td>\n",
        "      <td> &lt;85b5c3130807020638j3e73008fkd0435aed52d13de3@...</td>\n",
        "      <td> On Wed, Jul 2, 2008 at 6:38 AM, Ondrej Certik ...</td>\n",
        "    </tr>\n",
        "    <tr>\n",
        "      <th>&lt;db6b5ecc0807021044l75144d2pe3cc80b660641989@mail.gmail.com&gt;</th>\n",
        "      <td> fperez.net@gmail.... (Fernando Perez)</td>\n",
        "      <td> [IPython-dev] how to filter launchpad bugs</td>\n",
        "      <td> 2008-07-02 10:44:40-07:00</td>\n",
        "      <td> &lt;85b5c3130807021030q4d0d2e14h5f63fa94d1997670@...</td>\n",
        "      <td> &lt;85b5c3130807020638j3e73008fkd0435aed52d13de3@...</td>\n",
        "      <td> On Wed, Jul 2, 2008 at 10:30 AM, Ondrej Certik...</td>\n",
        "    </tr>\n",
        "  </tbody>\n",
        "</table>\n",
        "<p>3 rows \u00d7 6 columns</p>\n",
        "</div>"
       ],
       "metadata": {},
       "output_type": "pyout",
       "prompt_number": 13,
       "text": [
        "                                                                                                From  \\\n",
        "Message-ID                                                                                             \n",
        "<db6b5ecc0807010012j211ffd8bx818ab7792c1dbdc@mail.gmail.com>   fperez.net@gmail.... (Fernando Perez)   \n",
        "<db6b5ecc0807021021l13f3f44by9069b81432c9f8f5@mail.gmail.com>  fperez.net@gmail.... (Fernando Perez)   \n",
        "<db6b5ecc0807021044l75144d2pe3cc80b660641989@mail.gmail.com>   fperez.net@gmail.... (Fernando Perez)   \n",
        "\n",
        "                                                                                                  Subject  \\\n",
        "Message-ID                                                                                                  \n",
        "<db6b5ecc0807010012j211ffd8bx818ab7792c1dbdc@mail.gmail.com>                 [IPython-dev] frontend plans   \n",
        "<db6b5ecc0807021021l13f3f44by9069b81432c9f8f5@mail.gmail.com>  [IPython-dev] how to filter launchpad bugs   \n",
        "<db6b5ecc0807021044l75144d2pe3cc80b660641989@mail.gmail.com>   [IPython-dev] how to filter launchpad bugs   \n",
        "\n",
        "                                                                                    Date  \\\n",
        "Message-ID                                                                                 \n",
        "<db6b5ecc0807010012j211ffd8bx818ab7792c1dbdc@mail.gmail.com>   2008-07-01 00:12:29-07:00   \n",
        "<db6b5ecc0807021021l13f3f44by9069b81432c9f8f5@mail.gmail.com>  2008-07-02 10:21:16-07:00   \n",
        "<db6b5ecc0807021044l75144d2pe3cc80b660641989@mail.gmail.com>   2008-07-02 10:44:40-07:00   \n",
        "\n",
        "                                                                                                     In-Reply-To  \\\n",
        "Message-ID                                                                                                         \n",
        "<db6b5ecc0807010012j211ffd8bx818ab7792c1dbdc@mail.gmail.com>        <20080701052759.GA4509@phare.normalesup.org>   \n",
        "<db6b5ecc0807021021l13f3f44by9069b81432c9f8f5@mail.gmail.com>  <85b5c3130807020638j3e73008fkd0435aed52d13de3@...   \n",
        "<db6b5ecc0807021044l75144d2pe3cc80b660641989@mail.gmail.com>   <85b5c3130807021030q4d0d2e14h5f63fa94d1997670@...   \n",
        "\n",
        "                                                                                                      References  \\\n",
        "Message-ID                                                                                                         \n",
        "<db6b5ecc0807010012j211ffd8bx818ab7792c1dbdc@mail.gmail.com>   <cd7634ce0806251133i305d0b1dsccf083e3c64fcf73@...   \n",
        "<db6b5ecc0807021021l13f3f44by9069b81432c9f8f5@mail.gmail.com>  <85b5c3130807020638j3e73008fkd0435aed52d13de3@...   \n",
        "<db6b5ecc0807021044l75144d2pe3cc80b660641989@mail.gmail.com>   <85b5c3130807020638j3e73008fkd0435aed52d13de3@...   \n",
        "\n",
        "                                                                                                            Body  \n",
        "Message-ID                                                                                                        \n",
        "<db6b5ecc0807010012j211ffd8bx818ab7792c1dbdc@mail.gmail.com>   On Mon, Jun 30, 2008 at 10:27 PM, Gael Varoqua...  \n",
        "<db6b5ecc0807021021l13f3f44by9069b81432c9f8f5@mail.gmail.com>  On Wed, Jul 2, 2008 at 6:38 AM, Ondrej Certik ...  \n",
        "<db6b5ecc0807021044l75144d2pe3cc80b660641989@mail.gmail.com>   On Wed, Jul 2, 2008 at 10:30 AM, Ondrej Certik...  \n",
        "\n",
        "[3 rows x 6 columns]"
       ]
      }
     ],
     "prompt_number": 13
    },
    {
     "cell_type": "code",
     "collapsed": false,
     "input": [
      "from_fernando = [arx.data[arx.data.From.map(lambda x: 'Fernando' in x)] \n",
      "                 for arx in archives]"
     ],
     "language": "python",
     "metadata": {},
     "outputs": [],
     "prompt_number": 14
    },
    {
     "cell_type": "code",
     "collapsed": false,
     "input": [
      "print len(arx)\n",
      "print len(from_fernando[0])"
     ],
     "language": "python",
     "metadata": {},
     "outputs": [
      {
       "output_type": "stream",
       "stream": "stdout",
       "text": [
        "28134\n",
        "6047\n"
       ]
      }
     ],
     "prompt_number": 10
    },
    {
     "cell_type": "markdown",
     "metadata": {},
     "source": [
      "Further progress on this notebook is blocking on this issue:\n",
      "\n",
      "https://github.com/sbenthall/bigbang/issues/42"
     ]
    },
    {
     "cell_type": "code",
     "collapsed": false,
     "input": [],
     "language": "python",
     "metadata": {},
     "outputs": []
    }
   ],
   "metadata": {}
  }
 ]
}