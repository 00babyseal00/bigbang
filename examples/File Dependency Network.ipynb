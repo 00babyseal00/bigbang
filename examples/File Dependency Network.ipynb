{
 "metadata": {
  "name": "",
  "signature": "sha256:f0be6224af28f011cbbd16b7e2fdd537215723891a6174984a295db534c92c13"
 },
 "nbformat": 3,
 "nbformat_minor": 0,
 "worksheets": [
  {
   "cells": [
    {
     "cell_type": "code",
     "collapsed": false,
     "input": [
      "%matplotlib inline\n",
      "\n",
      "import matplotlib.pyplot as plt\n",
      "import numpy as np\n",
      "import pandas as pd\n",
      "import networkx as nx"
     ],
     "language": "python",
     "metadata": {},
     "outputs": [
      {
       "output_type": "stream",
       "stream": "stdout",
       "text": [
        "Couldn't import dot_parser, loading of dot files will not be possible.\n"
       ]
      }
     ],
     "prompt_number": 1
    },
    {
     "cell_type": "code",
     "collapsed": false,
     "input": [
      "def create_dic(filename):\n",
      "    dic = {}\n",
      "    f = open(filename, 'r')\n",
      "    f.readline()\n",
      "    for line in f:\n",
      "        words = line.split(' ')\n",
      "        dic[words[1][1:-3]] = []\n",
      "    return dic\n",
      "\n",
      "def get_dependencies(dic, filename):\n",
      "    f = open(filename, 'r')\n",
      "    f.readline()\n",
      "    for line in f:\n",
      "        words = line.split(' ')\n",
      "        if words[3][:-3] != \"None\":\n",
      "            dic[words[1][1:-3]].append(words[3][1:-4])"
     ],
     "language": "python",
     "metadata": {},
     "outputs": [],
     "prompt_number": 2
    },
    {
     "cell_type": "markdown",
     "metadata": {},
     "source": [
      "Beore running these functions, the run_snakefood.py script must be run in order to create the dependencies text file."
     ]
    },
    {
     "cell_type": "code",
     "collapsed": false,
     "input": [
      "dic = create_dic(\"../bigbang/dependencies.txt\")\n",
      "get_dependencies(dic, \"../bigbang/dependencies.txt\")\n",
      "print dic"
     ],
     "language": "python",
     "metadata": {},
     "outputs": [
      {
       "output_type": "stream",
       "stream": "stdout",
       "text": [
        "{'bigbang/w3crawl.py': ['bigbang/mailman.py', 'bigbang/parse.py', 'email', 'email/mime/text.py', 'email/parser.py', 'gzip.py', 'logging', 'mailbox.py', 'os.py', 're.py', 'time', 'urllib.py', 'urllib2.py', 'urlparse.py', 'bs4', 'dateutil'], 'bigbang/utils.py': [], 'bigbang/repo_loader.py': ['bigbang/git_repo.py', 'json', 'os.py', 're.py', 'subprocess.py', 'sys', 'pandas'], 'bigbang/mailman.py': ['bigbang/parse.py', 'bigbang/w3crawl.py', 'gzip.py', 'mailbox.py', 'os.py', 'pprint.py', 're.py', 'urllib.py', 'urllib2.py', 'warnings.py', 'chardet', 'html2text', 'pandas'], 'bigbang/thread.py': ['bigbang/utils.py'], 'bigbang/git_repo.py': ['time', 'numpy', 'datetime.x86_64-linux-gnu.so', 'git', 'pandas'], 'bigbang/process.py': ['bigbang/parse.py', 'email/utils.py', 'functools.py', 'numpy', 'datetime.x86_64-linux-gnu.so', 'Levenshtein', 'pandas'], 'bigbang/graph.py': ['bigbang/parse.py', 'bigbang/process.py', 'collections.py', 'math', 'pprint.py', 'numpy', 'networkx', 'pandas'], 'bigbang/twopeople.py': ['bigbang/archive.py', 'bigbang/graph.py', 'bigbang/mailman.py', 'bigbang/parse.py', 'bigbang/process.py', 'pprint.py', 'numpy', 'matplotlib/pyplot.py', 'networkx', 'pandas', 'pytz'], 'bigbang/parse.py': ['email', 'pprint.py', 're.py', 'warnings.py', 'dateutil/parser.py', 'pytz'], 'bigbang/entity_resolution.py': ['re.py', 'numpy', 'pandas'], 'bigbang/archive.py': ['bigbang/mailman.py', 'bigbang/thread.py', 'bigbang/utils.py', 'mailbox.py', 'numpy', 'datetime.x86_64-linux-gnu.so', 'pandas', 'pytz'], 'bigbang/run_snakefood.py': ['sys', 'warnings.py', 'snakefood/gendeps.py']}\n"
       ]
      }
     ],
     "prompt_number": 3
    },
    {
     "cell_type": "raw",
     "metadata": {},
     "source": []
    },
    {
     "cell_type": "code",
     "collapsed": false,
     "input": [
      "def create_graph(dic):\n",
      "    G = nx.Graph()\n",
      "    \n",
      "    for f in dic:\n",
      "        for dependency in dic[f]:\n",
      "            #print dependency\n",
      "            G.add_edge(f, dependency)\n",
      "            \n",
      "    return G"
     ],
     "language": "python",
     "metadata": {},
     "outputs": [],
     "prompt_number": 4
    },
    {
     "cell_type": "code",
     "collapsed": false,
     "input": [
      "G = create_graph(dic)"
     ],
     "language": "python",
     "metadata": {},
     "outputs": [],
     "prompt_number": 5
    },
    {
     "cell_type": "code",
     "collapsed": false,
     "input": [
      "plt.figure(3,figsize=(12,12)) \n",
      "pos = nx.spring_layout(G)\n",
      "nx.draw(G, pos, font_size=8, with_labels = False)\n",
      "\n",
      "nx.draw_networkx_labels(G, pos);\n",
      "\n",
      "print nx.degree_assortativity_coefficient(G)"
     ],
     "language": "python",
     "metadata": {},
      "outputs": []
    },
    {
     "cell_type": "code",
     "collapsed": false,
     "input": [],
     "language": "python",
     "metadata": {},
     "outputs": []
    }
   ],
   "metadata": {}
  }
 ]
}
