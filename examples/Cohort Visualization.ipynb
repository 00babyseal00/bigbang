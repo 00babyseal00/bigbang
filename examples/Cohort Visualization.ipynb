{
 "metadata": {
  "name": "",
  "signature": "sha256:625b3b6aae12323d8d6ffc88f3745bd0fc512d42222a578538cee67c191c92a3"
 },
 "nbformat": 3,
 "nbformat_minor": 0,
 "worksheets": [
  {
   "cells": [
    {
     "cell_type": "code",
     "collapsed": false,
     "input": [
      "%matplotlib inline"
     ],
     "language": "python",
     "metadata": {},
     "outputs": [],
     "prompt_number": 1
    },
    {
     "cell_type": "code",
     "collapsed": false,
     "input": [
      "from bigbang.archive import Archive\n",
      "import matplotlib.pyplot as plt\n",
      "import numpy as np\n",
      "import pandas as pd"
     ],
     "language": "python",
     "metadata": {},
     "outputs": [],
     "prompt_number": 2
    },
    {
     "cell_type": "markdown",
     "metadata": {},
     "source": [
      "One interesting question for open source communities is whether they are *growing*. Often the founding members of a community would like to see new participants join and become active in the community. This is important for community longevity; ultimatley new members are required to take leadership roles if a project is to sustain itself over time.\n",
      "\n",
      "The data available for community participation is very granular, as it can include the exact traces of the messages sent by participants over a long history. One way of summarizing this information to get a sense of overall community growth is a *cohort visualization*.\n",
      "\n",
      "In this notebook, we will produce a visualization of changing participation over time."
     ]
    },
    {
     "cell_type": "code",
     "collapsed": false,
     "input": [
      "url = \"http://mail.scipy.org/pipermail/numpy-discussion/\"\n",
      "arx = Archive(url,archive_dir=\"../archives\")"
     ],
     "language": "python",
     "metadata": {},
     "outputs": [
      {
       "output_type": "stream",
       "stream": "stdout",
       "text": [
        "No data found at http://mail.scipy.org/pipermail/numpy-discussion/. Attempting to collect data from URL.\n",
        "This could take a while.\n",
        "'Getting archive page for numpy-discussion'\n",
        "["
       ]
      },
      {
       "output_type": "stream",
       "stream": "stdout",
       "text": [
        "'2014-November.txt.gz',\n",
        " '2014-October.txt.gz',\n",
        " '2014-September.txt.gz',\n",
        " '2014-August.txt.gz',\n",
        " '2014-July.txt.gz',\n",
        " '2014-June.txt.gz',\n",
        " '2014-May.txt.gz',\n",
        " '2014-April.txt.gz',\n",
        " '2014-March.txt.gz',\n",
        " '2014-February.txt.gz',\n",
        " '2014-January.txt.gz',\n",
        " '2013-December.txt.gz',\n",
        " '2013-November.txt.gz',\n",
        " '2013-October.txt.gz',\n",
        " '2013-September.txt.gz',\n",
        " '2013-August.txt.gz',\n",
        " '2013-July.txt.gz',\n",
        " '2013-June.txt.gz',\n",
        " '2013-May.txt.gz',\n",
        " '2013-April.txt.gz',\n",
        " '2013-March.txt.gz',\n",
        " '2013-February.txt.gz',\n",
        " '2013-January.txt.gz',\n",
        " '2012-December.txt.gz',\n",
        " '2012-November.txt.gz',\n",
        " '2012-October.txt.gz',\n",
        " '2012-September.txt.gz',\n",
        " '2012-August.txt.gz',\n",
        " '2012-July.txt.gz',\n",
        " '2012-June.txt.gz',\n",
        " '2012-May.txt.gz',\n",
        " '2012-April.txt.gz',\n",
        " '2012-March.txt.gz',\n",
        " '2012-February.txt.gz',\n",
        " '2012-January.txt.gz',\n",
        " '2011-December.txt.gz',\n",
        " '2011-November.txt.gz',\n",
        " '2011-October.txt.gz',\n",
        " '2011-September.txt.gz',\n",
        " '2011-August.txt.gz',\n",
        " '2011-July.txt.gz',\n",
        " '2011-June.txt.gz',\n",
        " '2011-May.txt.gz',\n",
        " '2011-April.txt.gz',\n",
        " '2011-March.txt.gz',\n",
        " '2011-February.txt.gz',\n",
        " '2011-January.txt.gz',\n",
        " '2010-December.txt.gz',\n",
        " '2010-November.txt.gz',\n",
        " '2010-October.txt.gz',\n",
        " '2010-September.txt.gz',\n",
        " '2010-August.txt.gz',\n",
        " '2010-July.txt.gz',\n",
        " '2010-June.txt.gz',\n",
        " '2010-May.txt.gz',\n",
        " '2010-April.txt.gz',\n",
        " '2010-March.txt.gz',\n",
        " '2010-February.txt.gz',\n",
        " '2010-January.txt.gz',\n",
        " '2009-December.txt.gz',\n",
        " '2009-November.txt.gz',\n",
        " '2009-October.txt.gz',\n",
        " '2009-September.txt.gz',\n",
        " '2009-August.txt.gz',\n",
        " '2009-July.txt.gz',\n",
        " '2009-June.txt.gz',\n",
        " '2009-May.txt.gz',\n",
        " '2009-April.txt.gz',\n",
        " '2009-March.txt.gz',\n",
        " '2009-February.txt.gz',\n",
        " '2009-January.txt.gz',\n",
        " '2008-December.txt.gz',\n",
        " '2008-November.txt.gz',\n",
        " '2008-October.txt.gz',\n",
        " '2008-September.txt.gz',\n",
        " '2008-August.txt.gz',\n",
        " '2008-July.txt.gz',\n",
        " '2008-June.txt.gz',\n",
        " '2008-May.txt.gz',\n",
        " '2008-April.txt.gz',\n",
        " '2008-March.txt.gz',\n",
        " '2008-February.txt.gz',\n",
        " '2008-January.txt.gz',\n",
        " '2007-December.txt.gz',\n",
        " '2007-November.txt.gz',\n",
        " '2007-October.txt.gz',\n",
        " '2007-September.txt.gz',\n",
        " '2007-August.txt.gz',\n",
        " '2007-July.txt.gz',\n",
        " '2007-June.txt.gz',\n",
        " '2007-May.txt.gz',\n",
        " '2007-April.txt.gz',\n",
        " '2007-March.txt.gz',\n",
        " '2007-February.txt.gz',\n",
        " '2007-January.txt.gz',\n",
        " '2006-December.txt.gz',\n",
        " '2006-November.txt.gz',\n",
        " '2006-October.txt.gz',\n",
        " '2006-September.txt.gz',\n",
        " '2006-August.txt.gz',\n",
        " '2006-July.txt.gz',\n",
        " '2006-June.txt.gz',\n",
        " '2006-May.txt.gz',\n",
        " '2006-April.txt.gz',\n",
        " '2006-March.txt.gz',\n",
        " '2006-February.txt.gz',\n",
        " '2006-January.txt.gz',\n",
        " '2005-December.txt.gz',\n",
        " '2005-November.txt.gz',\n",
        " '2005-October.txt.gz',\n",
        " '2005-September.txt.gz',\n",
        " '2005-August.txt.gz',\n",
        " '2005-July.txt.gz',\n",
        " '2005-June.txt.gz',\n",
        " '2005-May.txt.gz',\n",
        " '2005-April.txt.gz',\n",
        " '2005-March.txt.gz',\n",
        " '2005-February.txt.gz',\n",
        " '2005-January.txt.gz',\n",
        " '2004-December.txt.gz',\n",
        " '2004-November.txt.gz',\n",
        " '2004-October.txt.gz',\n",
        " '2004-September.txt.gz',\n",
        " '2004-August.txt.gz',\n",
        " '2004-July.txt.gz',\n",
        " '2004-June.txt.gz',\n",
        " '2004-May.txt.gz',\n",
        " '2004-April.txt.gz',\n",
        " '2004-March.txt.gz',\n",
        " '2004-February.txt.gz',\n",
        " '2004-January.txt.gz',\n",
        " '2003-December.txt.gz',\n",
        " '2003-November.txt.gz',\n",
        " '2003-October.txt.gz',\n",
        " '2003-September.txt.gz',\n",
        " '2003-August.txt.gz',\n",
        " '2003-July.txt.gz',\n",
        " '2003-June.txt.gz',\n",
        " '2003-May.txt.gz',\n",
        " '2003-April.txt.gz',\n",
        " '2003-March.txt.gz',\n",
        " '2003-February.txt.gz',\n",
        " '2003-January.txt.gz',\n",
        " '2002-December.txt.gz',\n",
        " '2002-November.txt.gz',\n",
        " '2002-October.txt.gz',\n",
        " '2002-September.txt.gz',\n",
        " '2002-August.txt.gz',\n",
        " '2002-July.txt.gz',\n",
        " '2002-June.txt.gz',\n",
        " '2002-May.txt.gz',\n",
        " '2002-April.txt.gz',\n",
        " '2002-March.txt.gz',\n",
        " '2002-February.txt.gz',\n",
        " '2002-January.txt.gz',\n",
        " '2001-December.txt.gz',\n",
        " '2001-November.txt.gz',\n",
        " '2001-October.txt.gz',\n",
        " '2001-September.txt.gz',\n",
        " '2001-August.txt.gz',\n",
        " '2001-July.txt.gz',\n",
        " '2001-June.txt.gz',\n",
        " '2001-May.txt.gz',\n",
        " '2001-April.txt.gz',\n",
        " '2001-March.txt.gz',\n",
        " '2001-February.txt.gz',\n",
        " '2001-January.txt.gz',\n",
        " '2000-December.txt.gz',\n",
        " '2000-November.txt.gz',\n",
        " '2000-October.txt.gz',\n",
        " '2000-September.txt.gz',\n",
        " '2000-August.txt.gz',\n",
        " '2000-July.txt.gz',\n",
        " '2000-June.txt.gz',\n",
        " '2000-May.txt.gz',\n",
        " '2000-April.txt.gz',\n",
        " '2000-March.txt.gz',\n",
        " '2000-February.txt.gz',\n",
        " '2000-January.txt.gz']\n",
        "'retrieving http://mail.scipy.org/pipermail/numpy-discussion/2014-November.txt.gz'\n",
        "200 - writing file to archives/numpy-discussion/2014-November.txt.gz"
       ]
      },
      {
       "output_type": "stream",
       "stream": "stdout",
       "text": [
        "\n",
        "'retrieving http://mail.scipy.org/pipermail/numpy-discussion/2014-October.txt.gz'"
       ]
      },
      {
       "output_type": "stream",
       "stream": "stdout",
       "text": [
        "\n",
        "200 - writing file to archives/numpy-discussion/2014-October.txt.gz"
       ]
      },
      {
       "output_type": "stream",
       "stream": "stdout",
       "text": [
        "\n",
        "'retrieving http://mail.scipy.org/pipermail/numpy-discussion/2014-September.txt.gz'"
       ]
      },
      {
       "output_type": "stream",
       "stream": "stdout",
       "text": [
        "\n",
        "200 - writing file to archives/numpy-discussion/2014-September.txt.gz"
       ]
      },
      {
       "output_type": "stream",
       "stream": "stdout",
       "text": [
        "\n",
        "'retrieving http://mail.scipy.org/pipermail/numpy-discussion/2014-August.txt.gz'"
       ]
      },
      {
       "output_type": "stream",
       "stream": "stdout",
       "text": [
        "\n",
        "200 - writing file to archives/numpy-discussion/2014-August.txt.gz"
       ]
      },
      {
       "output_type": "stream",
       "stream": "stdout",
       "text": [
        "\n",
        "'retrieving http://mail.scipy.org/pipermail/numpy-discussion/2014-July.txt.gz'"
       ]
      },
      {
       "output_type": "stream",
       "stream": "stdout",
       "text": [
        "\n",
        "200 - writing file to archives/numpy-discussion/2014-July.txt.gz"
       ]
      },
      {
       "output_type": "stream",
       "stream": "stdout",
       "text": [
        "\n",
        "'retrieving http://mail.scipy.org/pipermail/numpy-discussion/2014-June.txt.gz'"
       ]
      },
      {
       "output_type": "stream",
       "stream": "stdout",
       "text": [
        "\n",
        "200 - writing file to archives/numpy-discussion/2014-June.txt.gz"
       ]
      },
      {
       "output_type": "stream",
       "stream": "stdout",
       "text": [
        "\n",
        "'retrieving http://mail.scipy.org/pipermail/numpy-discussion/2014-May.txt.gz'"
       ]
      },
      {
       "output_type": "stream",
       "stream": "stdout",
       "text": [
        "\n",
        "200 - writing file to archives/numpy-discussion/2014-May.txt.gz"
       ]
      },
      {
       "output_type": "stream",
       "stream": "stdout",
       "text": [
        "\n",
        "'retrieving http://mail.scipy.org/pipermail/numpy-discussion/2014-April.txt.gz'"
       ]
      },
      {
       "output_type": "stream",
       "stream": "stdout",
       "text": [
        "\n",
        "200 - writing file to archives/numpy-discussion/2014-April.txt.gz"
       ]
      },
      {
       "output_type": "stream",
       "stream": "stdout",
       "text": [
        "\n",
        "'retrieving http://mail.scipy.org/pipermail/numpy-discussion/2014-March.txt.gz'"
       ]
      },
      {
       "output_type": "stream",
       "stream": "stdout",
       "text": [
        "\n",
        "200 - writing file to archives/numpy-discussion/2014-March.txt.gz"
       ]
      },
      {
       "output_type": "stream",
       "stream": "stdout",
       "text": [
        "\n",
        "'retrieving http://mail.scipy.org/pipermail/numpy-discussion/2014-February.txt.gz'"
       ]
      },
      {
       "output_type": "stream",
       "stream": "stdout",
       "text": [
        "\n",
        "200 - writing file to archives/numpy-discussion/2014-February.txt.gz"
       ]
      },
      {
       "output_type": "stream",
       "stream": "stdout",
       "text": [
        "\n",
        "'retrieving http://mail.scipy.org/pipermail/numpy-discussion/2014-January.txt.gz'"
       ]
      },
      {
       "output_type": "stream",
       "stream": "stdout",
       "text": [
        "\n",
        "200 - writing file to archives/numpy-discussion/2014-January.txt.gz"
       ]
      },
      {
       "output_type": "stream",
       "stream": "stdout",
       "text": [
        "\n",
        "'retrieving http://mail.scipy.org/pipermail/numpy-discussion/2013-December.txt.gz'"
       ]
      },
      {
       "output_type": "stream",
       "stream": "stdout",
       "text": [
        "\n",
        "200 - writing file to archives/numpy-discussion/2013-December.txt.gz"
       ]
      },
      {
       "output_type": "stream",
       "stream": "stdout",
       "text": [
        "\n",
        "'retrieving http://mail.scipy.org/pipermail/numpy-discussion/2013-November.txt.gz'"
       ]
      },
      {
       "output_type": "stream",
       "stream": "stdout",
       "text": [
        "\n",
        "200 - writing file to archives/numpy-discussion/2013-November.txt.gz"
       ]
      },
      {
       "output_type": "stream",
       "stream": "stdout",
       "text": [
        "\n",
        "'retrieving http://mail.scipy.org/pipermail/numpy-discussion/2013-October.txt.gz'"
       ]
      },
      {
       "output_type": "stream",
       "stream": "stdout",
       "text": [
        "\n",
        "200 - writing file to archives/numpy-discussion/2013-October.txt.gz"
       ]
      },
      {
       "output_type": "stream",
       "stream": "stdout",
       "text": [
        "\n",
        "'retrieving http://mail.scipy.org/pipermail/numpy-discussion/2013-September.txt.gz'"
       ]
      },
      {
       "output_type": "stream",
       "stream": "stdout",
       "text": [
        "\n",
        "200 - writing file to archives/numpy-discussion/2013-September.txt.gz"
       ]
      },
      {
       "output_type": "stream",
       "stream": "stdout",
       "text": [
        "\n",
        "'retrieving http://mail.scipy.org/pipermail/numpy-discussion/2013-August.txt.gz'"
       ]
      },
      {
       "output_type": "stream",
       "stream": "stdout",
       "text": [
        "\n",
        "200 - writing file to archives/numpy-discussion/2013-August.txt.gz"
       ]
      },
      {
       "output_type": "stream",
       "stream": "stdout",
       "text": [
        "\n",
        "'retrieving http://mail.scipy.org/pipermail/numpy-discussion/2013-July.txt.gz'"
       ]
      },
      {
       "output_type": "stream",
       "stream": "stdout",
       "text": [
        "\n",
        "200 - writing file to archives/numpy-discussion/2013-July.txt.gz"
       ]
      },
      {
       "output_type": "stream",
       "stream": "stdout",
       "text": [
        "\n",
        "'retrieving http://mail.scipy.org/pipermail/numpy-discussion/2013-June.txt.gz'"
       ]
      },
      {
       "output_type": "stream",
       "stream": "stdout",
       "text": [
        "\n",
        "200 - writing file to archives/numpy-discussion/2013-June.txt.gz"
       ]
      },
      {
       "output_type": "stream",
       "stream": "stdout",
       "text": [
        "\n",
        "'retrieving http://mail.scipy.org/pipermail/numpy-discussion/2013-May.txt.gz'"
       ]
      },
      {
       "output_type": "stream",
       "stream": "stdout",
       "text": [
        "\n",
        "200 - writing file to archives/numpy-discussion/2013-May.txt.gz"
       ]
      },
      {
       "output_type": "stream",
       "stream": "stdout",
       "text": [
        "\n",
        "'retrieving http://mail.scipy.org/pipermail/numpy-discussion/2013-April.txt.gz'"
       ]
      },
      {
       "output_type": "stream",
       "stream": "stdout",
       "text": [
        "\n",
        "200 - writing file to archives/numpy-discussion/2013-April.txt.gz"
       ]
      },
      {
       "output_type": "stream",
       "stream": "stdout",
       "text": [
        "\n",
        "'retrieving http://mail.scipy.org/pipermail/numpy-discussion/2013-March.txt.gz'"
       ]
      },
      {
       "output_type": "stream",
       "stream": "stdout",
       "text": [
        "\n",
        "200 - writing file to archives/numpy-discussion/2013-March.txt.gz"
       ]
      },
      {
       "output_type": "stream",
       "stream": "stdout",
       "text": [
        "\n",
        "'retrieving http://mail.scipy.org/pipermail/numpy-discussion/2013-February.txt.gz'"
       ]
      },
      {
       "output_type": "stream",
       "stream": "stdout",
       "text": [
        "\n",
        "200 - writing file to archives/numpy-discussion/2013-February.txt.gz"
       ]
      },
      {
       "output_type": "stream",
       "stream": "stdout",
       "text": [
        "\n",
        "'retrieving http://mail.scipy.org/pipermail/numpy-discussion/2013-January.txt.gz'"
       ]
      },
      {
       "output_type": "stream",
       "stream": "stdout",
       "text": [
        "\n",
        "200 - writing file to archives/numpy-discussion/2013-January.txt.gz"
       ]
      },
      {
       "output_type": "stream",
       "stream": "stdout",
       "text": [
        "\n",
        "'retrieving http://mail.scipy.org/pipermail/numpy-discussion/2012-December.txt.gz'"
       ]
      },
      {
       "output_type": "stream",
       "stream": "stdout",
       "text": [
        "\n",
        "200 - writing file to archives/numpy-discussion/2012-December.txt.gz"
       ]
      },
      {
       "output_type": "stream",
       "stream": "stdout",
       "text": [
        "\n",
        "'retrieving http://mail.scipy.org/pipermail/numpy-discussion/2012-November.txt.gz'"
       ]
      },
      {
       "output_type": "stream",
       "stream": "stdout",
       "text": [
        "\n",
        "200 - writing file to archives/numpy-discussion/2012-November.txt.gz"
       ]
      },
      {
       "output_type": "stream",
       "stream": "stdout",
       "text": [
        "\n",
        "'retrieving http://mail.scipy.org/pipermail/numpy-discussion/2012-October.txt.gz'"
       ]
      },
      {
       "output_type": "stream",
       "stream": "stdout",
       "text": [
        "\n",
        "200 - writing file to archives/numpy-discussion/2012-October.txt.gz"
       ]
      },
      {
       "output_type": "stream",
       "stream": "stdout",
       "text": [
        "\n",
        "'retrieving http://mail.scipy.org/pipermail/numpy-discussion/2012-September.txt.gz'"
       ]
      },
      {
       "output_type": "stream",
       "stream": "stdout",
       "text": [
        "\n",
        "200 - writing file to archives/numpy-discussion/2012-September.txt.gz"
       ]
      },
      {
       "output_type": "stream",
       "stream": "stdout",
       "text": [
        "\n",
        "'retrieving http://mail.scipy.org/pipermail/numpy-discussion/2012-August.txt.gz'"
       ]
      },
      {
       "output_type": "stream",
       "stream": "stdout",
       "text": [
        "\n",
        "200 - writing file to archives/numpy-discussion/2012-August.txt.gz"
       ]
      },
      {
       "output_type": "stream",
       "stream": "stdout",
       "text": [
        "\n",
        "'retrieving http://mail.scipy.org/pipermail/numpy-discussion/2012-July.txt.gz'"
       ]
      },
      {
       "output_type": "stream",
       "stream": "stdout",
       "text": [
        "\n",
        "200 - writing file to archives/numpy-discussion/2012-July.txt.gz"
       ]
      },
      {
       "output_type": "stream",
       "stream": "stdout",
       "text": [
        "\n",
        "'retrieving http://mail.scipy.org/pipermail/numpy-discussion/2012-June.txt.gz'"
       ]
      },
      {
       "output_type": "stream",
       "stream": "stdout",
       "text": [
        "\n",
        "200 - writing file to archives/numpy-discussion/2012-June.txt.gz"
       ]
      },
      {
       "output_type": "stream",
       "stream": "stdout",
       "text": [
        "\n",
        "'retrieving http://mail.scipy.org/pipermail/numpy-discussion/2012-May.txt.gz'"
       ]
      },
      {
       "output_type": "stream",
       "stream": "stdout",
       "text": [
        "\n",
        "200 - writing file to archives/numpy-discussion/2012-May.txt.gz"
       ]
      },
      {
       "output_type": "stream",
       "stream": "stdout",
       "text": [
        "\n",
        "'retrieving http://mail.scipy.org/pipermail/numpy-discussion/2012-April.txt.gz'"
       ]
      },
      {
       "output_type": "stream",
       "stream": "stdout",
       "text": [
        "\n",
        "200 - writing file to archives/numpy-discussion/2012-April.txt.gz"
       ]
      },
      {
       "output_type": "stream",
       "stream": "stdout",
       "text": [
        "\n",
        "'retrieving http://mail.scipy.org/pipermail/numpy-discussion/2012-March.txt.gz'"
       ]
      },
      {
       "output_type": "stream",
       "stream": "stdout",
       "text": [
        "\n",
        "200 - writing file to archives/numpy-discussion/2012-March.txt.gz"
       ]
      },
      {
       "output_type": "stream",
       "stream": "stdout",
       "text": [
        "\n",
        "'retrieving http://mail.scipy.org/pipermail/numpy-discussion/2012-February.txt.gz'"
       ]
      },
      {
       "output_type": "stream",
       "stream": "stdout",
       "text": [
        "\n",
        "200 - writing file to archives/numpy-discussion/2012-February.txt.gz"
       ]
      },
      {
       "output_type": "stream",
       "stream": "stdout",
       "text": [
        "\n",
        "'retrieving http://mail.scipy.org/pipermail/numpy-discussion/2012-January.txt.gz'"
       ]
      },
      {
       "output_type": "stream",
       "stream": "stdout",
       "text": [
        "\n",
        "200 - writing file to archives/numpy-discussion/2012-January.txt.gz"
       ]
      },
      {
       "output_type": "stream",
       "stream": "stdout",
       "text": [
        "\n",
        "'retrieving http://mail.scipy.org/pipermail/numpy-discussion/2011-December.txt.gz'"
       ]
      },
      {
       "output_type": "stream",
       "stream": "stdout",
       "text": [
        "\n",
        "200 - writing file to archives/numpy-discussion/2011-December.txt.gz"
       ]
      },
      {
       "output_type": "stream",
       "stream": "stdout",
       "text": [
        "\n",
        "'retrieving http://mail.scipy.org/pipermail/numpy-discussion/2011-November.txt.gz'"
       ]
      },
      {
       "output_type": "stream",
       "stream": "stdout",
       "text": [
        "\n",
        "200 - writing file to archives/numpy-discussion/2011-November.txt.gz"
       ]
      },
      {
       "output_type": "stream",
       "stream": "stdout",
       "text": [
        "\n",
        "'retrieving http://mail.scipy.org/pipermail/numpy-discussion/2011-October.txt.gz'"
       ]
      },
      {
       "output_type": "stream",
       "stream": "stdout",
       "text": [
        "\n",
        "200 - writing file to archives/numpy-discussion/2011-October.txt.gz"
       ]
      },
      {
       "output_type": "stream",
       "stream": "stdout",
       "text": [
        "\n",
        "'retrieving http://mail.scipy.org/pipermail/numpy-discussion/2011-September.txt.gz'"
       ]
      },
      {
       "output_type": "stream",
       "stream": "stdout",
       "text": [
        "\n",
        "200 - writing file to archives/numpy-discussion/2011-September.txt.gz"
       ]
      },
      {
       "output_type": "stream",
       "stream": "stdout",
       "text": [
        "\n",
        "'retrieving http://mail.scipy.org/pipermail/numpy-discussion/2011-August.txt.gz'"
       ]
      },
      {
       "output_type": "stream",
       "stream": "stdout",
       "text": [
        "\n",
        "200 - writing file to archives/numpy-discussion/2011-August.txt.gz"
       ]
      },
      {
       "output_type": "stream",
       "stream": "stdout",
       "text": [
        "\n",
        "'retrieving http://mail.scipy.org/pipermail/numpy-discussion/2011-July.txt.gz'"
       ]
      },
      {
       "output_type": "stream",
       "stream": "stdout",
       "text": [
        "\n",
        "200 - writing file to archives/numpy-discussion/2011-July.txt.gz"
       ]
      },
      {
       "output_type": "stream",
       "stream": "stdout",
       "text": [
        "\n",
        "'retrieving http://mail.scipy.org/pipermail/numpy-discussion/2011-June.txt.gz'"
       ]
      },
      {
       "output_type": "stream",
       "stream": "stdout",
       "text": [
        "\n",
        "200 - writing file to archives/numpy-discussion/2011-June.txt.gz"
       ]
      },
      {
       "output_type": "stream",
       "stream": "stdout",
       "text": [
        "\n",
        "'retrieving http://mail.scipy.org/pipermail/numpy-discussion/2011-May.txt.gz'"
       ]
      },
      {
       "output_type": "stream",
       "stream": "stdout",
       "text": [
        "\n",
        "200 - writing file to archives/numpy-discussion/2011-May.txt.gz"
       ]
      },
      {
       "output_type": "stream",
       "stream": "stdout",
       "text": [
        "\n",
        "'retrieving http://mail.scipy.org/pipermail/numpy-discussion/2011-April.txt.gz'"
       ]
      },
      {
       "output_type": "stream",
       "stream": "stdout",
       "text": [
        "\n",
        "200 - writing file to archives/numpy-discussion/2011-April.txt.gz"
       ]
      },
      {
       "output_type": "stream",
       "stream": "stdout",
       "text": [
        "\n",
        "'retrieving http://mail.scipy.org/pipermail/numpy-discussion/2011-March.txt.gz'"
       ]
      },
      {
       "output_type": "stream",
       "stream": "stdout",
       "text": [
        "\n",
        "200 - writing file to archives/numpy-discussion/2011-March.txt.gz"
       ]
      },
      {
       "output_type": "stream",
       "stream": "stdout",
       "text": [
        "\n",
        "'retrieving http://mail.scipy.org/pipermail/numpy-discussion/2011-February.txt.gz'"
       ]
      },
      {
       "output_type": "stream",
       "stream": "stdout",
       "text": [
        "\n",
        "200 - writing file to archives/numpy-discussion/2011-February.txt.gz"
       ]
      },
      {
       "output_type": "stream",
       "stream": "stdout",
       "text": [
        "\n",
        "'retrieving http://mail.scipy.org/pipermail/numpy-discussion/2011-January.txt.gz'"
       ]
      },
      {
       "output_type": "stream",
       "stream": "stdout",
       "text": [
        "\n",
        "200 - writing file to archives/numpy-discussion/2011-January.txt.gz"
       ]
      },
      {
       "output_type": "stream",
       "stream": "stdout",
       "text": [
        "\n",
        "'retrieving http://mail.scipy.org/pipermail/numpy-discussion/2010-December.txt.gz'"
       ]
      },
      {
       "output_type": "stream",
       "stream": "stdout",
       "text": [
        "\n",
        "200 - writing file to archives/numpy-discussion/2010-December.txt.gz"
       ]
      },
      {
       "output_type": "stream",
       "stream": "stdout",
       "text": [
        "\n",
        "'retrieving http://mail.scipy.org/pipermail/numpy-discussion/2010-November.txt.gz'"
       ]
      },
      {
       "output_type": "stream",
       "stream": "stdout",
       "text": [
        "\n",
        "200 - writing file to archives/numpy-discussion/2010-November.txt.gz"
       ]
      },
      {
       "output_type": "stream",
       "stream": "stdout",
       "text": [
        "\n",
        "'retrieving http://mail.scipy.org/pipermail/numpy-discussion/2010-October.txt.gz'"
       ]
      },
      {
       "output_type": "stream",
       "stream": "stdout",
       "text": [
        "\n",
        "200 - writing file to archives/numpy-discussion/2010-October.txt.gz"
       ]
      },
      {
       "output_type": "stream",
       "stream": "stdout",
       "text": [
        "\n",
        "'retrieving http://mail.scipy.org/pipermail/numpy-discussion/2010-September.txt.gz'"
       ]
      },
      {
       "output_type": "stream",
       "stream": "stdout",
       "text": [
        "\n",
        "200 - writing file to archives/numpy-discussion/2010-September.txt.gz"
       ]
      },
      {
       "output_type": "stream",
       "stream": "stdout",
       "text": [
        "\n",
        "'retrieving http://mail.scipy.org/pipermail/numpy-discussion/2010-August.txt.gz'"
       ]
      },
      {
       "output_type": "stream",
       "stream": "stdout",
       "text": [
        "\n",
        "200 - writing file to archives/numpy-discussion/2010-August.txt.gz"
       ]
      },
      {
       "output_type": "stream",
       "stream": "stdout",
       "text": [
        "\n",
        "'retrieving http://mail.scipy.org/pipermail/numpy-discussion/2010-July.txt.gz'"
       ]
      },
      {
       "output_type": "stream",
       "stream": "stdout",
       "text": [
        "\n",
        "200 - writing file to archives/numpy-discussion/2010-July.txt.gz"
       ]
      },
      {
       "output_type": "stream",
       "stream": "stdout",
       "text": [
        "\n",
        "'retrieving http://mail.scipy.org/pipermail/numpy-discussion/2010-June.txt.gz'"
       ]
      },
      {
       "output_type": "stream",
       "stream": "stdout",
       "text": [
        "\n",
        "200 - writing file to archives/numpy-discussion/2010-June.txt.gz"
       ]
      },
      {
       "output_type": "stream",
       "stream": "stdout",
       "text": [
        "\n",
        "'retrieving http://mail.scipy.org/pipermail/numpy-discussion/2010-May.txt.gz'"
       ]
      },
      {
       "output_type": "stream",
       "stream": "stdout",
       "text": [
        "\n",
        "200 - writing file to archives/numpy-discussion/2010-May.txt.gz"
       ]
      },
      {
       "output_type": "stream",
       "stream": "stdout",
       "text": [
        "\n",
        "'retrieving http://mail.scipy.org/pipermail/numpy-discussion/2010-April.txt.gz'"
       ]
      },
      {
       "output_type": "stream",
       "stream": "stdout",
       "text": [
        "\n",
        "200 - writing file to archives/numpy-discussion/2010-April.txt.gz"
       ]
      },
      {
       "output_type": "stream",
       "stream": "stdout",
       "text": [
        "\n",
        "'retrieving http://mail.scipy.org/pipermail/numpy-discussion/2010-March.txt.gz'"
       ]
      },
      {
       "output_type": "stream",
       "stream": "stdout",
       "text": [
        "\n",
        "200 - writing file to archives/numpy-discussion/2010-March.txt.gz"
       ]
      },
      {
       "output_type": "stream",
       "stream": "stdout",
       "text": [
        "\n",
        "'retrieving http://mail.scipy.org/pipermail/numpy-discussion/2010-February.txt.gz'"
       ]
      },
      {
       "output_type": "stream",
       "stream": "stdout",
       "text": [
        "\n",
        "200 - writing file to archives/numpy-discussion/2010-February.txt.gz"
       ]
      },
      {
       "output_type": "stream",
       "stream": "stdout",
       "text": [
        "\n",
        "'retrieving http://mail.scipy.org/pipermail/numpy-discussion/2010-January.txt.gz'"
       ]
      },
      {
       "output_type": "stream",
       "stream": "stdout",
       "text": [
        "\n",
        "200 - writing file to archives/numpy-discussion/2010-January.txt.gz"
       ]
      },
      {
       "output_type": "stream",
       "stream": "stdout",
       "text": [
        "\n",
        "'retrieving http://mail.scipy.org/pipermail/numpy-discussion/2009-December.txt.gz'"
       ]
      },
      {
       "output_type": "stream",
       "stream": "stdout",
       "text": [
        "\n",
        "200 - writing file to archives/numpy-discussion/2009-December.txt.gz"
       ]
      },
      {
       "output_type": "stream",
       "stream": "stdout",
       "text": [
        "\n",
        "'retrieving http://mail.scipy.org/pipermail/numpy-discussion/2009-November.txt.gz'"
       ]
      },
      {
       "output_type": "stream",
       "stream": "stdout",
       "text": [
        "\n",
        "200 - writing file to archives/numpy-discussion/2009-November.txt.gz"
       ]
      },
      {
       "output_type": "stream",
       "stream": "stdout",
       "text": [
        "\n",
        "'retrieving http://mail.scipy.org/pipermail/numpy-discussion/2009-October.txt.gz'"
       ]
      },
      {
       "output_type": "stream",
       "stream": "stdout",
       "text": [
        "\n",
        "200 - writing file to archives/numpy-discussion/2009-October.txt.gz"
       ]
      },
      {
       "output_type": "stream",
       "stream": "stdout",
       "text": [
        "\n",
        "'retrieving http://mail.scipy.org/pipermail/numpy-discussion/2009-September.txt.gz'"
       ]
      },
      {
       "output_type": "stream",
       "stream": "stdout",
       "text": [
        "\n",
        "200 - writing file to archives/numpy-discussion/2009-September.txt.gz"
       ]
      },
      {
       "output_type": "stream",
       "stream": "stdout",
       "text": [
        "\n",
        "'retrieving http://mail.scipy.org/pipermail/numpy-discussion/2009-August.txt.gz'"
       ]
      },
      {
       "output_type": "stream",
       "stream": "stdout",
       "text": [
        "\n",
        "200 - writing file to archives/numpy-discussion/2009-August.txt.gz"
       ]
      },
      {
       "output_type": "stream",
       "stream": "stdout",
       "text": [
        "\n",
        "'retrieving http://mail.scipy.org/pipermail/numpy-discussion/2009-July.txt.gz'"
       ]
      },
      {
       "output_type": "stream",
       "stream": "stdout",
       "text": [
        "\n",
        "200 - writing file to archives/numpy-discussion/2009-July.txt.gz"
       ]
      },
      {
       "output_type": "stream",
       "stream": "stdout",
       "text": [
        "\n",
        "'retrieving http://mail.scipy.org/pipermail/numpy-discussion/2009-June.txt.gz'"
       ]
      },
      {
       "output_type": "stream",
       "stream": "stdout",
       "text": [
        "\n",
        "200 - writing file to archives/numpy-discussion/2009-June.txt.gz"
       ]
      },
      {
       "output_type": "stream",
       "stream": "stdout",
       "text": [
        "\n",
        "'retrieving http://mail.scipy.org/pipermail/numpy-discussion/2009-May.txt.gz'"
       ]
      },
      {
       "output_type": "stream",
       "stream": "stdout",
       "text": [
        "\n",
        "200 - writing file to archives/numpy-discussion/2009-May.txt.gz"
       ]
      },
      {
       "output_type": "stream",
       "stream": "stdout",
       "text": [
        "\n",
        "'retrieving http://mail.scipy.org/pipermail/numpy-discussion/2009-April.txt.gz'"
       ]
      },
      {
       "output_type": "stream",
       "stream": "stdout",
       "text": [
        "\n",
        "200 - writing file to archives/numpy-discussion/2009-April.txt.gz"
       ]
      },
      {
       "output_type": "stream",
       "stream": "stdout",
       "text": [
        "\n",
        "'retrieving http://mail.scipy.org/pipermail/numpy-discussion/2009-March.txt.gz'"
       ]
      },
      {
       "output_type": "stream",
       "stream": "stdout",
       "text": [
        "\n",
        "200 - writing file to archives/numpy-discussion/2009-March.txt.gz"
       ]
      },
      {
       "output_type": "stream",
       "stream": "stdout",
       "text": [
        "\n",
        "'retrieving http://mail.scipy.org/pipermail/numpy-discussion/2009-February.txt.gz'"
       ]
      },
      {
       "output_type": "stream",
       "stream": "stdout",
       "text": [
        "\n",
        "200 - writing file to archives/numpy-discussion/2009-February.txt.gz"
       ]
      },
      {
       "output_type": "stream",
       "stream": "stdout",
       "text": [
        "\n",
        "'retrieving http://mail.scipy.org/pipermail/numpy-discussion/2009-January.txt.gz'"
       ]
      },
      {
       "output_type": "stream",
       "stream": "stdout",
       "text": [
        "\n",
        "200 - writing file to archives/numpy-discussion/2009-January.txt.gz"
       ]
      },
      {
       "output_type": "stream",
       "stream": "stdout",
       "text": [
        "\n",
        "'retrieving http://mail.scipy.org/pipermail/numpy-discussion/2008-December.txt.gz'"
       ]
      },
      {
       "output_type": "stream",
       "stream": "stdout",
       "text": [
        "\n",
        "200 - writing file to archives/numpy-discussion/2008-December.txt.gz"
       ]
      },
      {
       "output_type": "stream",
       "stream": "stdout",
       "text": [
        "\n",
        "'retrieving http://mail.scipy.org/pipermail/numpy-discussion/2008-November.txt.gz'"
       ]
      },
      {
       "output_type": "stream",
       "stream": "stdout",
       "text": [
        "\n",
        "200 - writing file to archives/numpy-discussion/2008-November.txt.gz"
       ]
      },
      {
       "output_type": "stream",
       "stream": "stdout",
       "text": [
        "\n",
        "'retrieving http://mail.scipy.org/pipermail/numpy-discussion/2008-October.txt.gz'"
       ]
      },
      {
       "output_type": "stream",
       "stream": "stdout",
       "text": [
        "\n",
        "200 - writing file to archives/numpy-discussion/2008-October.txt.gz"
       ]
      },
      {
       "output_type": "stream",
       "stream": "stdout",
       "text": [
        "\n",
        "'retrieving http://mail.scipy.org/pipermail/numpy-discussion/2008-September.txt.gz'"
       ]
      },
      {
       "output_type": "stream",
       "stream": "stdout",
       "text": [
        "\n",
        "200 - writing file to archives/numpy-discussion/2008-September.txt.gz"
       ]
      },
      {
       "output_type": "stream",
       "stream": "stdout",
       "text": [
        "\n",
        "'retrieving http://mail.scipy.org/pipermail/numpy-discussion/2008-August.txt.gz'"
       ]
      },
      {
       "output_type": "stream",
       "stream": "stdout",
       "text": [
        "\n",
        "200 - writing file to archives/numpy-discussion/2008-August.txt.gz"
       ]
      },
      {
       "output_type": "stream",
       "stream": "stdout",
       "text": [
        "\n",
        "'retrieving http://mail.scipy.org/pipermail/numpy-discussion/2008-July.txt.gz'"
       ]
      },
      {
       "output_type": "stream",
       "stream": "stdout",
       "text": [
        "\n",
        "200 - writing file to archives/numpy-discussion/2008-July.txt.gz"
       ]
      },
      {
       "output_type": "stream",
       "stream": "stdout",
       "text": [
        "\n",
        "'retrieving http://mail.scipy.org/pipermail/numpy-discussion/2008-June.txt.gz'"
       ]
      },
      {
       "output_type": "stream",
       "stream": "stdout",
       "text": [
        "\n",
        "200 - writing file to archives/numpy-discussion/2008-June.txt.gz"
       ]
      },
      {
       "output_type": "stream",
       "stream": "stdout",
       "text": [
        "\n",
        "'retrieving http://mail.scipy.org/pipermail/numpy-discussion/2008-May.txt.gz'"
       ]
      },
      {
       "output_type": "stream",
       "stream": "stdout",
       "text": [
        "\n",
        "200 - writing file to archives/numpy-discussion/2008-May.txt.gz"
       ]
      },
      {
       "output_type": "stream",
       "stream": "stdout",
       "text": [
        "\n",
        "'retrieving http://mail.scipy.org/pipermail/numpy-discussion/2008-April.txt.gz'"
       ]
      },
      {
       "output_type": "stream",
       "stream": "stdout",
       "text": [
        "\n",
        "200 - writing file to archives/numpy-discussion/2008-April.txt.gz"
       ]
      },
      {
       "output_type": "stream",
       "stream": "stdout",
       "text": [
        "\n",
        "'retrieving http://mail.scipy.org/pipermail/numpy-discussion/2008-March.txt.gz'"
       ]
      },
      {
       "output_type": "stream",
       "stream": "stdout",
       "text": [
        "\n",
        "200 - writing file to archives/numpy-discussion/2008-March.txt.gz"
       ]
      },
      {
       "output_type": "stream",
       "stream": "stdout",
       "text": [
        "\n",
        "'retrieving http://mail.scipy.org/pipermail/numpy-discussion/2008-February.txt.gz'"
       ]
      },
      {
       "output_type": "stream",
       "stream": "stdout",
       "text": [
        "\n",
        "200 - writing file to archives/numpy-discussion/2008-February.txt.gz"
       ]
      },
      {
       "output_type": "stream",
       "stream": "stdout",
       "text": [
        "\n",
        "'retrieving http://mail.scipy.org/pipermail/numpy-discussion/2008-January.txt.gz'"
       ]
      },
      {
       "output_type": "stream",
       "stream": "stdout",
       "text": [
        "\n",
        "200 - writing file to archives/numpy-discussion/2008-January.txt.gz"
       ]
      },
      {
       "output_type": "stream",
       "stream": "stdout",
       "text": [
        "\n",
        "'retrieving http://mail.scipy.org/pipermail/numpy-discussion/2007-December.txt.gz'"
       ]
      },
      {
       "output_type": "stream",
       "stream": "stdout",
       "text": [
        "\n",
        "200 - writing file to archives/numpy-discussion/2007-December.txt.gz"
       ]
      },
      {
       "output_type": "stream",
       "stream": "stdout",
       "text": [
        "\n",
        "'retrieving http://mail.scipy.org/pipermail/numpy-discussion/2007-November.txt.gz'"
       ]
      },
      {
       "output_type": "stream",
       "stream": "stdout",
       "text": [
        "\n",
        "200 - writing file to archives/numpy-discussion/2007-November.txt.gz"
       ]
      },
      {
       "output_type": "stream",
       "stream": "stdout",
       "text": [
        "\n",
        "'retrieving http://mail.scipy.org/pipermail/numpy-discussion/2007-October.txt.gz'"
       ]
      },
      {
       "output_type": "stream",
       "stream": "stdout",
       "text": [
        "\n",
        "200 - writing file to archives/numpy-discussion/2007-October.txt.gz"
       ]
      },
      {
       "output_type": "stream",
       "stream": "stdout",
       "text": [
        "\n",
        "'retrieving http://mail.scipy.org/pipermail/numpy-discussion/2007-September.txt.gz'"
       ]
      },
      {
       "output_type": "stream",
       "stream": "stdout",
       "text": [
        "\n",
        "200 - writing file to archives/numpy-discussion/2007-September.txt.gz"
       ]
      },
      {
       "output_type": "stream",
       "stream": "stdout",
       "text": [
        "\n",
        "'retrieving http://mail.scipy.org/pipermail/numpy-discussion/2007-August.txt.gz'"
       ]
      },
      {
       "output_type": "stream",
       "stream": "stdout",
       "text": [
        "\n",
        "200 - writing file to archives/numpy-discussion/2007-August.txt.gz"
       ]
      },
      {
       "output_type": "stream",
       "stream": "stdout",
       "text": [
        "\n",
        "'retrieving http://mail.scipy.org/pipermail/numpy-discussion/2007-July.txt.gz'"
       ]
      },
      {
       "output_type": "stream",
       "stream": "stdout",
       "text": [
        "\n",
        "200 - writing file to archives/numpy-discussion/2007-July.txt.gz"
       ]
      },
      {
       "output_type": "stream",
       "stream": "stdout",
       "text": [
        "\n",
        "'retrieving http://mail.scipy.org/pipermail/numpy-discussion/2007-June.txt.gz'"
       ]
      },
      {
       "output_type": "stream",
       "stream": "stdout",
       "text": [
        "\n",
        "200 - writing file to archives/numpy-discussion/2007-June.txt.gz"
       ]
      },
      {
       "output_type": "stream",
       "stream": "stdout",
       "text": [
        "\n",
        "'retrieving http://mail.scipy.org/pipermail/numpy-discussion/2007-May.txt.gz'"
       ]
      },
      {
       "output_type": "stream",
       "stream": "stdout",
       "text": [
        "\n",
        "200 - writing file to archives/numpy-discussion/2007-May.txt.gz"
       ]
      },
      {
       "output_type": "stream",
       "stream": "stdout",
       "text": [
        "\n",
        "'retrieving http://mail.scipy.org/pipermail/numpy-discussion/2007-April.txt.gz'"
       ]
      },
      {
       "output_type": "stream",
       "stream": "stdout",
       "text": [
        "\n",
        "200 - writing file to archives/numpy-discussion/2007-April.txt.gz"
       ]
      },
      {
       "output_type": "stream",
       "stream": "stdout",
       "text": [
        "\n",
        "'retrieving http://mail.scipy.org/pipermail/numpy-discussion/2007-March.txt.gz'"
       ]
      },
      {
       "output_type": "stream",
       "stream": "stdout",
       "text": [
        "\n",
        "200 - writing file to archives/numpy-discussion/2007-March.txt.gz"
       ]
      },
      {
       "output_type": "stream",
       "stream": "stdout",
       "text": [
        "\n",
        "'retrieving http://mail.scipy.org/pipermail/numpy-discussion/2007-February.txt.gz'"
       ]
      },
      {
       "output_type": "stream",
       "stream": "stdout",
       "text": [
        "\n",
        "200 - writing file to archives/numpy-discussion/2007-February.txt.gz"
       ]
      },
      {
       "output_type": "stream",
       "stream": "stdout",
       "text": [
        "\n",
        "'retrieving http://mail.scipy.org/pipermail/numpy-discussion/2007-January.txt.gz'"
       ]
      },
      {
       "output_type": "stream",
       "stream": "stdout",
       "text": [
        "\n",
        "200 - writing file to archives/numpy-discussion/2007-January.txt.gz"
       ]
      },
      {
       "output_type": "stream",
       "stream": "stdout",
       "text": [
        "\n",
        "'retrieving http://mail.scipy.org/pipermail/numpy-discussion/2006-December.txt.gz'"
       ]
      },
      {
       "output_type": "stream",
       "stream": "stdout",
       "text": [
        "\n",
        "200 - writing file to archives/numpy-discussion/2006-December.txt.gz"
       ]
      },
      {
       "output_type": "stream",
       "stream": "stdout",
       "text": [
        "\n",
        "'retrieving http://mail.scipy.org/pipermail/numpy-discussion/2006-November.txt.gz'"
       ]
      },
      {
       "output_type": "stream",
       "stream": "stdout",
       "text": [
        "\n",
        "200 - writing file to archives/numpy-discussion/2006-November.txt.gz"
       ]
      },
      {
       "output_type": "stream",
       "stream": "stdout",
       "text": [
        "\n",
        "'retrieving http://mail.scipy.org/pipermail/numpy-discussion/2006-October.txt.gz'"
       ]
      },
      {
       "output_type": "stream",
       "stream": "stdout",
       "text": [
        "\n",
        "200 - writing file to archives/numpy-discussion/2006-October.txt.gz"
       ]
      },
      {
       "output_type": "stream",
       "stream": "stdout",
       "text": [
        "\n",
        "'retrieving http://mail.scipy.org/pipermail/numpy-discussion/2006-September.txt.gz'"
       ]
      },
      {
       "output_type": "stream",
       "stream": "stdout",
       "text": [
        "\n",
        "200 - writing file to archives/numpy-discussion/2006-September.txt.gz"
       ]
      },
      {
       "output_type": "stream",
       "stream": "stdout",
       "text": [
        "\n",
        "'retrieving http://mail.scipy.org/pipermail/numpy-discussion/2006-August.txt.gz'"
       ]
      },
      {
       "output_type": "stream",
       "stream": "stdout",
       "text": [
        "\n",
        "200 - writing file to archives/numpy-discussion/2006-August.txt.gz"
       ]
      },
      {
       "output_type": "stream",
       "stream": "stdout",
       "text": [
        "\n",
        "'retrieving http://mail.scipy.org/pipermail/numpy-discussion/2006-July.txt.gz'"
       ]
      },
      {
       "output_type": "stream",
       "stream": "stdout",
       "text": [
        "\n",
        "200 - writing file to archives/numpy-discussion/2006-July.txt.gz"
       ]
      },
      {
       "output_type": "stream",
       "stream": "stdout",
       "text": [
        "\n",
        "'retrieving http://mail.scipy.org/pipermail/numpy-discussion/2006-June.txt.gz'"
       ]
      },
      {
       "output_type": "stream",
       "stream": "stdout",
       "text": [
        "\n",
        "200 - writing file to archives/numpy-discussion/2006-June.txt.gz"
       ]
      },
      {
       "output_type": "stream",
       "stream": "stdout",
       "text": [
        "\n",
        "'retrieving http://mail.scipy.org/pipermail/numpy-discussion/2006-May.txt.gz'"
       ]
      },
      {
       "output_type": "stream",
       "stream": "stdout",
       "text": [
        "\n",
        "200 - writing file to archives/numpy-discussion/2006-May.txt.gz"
       ]
      },
      {
       "output_type": "stream",
       "stream": "stdout",
       "text": [
        "\n",
        "'retrieving http://mail.scipy.org/pipermail/numpy-discussion/2006-April.txt.gz'"
       ]
      },
      {
       "output_type": "stream",
       "stream": "stdout",
       "text": [
        "\n",
        "200 - writing file to archives/numpy-discussion/2006-April.txt.gz"
       ]
      },
      {
       "output_type": "stream",
       "stream": "stdout",
       "text": [
        "\n",
        "'retrieving http://mail.scipy.org/pipermail/numpy-discussion/2006-March.txt.gz'"
       ]
      },
      {
       "output_type": "stream",
       "stream": "stdout",
       "text": [
        "\n",
        "200 - writing file to archives/numpy-discussion/2006-March.txt.gz"
       ]
      },
      {
       "output_type": "stream",
       "stream": "stdout",
       "text": [
        "\n",
        "'retrieving http://mail.scipy.org/pipermail/numpy-discussion/2006-February.txt.gz'"
       ]
      },
      {
       "output_type": "stream",
       "stream": "stdout",
       "text": [
        "\n",
        "200 - writing file to archives/numpy-discussion/2006-February.txt.gz"
       ]
      },
      {
       "output_type": "stream",
       "stream": "stdout",
       "text": [
        "\n",
        "'retrieving http://mail.scipy.org/pipermail/numpy-discussion/2006-January.txt.gz'"
       ]
      },
      {
       "output_type": "stream",
       "stream": "stdout",
       "text": [
        "\n",
        "200 - writing file to archives/numpy-discussion/2006-January.txt.gz"
       ]
      },
      {
       "output_type": "stream",
       "stream": "stdout",
       "text": [
        "\n",
        "'retrieving http://mail.scipy.org/pipermail/numpy-discussion/2005-December.txt.gz'"
       ]
      },
      {
       "output_type": "stream",
       "stream": "stdout",
       "text": [
        "\n",
        "200 - writing file to archives/numpy-discussion/2005-December.txt.gz"
       ]
      },
      {
       "output_type": "stream",
       "stream": "stdout",
       "text": [
        "\n",
        "'retrieving http://mail.scipy.org/pipermail/numpy-discussion/2005-November.txt.gz'"
       ]
      },
      {
       "output_type": "stream",
       "stream": "stdout",
       "text": [
        "\n",
        "200 - writing file to archives/numpy-discussion/2005-November.txt.gz"
       ]
      },
      {
       "output_type": "stream",
       "stream": "stdout",
       "text": [
        "\n",
        "'retrieving http://mail.scipy.org/pipermail/numpy-discussion/2005-October.txt.gz'"
       ]
      },
      {
       "output_type": "stream",
       "stream": "stdout",
       "text": [
        "\n",
        "200 - writing file to archives/numpy-discussion/2005-October.txt.gz"
       ]
      },
      {
       "output_type": "stream",
       "stream": "stdout",
       "text": [
        "\n",
        "'retrieving http://mail.scipy.org/pipermail/numpy-discussion/2005-September.txt.gz'"
       ]
      },
      {
       "output_type": "stream",
       "stream": "stdout",
       "text": [
        "\n",
        "200 - writing file to archives/numpy-discussion/2005-September.txt.gz"
       ]
      },
      {
       "output_type": "stream",
       "stream": "stdout",
       "text": [
        "\n",
        "'retrieving http://mail.scipy.org/pipermail/numpy-discussion/2005-August.txt.gz'"
       ]
      },
      {
       "output_type": "stream",
       "stream": "stdout",
       "text": [
        "\n",
        "200 - writing file to archives/numpy-discussion/2005-August.txt.gz"
       ]
      },
      {
       "output_type": "stream",
       "stream": "stdout",
       "text": [
        "\n",
        "'retrieving http://mail.scipy.org/pipermail/numpy-discussion/2005-July.txt.gz'"
       ]
      },
      {
       "output_type": "stream",
       "stream": "stdout",
       "text": [
        "\n",
        "200 - writing file to archives/numpy-discussion/2005-July.txt.gz"
       ]
      },
      {
       "output_type": "stream",
       "stream": "stdout",
       "text": [
        "\n",
        "'retrieving http://mail.scipy.org/pipermail/numpy-discussion/2005-June.txt.gz'"
       ]
      },
      {
       "output_type": "stream",
       "stream": "stdout",
       "text": [
        "\n",
        "200 - writing file to archives/numpy-discussion/2005-June.txt.gz"
       ]
      },
      {
       "output_type": "stream",
       "stream": "stdout",
       "text": [
        "\n",
        "'retrieving http://mail.scipy.org/pipermail/numpy-discussion/2005-May.txt.gz'"
       ]
      },
      {
       "output_type": "stream",
       "stream": "stdout",
       "text": [
        "\n",
        "200 - writing file to archives/numpy-discussion/2005-May.txt.gz"
       ]
      },
      {
       "output_type": "stream",
       "stream": "stdout",
       "text": [
        "\n",
        "'retrieving http://mail.scipy.org/pipermail/numpy-discussion/2005-April.txt.gz'"
       ]
      },
      {
       "output_type": "stream",
       "stream": "stdout",
       "text": [
        "\n",
        "200 - writing file to archives/numpy-discussion/2005-April.txt.gz"
       ]
      },
      {
       "output_type": "stream",
       "stream": "stdout",
       "text": [
        "\n",
        "'retrieving http://mail.scipy.org/pipermail/numpy-discussion/2005-March.txt.gz'"
       ]
      },
      {
       "output_type": "stream",
       "stream": "stdout",
       "text": [
        "\n",
        "200 - writing file to archives/numpy-discussion/2005-March.txt.gz"
       ]
      },
      {
       "output_type": "stream",
       "stream": "stdout",
       "text": [
        "\n",
        "'retrieving http://mail.scipy.org/pipermail/numpy-discussion/2005-February.txt.gz'"
       ]
      },
      {
       "output_type": "stream",
       "stream": "stdout",
       "text": [
        "\n",
        "200 - writing file to archives/numpy-discussion/2005-February.txt.gz"
       ]
      },
      {
       "output_type": "stream",
       "stream": "stdout",
       "text": [
        "\n",
        "'retrieving http://mail.scipy.org/pipermail/numpy-discussion/2005-January.txt.gz'"
       ]
      },
      {
       "output_type": "stream",
       "stream": "stdout",
       "text": [
        "\n",
        "200 - writing file to archives/numpy-discussion/2005-January.txt.gz"
       ]
      },
      {
       "output_type": "stream",
       "stream": "stdout",
       "text": [
        "\n",
        "'retrieving http://mail.scipy.org/pipermail/numpy-discussion/2004-December.txt.gz'"
       ]
      },
      {
       "output_type": "stream",
       "stream": "stdout",
       "text": [
        "\n",
        "200 - writing file to archives/numpy-discussion/2004-December.txt.gz"
       ]
      },
      {
       "output_type": "stream",
       "stream": "stdout",
       "text": [
        "\n",
        "'retrieving http://mail.scipy.org/pipermail/numpy-discussion/2004-November.txt.gz'"
       ]
      },
      {
       "output_type": "stream",
       "stream": "stdout",
       "text": [
        "\n",
        "200 - writing file to archives/numpy-discussion/2004-November.txt.gz"
       ]
      },
      {
       "output_type": "stream",
       "stream": "stdout",
       "text": [
        "\n",
        "'retrieving http://mail.scipy.org/pipermail/numpy-discussion/2004-October.txt.gz'"
       ]
      },
      {
       "output_type": "stream",
       "stream": "stdout",
       "text": [
        "\n",
        "200 - writing file to archives/numpy-discussion/2004-October.txt.gz"
       ]
      },
      {
       "output_type": "stream",
       "stream": "stdout",
       "text": [
        "\n",
        "'retrieving http://mail.scipy.org/pipermail/numpy-discussion/2004-September.txt.gz'"
       ]
      },
      {
       "output_type": "stream",
       "stream": "stdout",
       "text": [
        "\n",
        "200 - writing file to archives/numpy-discussion/2004-September.txt.gz"
       ]
      },
      {
       "output_type": "stream",
       "stream": "stdout",
       "text": [
        "\n",
        "'retrieving http://mail.scipy.org/pipermail/numpy-discussion/2004-August.txt.gz'"
       ]
      },
      {
       "output_type": "stream",
       "stream": "stdout",
       "text": [
        "\n",
        "200 - writing file to archives/numpy-discussion/2004-August.txt.gz"
       ]
      },
      {
       "output_type": "stream",
       "stream": "stdout",
       "text": [
        "\n",
        "'retrieving http://mail.scipy.org/pipermail/numpy-discussion/2004-July.txt.gz'"
       ]
      },
      {
       "output_type": "stream",
       "stream": "stdout",
       "text": [
        "\n",
        "200 - writing file to archives/numpy-discussion/2004-July.txt.gz"
       ]
      },
      {
       "output_type": "stream",
       "stream": "stdout",
       "text": [
        "\n",
        "'retrieving http://mail.scipy.org/pipermail/numpy-discussion/2004-June.txt.gz'"
       ]
      },
      {
       "output_type": "stream",
       "stream": "stdout",
       "text": [
        "\n",
        "200 - writing file to archives/numpy-discussion/2004-June.txt.gz"
       ]
      },
      {
       "output_type": "stream",
       "stream": "stdout",
       "text": [
        "\n",
        "'retrieving http://mail.scipy.org/pipermail/numpy-discussion/2004-May.txt.gz'"
       ]
      },
      {
       "output_type": "stream",
       "stream": "stdout",
       "text": [
        "\n",
        "200 - writing file to archives/numpy-discussion/2004-May.txt.gz"
       ]
      },
      {
       "output_type": "stream",
       "stream": "stdout",
       "text": [
        "\n",
        "'retrieving http://mail.scipy.org/pipermail/numpy-discussion/2004-April.txt.gz'"
       ]
      },
      {
       "output_type": "stream",
       "stream": "stdout",
       "text": [
        "\n",
        "200 - writing file to archives/numpy-discussion/2004-April.txt.gz"
       ]
      },
      {
       "output_type": "stream",
       "stream": "stdout",
       "text": [
        "\n",
        "'retrieving http://mail.scipy.org/pipermail/numpy-discussion/2004-March.txt.gz'"
       ]
      },
      {
       "output_type": "stream",
       "stream": "stdout",
       "text": [
        "\n",
        "200 - writing file to archives/numpy-discussion/2004-March.txt.gz"
       ]
      },
      {
       "output_type": "stream",
       "stream": "stdout",
       "text": [
        "\n",
        "'retrieving http://mail.scipy.org/pipermail/numpy-discussion/2004-February.txt.gz'"
       ]
      },
      {
       "output_type": "stream",
       "stream": "stdout",
       "text": [
        "\n",
        "200 - writing file to archives/numpy-discussion/2004-February.txt.gz"
       ]
      },
      {
       "output_type": "stream",
       "stream": "stdout",
       "text": [
        "\n",
        "'retrieving http://mail.scipy.org/pipermail/numpy-discussion/2004-January.txt.gz'"
       ]
      },
      {
       "output_type": "stream",
       "stream": "stdout",
       "text": [
        "\n",
        "200 - writing file to archives/numpy-discussion/2004-January.txt.gz"
       ]
      },
      {
       "output_type": "stream",
       "stream": "stdout",
       "text": [
        "\n",
        "'retrieving http://mail.scipy.org/pipermail/numpy-discussion/2003-December.txt.gz'"
       ]
      },
      {
       "output_type": "stream",
       "stream": "stdout",
       "text": [
        "\n",
        "200 - writing file to archives/numpy-discussion/2003-December.txt.gz"
       ]
      },
      {
       "output_type": "stream",
       "stream": "stdout",
       "text": [
        "\n",
        "'retrieving http://mail.scipy.org/pipermail/numpy-discussion/2003-November.txt.gz'"
       ]
      },
      {
       "output_type": "stream",
       "stream": "stdout",
       "text": [
        "\n",
        "200 - writing file to archives/numpy-discussion/2003-November.txt.gz"
       ]
      },
      {
       "output_type": "stream",
       "stream": "stdout",
       "text": [
        "\n",
        "'retrieving http://mail.scipy.org/pipermail/numpy-discussion/2003-October.txt.gz'"
       ]
      },
      {
       "output_type": "stream",
       "stream": "stdout",
       "text": [
        "\n",
        "200 - writing file to archives/numpy-discussion/2003-October.txt.gz"
       ]
      },
      {
       "output_type": "stream",
       "stream": "stdout",
       "text": [
        "\n",
        "'retrieving http://mail.scipy.org/pipermail/numpy-discussion/2003-September.txt.gz'"
       ]
      },
      {
       "output_type": "stream",
       "stream": "stdout",
       "text": [
        "\n",
        "200 - writing file to archives/numpy-discussion/2003-September.txt.gz"
       ]
      },
      {
       "output_type": "stream",
       "stream": "stdout",
       "text": [
        "\n",
        "'retrieving http://mail.scipy.org/pipermail/numpy-discussion/2003-August.txt.gz'"
       ]
      },
      {
       "output_type": "stream",
       "stream": "stdout",
       "text": [
        "\n",
        "200 - writing file to archives/numpy-discussion/2003-August.txt.gz"
       ]
      },
      {
       "output_type": "stream",
       "stream": "stdout",
       "text": [
        "\n",
        "'retrieving http://mail.scipy.org/pipermail/numpy-discussion/2003-July.txt.gz'"
       ]
      },
      {
       "output_type": "stream",
       "stream": "stdout",
       "text": [
        "\n",
        "200 - writing file to archives/numpy-discussion/2003-July.txt.gz"
       ]
      },
      {
       "output_type": "stream",
       "stream": "stdout",
       "text": [
        "\n",
        "'retrieving http://mail.scipy.org/pipermail/numpy-discussion/2003-June.txt.gz'"
       ]
      },
      {
       "output_type": "stream",
       "stream": "stdout",
       "text": [
        "\n",
        "200 - writing file to archives/numpy-discussion/2003-June.txt.gz"
       ]
      },
      {
       "output_type": "stream",
       "stream": "stdout",
       "text": [
        "\n",
        "'retrieving http://mail.scipy.org/pipermail/numpy-discussion/2003-May.txt.gz'"
       ]
      },
      {
       "output_type": "stream",
       "stream": "stdout",
       "text": [
        "\n",
        "200 - writing file to archives/numpy-discussion/2003-May.txt.gz"
       ]
      },
      {
       "output_type": "stream",
       "stream": "stdout",
       "text": [
        "\n",
        "'retrieving http://mail.scipy.org/pipermail/numpy-discussion/2003-April.txt.gz'"
       ]
      },
      {
       "output_type": "stream",
       "stream": "stdout",
       "text": [
        "\n",
        "200 - writing file to archives/numpy-discussion/2003-April.txt.gz"
       ]
      },
      {
       "output_type": "stream",
       "stream": "stdout",
       "text": [
        "\n",
        "'retrieving http://mail.scipy.org/pipermail/numpy-discussion/2003-March.txt.gz'\n",
        "200 - writing file to archives/numpy-discussion/2003-March.txt.gz"
       ]
      },
      {
       "output_type": "stream",
       "stream": "stdout",
       "text": [
        "\n",
        "'retrieving http://mail.scipy.org/pipermail/numpy-discussion/2003-February.txt.gz'"
       ]
      },
      {
       "output_type": "stream",
       "stream": "stdout",
       "text": [
        "\n",
        "200 - writing file to archives/numpy-discussion/2003-February.txt.gz"
       ]
      },
      {
       "output_type": "stream",
       "stream": "stdout",
       "text": [
        "\n",
        "'retrieving http://mail.scipy.org/pipermail/numpy-discussion/2003-January.txt.gz'"
       ]
      },
      {
       "output_type": "stream",
       "stream": "stdout",
       "text": [
        "\n",
        "200 - writing file to archives/numpy-discussion/2003-January.txt.gz"
       ]
      },
      {
       "output_type": "stream",
       "stream": "stdout",
       "text": [
        "\n",
        "'retrieving http://mail.scipy.org/pipermail/numpy-discussion/2002-December.txt.gz'"
       ]
      },
      {
       "output_type": "stream",
       "stream": "stdout",
       "text": [
        "\n",
        "200 - writing file to archives/numpy-discussion/2002-December.txt.gz"
       ]
      },
      {
       "output_type": "stream",
       "stream": "stdout",
       "text": [
        "\n",
        "'retrieving http://mail.scipy.org/pipermail/numpy-discussion/2002-November.txt.gz'"
       ]
      },
      {
       "output_type": "stream",
       "stream": "stdout",
       "text": [
        "\n",
        "200 - writing file to archives/numpy-discussion/2002-November.txt.gz"
       ]
      },
      {
       "output_type": "stream",
       "stream": "stdout",
       "text": [
        "\n",
        "'retrieving http://mail.scipy.org/pipermail/numpy-discussion/2002-October.txt.gz'"
       ]
      },
      {
       "output_type": "stream",
       "stream": "stdout",
       "text": [
        "\n",
        "200 - writing file to archives/numpy-discussion/2002-October.txt.gz"
       ]
      },
      {
       "output_type": "stream",
       "stream": "stdout",
       "text": [
        "\n",
        "'retrieving http://mail.scipy.org/pipermail/numpy-discussion/2002-September.txt.gz'"
       ]
      },
      {
       "output_type": "stream",
       "stream": "stdout",
       "text": [
        "\n",
        "200 - writing file to archives/numpy-discussion/2002-September.txt.gz"
       ]
      },
      {
       "output_type": "stream",
       "stream": "stdout",
       "text": [
        "\n",
        "'retrieving http://mail.scipy.org/pipermail/numpy-discussion/2002-August.txt.gz'"
       ]
      },
      {
       "output_type": "stream",
       "stream": "stdout",
       "text": [
        "\n",
        "200 - writing file to archives/numpy-discussion/2002-August.txt.gz"
       ]
      },
      {
       "output_type": "stream",
       "stream": "stdout",
       "text": [
        "\n",
        "'retrieving http://mail.scipy.org/pipermail/numpy-discussion/2002-July.txt.gz'"
       ]
      },
      {
       "output_type": "stream",
       "stream": "stdout",
       "text": [
        "\n",
        "200 - writing file to archives/numpy-discussion/2002-July.txt.gz"
       ]
      },
      {
       "output_type": "stream",
       "stream": "stdout",
       "text": [
        "\n",
        "'retrieving http://mail.scipy.org/pipermail/numpy-discussion/2002-June.txt.gz'"
       ]
      },
      {
       "output_type": "stream",
       "stream": "stdout",
       "text": [
        "\n",
        "200 - writing file to archives/numpy-discussion/2002-June.txt.gz"
       ]
      },
      {
       "output_type": "stream",
       "stream": "stdout",
       "text": [
        "\n",
        "'retrieving http://mail.scipy.org/pipermail/numpy-discussion/2002-May.txt.gz'"
       ]
      },
      {
       "output_type": "stream",
       "stream": "stdout",
       "text": [
        "\n",
        "200 - writing file to archives/numpy-discussion/2002-May.txt.gz"
       ]
      },
      {
       "output_type": "stream",
       "stream": "stdout",
       "text": [
        "\n",
        "'retrieving http://mail.scipy.org/pipermail/numpy-discussion/2002-April.txt.gz'"
       ]
      },
      {
       "output_type": "stream",
       "stream": "stdout",
       "text": [
        "\n",
        "200 - writing file to archives/numpy-discussion/2002-April.txt.gz"
       ]
      },
      {
       "output_type": "stream",
       "stream": "stdout",
       "text": [
        "\n",
        "'retrieving http://mail.scipy.org/pipermail/numpy-discussion/2002-March.txt.gz'"
       ]
      },
      {
       "output_type": "stream",
       "stream": "stdout",
       "text": [
        "\n",
        "200 - writing file to archives/numpy-discussion/2002-March.txt.gz"
       ]
      },
      {
       "output_type": "stream",
       "stream": "stdout",
       "text": [
        "\n",
        "'retrieving http://mail.scipy.org/pipermail/numpy-discussion/2002-February.txt.gz'"
       ]
      },
      {
       "output_type": "stream",
       "stream": "stdout",
       "text": [
        "\n",
        "200 - writing file to archives/numpy-discussion/2002-February.txt.gz"
       ]
      },
      {
       "output_type": "stream",
       "stream": "stdout",
       "text": [
        "\n",
        "'retrieving http://mail.scipy.org/pipermail/numpy-discussion/2002-January.txt.gz'"
       ]
      },
      {
       "output_type": "stream",
       "stream": "stdout",
       "text": [
        "\n",
        "200 - writing file to archives/numpy-discussion/2002-January.txt.gz"
       ]
      },
      {
       "output_type": "stream",
       "stream": "stdout",
       "text": [
        "\n",
        "'retrieving http://mail.scipy.org/pipermail/numpy-discussion/2001-December.txt.gz'"
       ]
      },
      {
       "output_type": "stream",
       "stream": "stdout",
       "text": [
        "\n",
        "200 - writing file to archives/numpy-discussion/2001-December.txt.gz"
       ]
      },
      {
       "output_type": "stream",
       "stream": "stdout",
       "text": [
        "\n",
        "'retrieving http://mail.scipy.org/pipermail/numpy-discussion/2001-November.txt.gz'"
       ]
      },
      {
       "output_type": "stream",
       "stream": "stdout",
       "text": [
        "\n",
        "200 - writing file to archives/numpy-discussion/2001-November.txt.gz"
       ]
      },
      {
       "output_type": "stream",
       "stream": "stdout",
       "text": [
        "\n",
        "'retrieving http://mail.scipy.org/pipermail/numpy-discussion/2001-October.txt.gz'"
       ]
      },
      {
       "output_type": "stream",
       "stream": "stdout",
       "text": [
        "\n",
        "200 - writing file to archives/numpy-discussion/2001-October.txt.gz"
       ]
      },
      {
       "output_type": "stream",
       "stream": "stdout",
       "text": [
        "\n",
        "'retrieving http://mail.scipy.org/pipermail/numpy-discussion/2001-September.txt.gz'"
       ]
      },
      {
       "output_type": "stream",
       "stream": "stdout",
       "text": [
        "\n",
        "200 - writing file to archives/numpy-discussion/2001-September.txt.gz"
       ]
      },
      {
       "output_type": "stream",
       "stream": "stdout",
       "text": [
        "\n",
        "'retrieving http://mail.scipy.org/pipermail/numpy-discussion/2001-August.txt.gz'"
       ]
      },
      {
       "output_type": "stream",
       "stream": "stdout",
       "text": [
        "\n",
        "200 - writing file to archives/numpy-discussion/2001-August.txt.gz"
       ]
      },
      {
       "output_type": "stream",
       "stream": "stdout",
       "text": [
        "\n",
        "'retrieving http://mail.scipy.org/pipermail/numpy-discussion/2001-July.txt.gz'"
       ]
      },
      {
       "output_type": "stream",
       "stream": "stdout",
       "text": [
        "\n",
        "200 - writing file to archives/numpy-discussion/2001-July.txt.gz"
       ]
      },
      {
       "output_type": "stream",
       "stream": "stdout",
       "text": [
        "\n",
        "'retrieving http://mail.scipy.org/pipermail/numpy-discussion/2001-June.txt.gz'"
       ]
      },
      {
       "output_type": "stream",
       "stream": "stdout",
       "text": [
        "\n",
        "200 - writing file to archives/numpy-discussion/2001-June.txt.gz"
       ]
      },
      {
       "output_type": "stream",
       "stream": "stdout",
       "text": [
        "\n",
        "'retrieving http://mail.scipy.org/pipermail/numpy-discussion/2001-May.txt.gz'"
       ]
      },
      {
       "output_type": "stream",
       "stream": "stdout",
       "text": [
        "\n",
        "200 - writing file to archives/numpy-discussion/2001-May.txt.gz"
       ]
      },
      {
       "output_type": "stream",
       "stream": "stdout",
       "text": [
        "\n",
        "'retrieving http://mail.scipy.org/pipermail/numpy-discussion/2001-April.txt.gz'"
       ]
      },
      {
       "output_type": "stream",
       "stream": "stdout",
       "text": [
        "\n",
        "200 - writing file to archives/numpy-discussion/2001-April.txt.gz"
       ]
      },
      {
       "output_type": "stream",
       "stream": "stdout",
       "text": [
        "\n",
        "'retrieving http://mail.scipy.org/pipermail/numpy-discussion/2001-March.txt.gz'"
       ]
      },
      {
       "output_type": "stream",
       "stream": "stdout",
       "text": [
        "\n",
        "200 - writing file to archives/numpy-discussion/2001-March.txt.gz"
       ]
      },
      {
       "output_type": "stream",
       "stream": "stdout",
       "text": [
        "\n",
        "'retrieving http://mail.scipy.org/pipermail/numpy-discussion/2001-February.txt.gz'"
       ]
      },
      {
       "output_type": "stream",
       "stream": "stdout",
       "text": [
        "\n",
        "200 - writing file to archives/numpy-discussion/2001-February.txt.gz"
       ]
      },
      {
       "output_type": "stream",
       "stream": "stdout",
       "text": [
        "\n",
        "'retrieving http://mail.scipy.org/pipermail/numpy-discussion/2001-January.txt.gz'"
       ]
      },
      {
       "output_type": "stream",
       "stream": "stdout",
       "text": [
        "\n",
        "200 - writing file to archives/numpy-discussion/2001-January.txt.gz"
       ]
      },
      {
       "output_type": "stream",
       "stream": "stdout",
       "text": [
        "\n",
        "'retrieving http://mail.scipy.org/pipermail/numpy-discussion/2000-December.txt.gz'"
       ]
      },
      {
       "output_type": "stream",
       "stream": "stdout",
       "text": [
        "\n",
        "200 - writing file to archives/numpy-discussion/2000-December.txt.gz"
       ]
      },
      {
       "output_type": "stream",
       "stream": "stdout",
       "text": [
        "\n",
        "'retrieving http://mail.scipy.org/pipermail/numpy-discussion/2000-November.txt.gz'"
       ]
      },
      {
       "output_type": "stream",
       "stream": "stdout",
       "text": [
        "\n",
        "200 - writing file to archives/numpy-discussion/2000-November.txt.gz"
       ]
      },
      {
       "output_type": "stream",
       "stream": "stdout",
       "text": [
        "\n",
        "'retrieving http://mail.scipy.org/pipermail/numpy-discussion/2000-October.txt.gz'"
       ]
      },
      {
       "output_type": "stream",
       "stream": "stdout",
       "text": [
        "\n",
        "200 - writing file to archives/numpy-discussion/2000-October.txt.gz"
       ]
      },
      {
       "output_type": "stream",
       "stream": "stdout",
       "text": [
        "\n",
        "'retrieving http://mail.scipy.org/pipermail/numpy-discussion/2000-September.txt.gz'"
       ]
      },
      {
       "output_type": "stream",
       "stream": "stdout",
       "text": [
        "\n",
        "200 - writing file to archives/numpy-discussion/2000-September.txt.gz"
       ]
      },
      {
       "output_type": "stream",
       "stream": "stdout",
       "text": [
        "\n",
        "'retrieving http://mail.scipy.org/pipermail/numpy-discussion/2000-August.txt.gz'"
       ]
      },
      {
       "output_type": "stream",
       "stream": "stdout",
       "text": [
        "\n",
        "200 - writing file to archives/numpy-discussion/2000-August.txt.gz"
       ]
      },
      {
       "output_type": "stream",
       "stream": "stdout",
       "text": [
        "\n",
        "'retrieving http://mail.scipy.org/pipermail/numpy-discussion/2000-July.txt.gz'"
       ]
      },
      {
       "output_type": "stream",
       "stream": "stdout",
       "text": [
        "\n",
        "200 - writing file to archives/numpy-discussion/2000-July.txt.gz"
       ]
      },
      {
       "output_type": "stream",
       "stream": "stdout",
       "text": [
        "\n",
        "'retrieving http://mail.scipy.org/pipermail/numpy-discussion/2000-June.txt.gz'"
       ]
      },
      {
       "output_type": "stream",
       "stream": "stdout",
       "text": [
        "\n",
        "200 - writing file to archives/numpy-discussion/2000-June.txt.gz"
       ]
      },
      {
       "output_type": "stream",
       "stream": "stdout",
       "text": [
        "\n",
        "'retrieving http://mail.scipy.org/pipermail/numpy-discussion/2000-May.txt.gz'"
       ]
      },
      {
       "output_type": "stream",
       "stream": "stdout",
       "text": [
        "\n",
        "200 - writing file to archives/numpy-discussion/2000-May.txt.gz"
       ]
      },
      {
       "output_type": "stream",
       "stream": "stdout",
       "text": [
        "\n",
        "'retrieving http://mail.scipy.org/pipermail/numpy-discussion/2000-April.txt.gz'"
       ]
      },
      {
       "output_type": "stream",
       "stream": "stdout",
       "text": [
        "\n",
        "200 - writing file to archives/numpy-discussion/2000-April.txt.gz"
       ]
      },
      {
       "output_type": "stream",
       "stream": "stdout",
       "text": [
        "\n",
        "'retrieving http://mail.scipy.org/pipermail/numpy-discussion/2000-March.txt.gz'"
       ]
      },
      {
       "output_type": "stream",
       "stream": "stdout",
       "text": [
        "\n",
        "200 - writing file to archives/numpy-discussion/2000-March.txt.gz"
       ]
      },
      {
       "output_type": "stream",
       "stream": "stdout",
       "text": [
        "\n",
        "'retrieving http://mail.scipy.org/pipermail/numpy-discussion/2000-February.txt.gz'"
       ]
      },
      {
       "output_type": "stream",
       "stream": "stdout",
       "text": [
        "\n",
        "200 - writing file to archives/numpy-discussion/2000-February.txt.gz"
       ]
      },
      {
       "output_type": "stream",
       "stream": "stdout",
       "text": [
        "\n",
        "'retrieving http://mail.scipy.org/pipermail/numpy-discussion/2000-January.txt.gz'"
       ]
      },
      {
       "output_type": "stream",
       "stream": "stdout",
       "text": [
        "\n",
        "200 - writing file to archives/numpy-discussion/2000-January.txt.gz"
       ]
      },
      {
       "output_type": "stream",
       "stream": "stdout",
       "text": [
        "\n",
        "unzipping 179 archive files"
       ]
      },
      {
       "output_type": "stream",
       "stream": "stdout",
       "text": [
        "\n",
        "Opening 179 archive files"
       ]
      },
      {
       "output_type": "stream",
       "stream": "stdout",
       "text": [
        "\n",
        "Date parsing error on: "
       ]
      },
      {
       "output_type": "stream",
       "stream": "stdout",
       "text": [
        "\n",
        "Wed, 01 Nov 2006 15:46:73 +0800\n",
        "Date parsing error on: "
       ]
      },
      {
       "output_type": "stream",
       "stream": "stdout",
       "text": [
        "\n",
        "Wed, 01 Nov 2006 15:46:73 +0800\n"
       ]
      }
     ],
     "prompt_number": 3
    },
    {
     "cell_type": "code",
     "collapsed": false,
     "input": [
      "arx.data[:1]"
     ],
     "language": "python",
     "metadata": {},
     "outputs": [
      {
       "html": [
        "<div style=\"max-height:1000px;max-width:1500px;overflow:auto;\">\n",
        "<table border=\"1\" class=\"dataframe\">\n",
        "  <thead>\n",
        "    <tr style=\"text-align: right;\">\n",
        "      <th></th>\n",
        "      <th>From</th>\n",
        "      <th>Subject</th>\n",
        "      <th>Date</th>\n",
        "      <th>In-Reply-To</th>\n",
        "      <th>References</th>\n",
        "      <th>Body</th>\n",
        "    </tr>\n",
        "    <tr>\n",
        "      <th>Message-ID</th>\n",
        "      <th></th>\n",
        "      <th></th>\n",
        "      <th></th>\n",
        "      <th></th>\n",
        "      <th></th>\n",
        "      <th></th>\n",
        "    </tr>\n",
        "  </thead>\n",
        "  <tbody>\n",
        "    <tr>\n",
        "      <th>&lt;NDBBIEFMILBFPMDHJIMFEEAGCCAA.pauldubois@home.com&gt;</th>\n",
        "      <td> pauldubois at home.com (Paul F. Dubois)</td>\n",
        "      <td> [Numpy-discussion] test</td>\n",
        "      <td>2000-01-20 23:07:52</td>\n",
        "      <td> None</td>\n",
        "      <td> None</td>\n",
        "      <td> This is a test.\\nIgnore.\\n\\nPaul\\n\\n\\n\\n</td>\n",
        "    </tr>\n",
        "  </tbody>\n",
        "</table>\n",
        "<p>1 rows \u00d7 6 columns</p>\n",
        "</div>"
       ],
       "metadata": {},
       "output_type": "pyout",
       "prompt_number": 4,
       "text": [
        "                                                                                       From  \\\n",
        "Message-ID                                                                                    \n",
        "<NDBBIEFMILBFPMDHJIMFEEAGCCAA.pauldubois@home.com>  pauldubois at home.com (Paul F. Dubois)   \n",
        "\n",
        "                                                                    Subject  \\\n",
        "Message-ID                                                                    \n",
        "<NDBBIEFMILBFPMDHJIMFEEAGCCAA.pauldubois@home.com>  [Numpy-discussion] test   \n",
        "\n",
        "                                                                  Date  \\\n",
        "Message-ID                                                               \n",
        "<NDBBIEFMILBFPMDHJIMFEEAGCCAA.pauldubois@home.com> 2000-01-20 23:07:52   \n",
        "\n",
        "                                                   In-Reply-To References  \\\n",
        "Message-ID                                                                  \n",
        "<NDBBIEFMILBFPMDHJIMFEEAGCCAA.pauldubois@home.com>        None       None   \n",
        "\n",
        "                                                                                        Body  \n",
        "Message-ID                                                                                    \n",
        "<NDBBIEFMILBFPMDHJIMFEEAGCCAA.pauldubois@home.com>  This is a test.\\nIgnore.\\n\\nPaul\\n\\n\\n\\n  \n",
        "\n",
        "[1 rows x 6 columns]"
       ]
      }
     ],
     "prompt_number": 4
    },
    {
     "cell_type": "markdown",
     "metadata": {},
     "source": [
      "Archive objects have a method that reports for each user how many emails they sent each day."
     ]
    },
    {
     "cell_type": "code",
     "collapsed": false,
     "input": [
      "act = arx.get_activity()"
     ],
     "language": "python",
     "metadata": {},
     "outputs": [
      {
       "output_type": "stream",
       "stream": "stderr",
       "text": [
        "/home/aryan/urap/bigbang/bigbang/archive.py:92: SettingWithCopyWarning: A value is trying to be set on a copy of a slice from a DataFrame.\n",
        "Try using .loc[row_index,col_indexer] = value instead\n",
        "  mdf2['Date'] = mdf['Date'].apply(lambda x: x.toordinal())\n"
       ]
      }
     ],
     "prompt_number": 5
    },
    {
     "cell_type": "markdown",
     "metadata": {},
     "source": [
      "This plot will show when each sender sent their first post. A slow ascent means a period where many people joined."
     ]
    },
    {
     "cell_type": "code",
     "collapsed": false,
     "input": [
      "fig = plt.figure(figsize=(12.5, 7.5))\n",
      "\n",
      "#act.idxmax().order().T.plot()\n",
      "(act > 0).idxmax().order().plot()\n",
      "\n",
      "fig.axes[0].yaxis_date()"
     ],
     "language": "python",
     "metadata": {},
     "outputs": [
      {
       "metadata": {},
       "output_type": "display_data",
       "png": "[encoded data removed]",
       "text": [
        "<matplotlib.figure.Figure at 0x7f672631d5d0>"
       ]
      }
     ],
     "prompt_number": 6
    },
    {
     "cell_type": "markdown",
     "metadata": {},
     "source": [
      "This is the same data, but plotted as a histogram. It's easier to see the trends here."
     ]
    },
    {
     "cell_type": "code",
     "collapsed": false,
     "input": [
      "fig = plt.figure(figsize=(12.5, 7.5))\n",
      "\n",
      "(act > 0).idxmax().order().hist()\n",
      "\n",
      "fig.axes[0].xaxis_date()"
     ],
     "language": "python",
     "metadata": {},
     "outputs": [
      {
       "metadata": {},
       "output_type": "display_data",
       "png": "[encoded data removed]",
       "text": [
        "<matplotlib.figure.Figure at 0x7f6724ce1110>"
       ]
      }
     ],
     "prompt_number": 7
    },
    {
     "cell_type": "markdown",
     "metadata": {},
     "source": [
      "While this is interesting, what if we are interested in how much different \"cohorts\" of participants stick around and continue to participate in the community over time?\n",
      "\n",
      "What we want to do is divide the participants into N cohorts based on the percentile of when they joined the mailing list.  I.e, the first 1/N people to participate in the mailing list are the first cohort. The second 1/N people are in the second cohort. And so on.\n",
      "\n",
      "Then we can combine the activities of each cohort and do a stackplot of how each cohort has participated over time."
     ]
    },
    {
     "cell_type": "code",
     "collapsed": false,
     "input": [
      "n = 5"
     ],
     "language": "python",
     "metadata": {},
     "outputs": [],
     "prompt_number": 8
    },
    {
     "cell_type": "code",
     "collapsed": false,
     "input": [
      "import numpy as np\n",
      "\n",
      "# A series, indexed by users, of the day of their first post\n",
      "# This series is ordered by time\n",
      "first_post = (act > 0).idxmax().order()\n",
      "\n",
      "# Splitting the previous series into five equal parts,\n",
      "# each representing a chronological quintile of list members\n",
      "cohorts = np.array_split(first_post,n)\n",
      "\n",
      "# In order to make the data easier to visualize,\n",
      "# we will take a rolling average over ten days.\n",
      "# In signal processing, this operation is called\n",
      "# a convolution\n",
      "#   http://en.wikipedia.org/wiki/Convolution\n",
      "convulation_array = [.1,.1,.1,.1,.1,.1,.1,.1,.1,.1]\n",
      "\n",
      "cohort_activity = [np.convolve((act.as_matrix(cohorts[i].index.values)).sum(1),\n",
      "                               convulation_array,mode='same')\n",
      "                   for i in range(n)]"
     ],
     "language": "python",
     "metadata": {},
     "outputs": [],
     "prompt_number": 9
    },
    {
     "cell_type": "code",
     "collapsed": false,
     "input": [
      "fig = plt.figure(figsize=(12.5, 7.5))\n",
      "\n",
      "d = np.row_stack(cohort_activity)\n",
      "\n",
      "plt.stackplot(act.index,d,linewidth=0)\n",
      "\n",
      "fig.axes[0].xaxis_date()\n",
      "\n",
      "plt.show()"
     ],
     "language": "python",
     "metadata": {},
     "outputs": [
      {
       "metadata": {},
       "output_type": "display_data",
       "png": "[encoded data removed]",
       "text": [
        "<matplotlib.figure.Figure at 0x7f672710f550>"
       ]
      }
     ],
     "prompt_number": 10
    },
    {
     "cell_type": "markdown",
     "metadata": {},
     "source": [
      "This gives us a sense of when new members are taking the lead in the community. But what if the old members are just changing their email addresses? To test that case, we should clean our data with entity resolution techniques."
     ]
    },
    {
     "cell_type": "code",
     "collapsed": false,
     "input": [],
     "language": "python",
     "metadata": {},
     "outputs": [],
     "prompt_number": 10
    }
   ],
   "metadata": {}
  }
 ]
}