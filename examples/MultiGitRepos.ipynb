{
 "metadata": {
  "name": "",
  "signature": "sha256:11a2ee42cf8d271af66574f1006b18eb92fd6fe2f53419897261b88abfd9e159"
 },
 "nbformat": 3,
 "nbformat_minor": 0,
 "worksheets": [
  {
   "cells": [
    {
     "cell_type": "code",
     "collapsed": false,
     "input": [
      "%matplotlib inline\n",
      "from bigbang.archive import Archive\n",
      "from bigbang import repo_loader;\n",
      "from bigbang.git_repo import GitRepo;\n",
      "import matplotlib.pyplot as plt\n",
      "import numpy as np\n",
      "import pandas as pd"
     ],
     "language": "python",
     "metadata": {},
     "outputs": [],
     "prompt_number": 1
    },
    {
     "cell_type": "code",
     "collapsed": false,
     "input": [
      "repos = repo_loader.get_org_repos(\"codeforamerica\")\n",
      "multigitrepo = repo_loader.get_multi_repo(repos=repos)"
     ],
     "language": "python",
     "metadata": {},
     "outputs": [
      {
       "output_type": "stream",
       "stream": "stdout",
       "text": [
        "Checking if cached\n",
        "Checking for cfahelloworld at /home/aryan/urap/bigbang/archives/sample_git_repos/cfahelloworld\n",
        "cfahelloworld\n",
        "Found an empty repo: cfahelloworld\n",
        "<type 'list'>\n",
        "Running Entity Resolution on cfahelloworld\n",
        "Gloning the repo from remote"
       ]
      },
      {
       "output_type": "stream",
       "stream": "stdout",
       "text": [
        "\n",
        "Checking if cached"
       ]
      },
      {
       "output_type": "stream",
       "stream": "stdout",
       "text": [
        "\n",
        "Checking for shortstack at /home/aryan/urap/bigbang/archives/sample_git_repos/shortstack\n",
        "shortstack\n",
        "WARNING: Currently going through file diffs. This will take a very long time (1 minute per 3000 commits.) We suggest using a small repository.\n",
        "failed to add a commit because of an encoding error"
       ]
      },
      {
       "output_type": "stream",
       "stream": "stdout",
       "text": [
        "\n",
        "<type 'list'>\n",
        "Running Entity Resolution on shortstack\n",
        "Gloning the repo from remote"
       ]
      },
      {
       "output_type": "stream",
       "stream": "stdout",
       "text": [
        "\n",
        "Checking if cached"
       ]
      },
      {
       "output_type": "stream",
       "stream": "stdout",
       "text": [
        "\n",
        "Checking for cfawp2012 at /home/aryan/urap/bigbang/archives/sample_git_repos/cfawp2012\n",
        "cfawp2012\n",
        "WARNING: Currently going through file diffs. This will take a very long time (1 minute per 3000 commits.) We suggest using a small repository.\n",
        "failed to add a commit because of an encoding error"
       ]
      },
      {
       "output_type": "stream",
       "stream": "stdout",
       "text": [
        "\n",
        "<type 'list'>\n",
        "Running Entity Resolution on cfawp2012\n",
        "Gloning the repo from remote"
       ]
      },
      {
       "output_type": "stream",
       "stream": "stdout",
       "text": [
        "\n",
        "Checking if cached"
       ]
      },
      {
       "output_type": "stream",
       "stream": "stdout",
       "text": [
        "\n",
        "Checking for Open311-Visualization at /home/aryan/urap/bigbang/archives/sample_git_repos/Open311-Visualization\n",
        "Open311-Visualization\n",
        "WARNING: Currently going through file diffs. This will take a very long time (1 minute per 3000 commits.) We suggest using a small repository.\n",
        "failed to add a commit because of an encoding error\n",
        "<type 'list'>\n",
        "Running Entity Resolution on Open311-Visualization\n",
        "Gloning the repo from remote\n",
        "Checking if cached"
       ]
      },
      {
       "output_type": "stream",
       "stream": "stdout",
       "text": [
        "\n",
        "Checking for open311 at /home/aryan/urap/bigbang/archives/sample_git_repos/open311\n",
        "open311\n",
        "WARNING: Currently going through file diffs. This will take a very long time (1 minute per 3000 commits.) We suggest using a small repository.\n",
        "failed to add a commit because of an encoding error"
       ]
      },
      {
       "output_type": "stream",
       "stream": "stdout",
       "text": [
        "\n",
        "<type 'list'>\n",
        "Running Entity Resolution on open311\n",
        "Gloning the repo from remote"
       ]
      },
      {
       "output_type": "stream",
       "stream": "stdout",
       "text": [
        "\n",
        "Checking if cached"
       ]
      },
      {
       "output_type": "stream",
       "stream": "stdout",
       "text": [
        "\n",
        "Checking for follow-all at /home/aryan/urap/bigbang/archives/sample_git_repos/follow-all\n",
        "follow-all\n",
        "WARNING: Currently going through file diffs. This will take a very long time (1 minute per 3000 commits.) We suggest using a small repository.\n",
        "failed to add a commit because of an encoding error"
       ]
      },
      {
       "output_type": "stream",
       "stream": "stdout",
       "text": [
        "\n",
        "<type 'list'>\n",
        "Running Entity Resolution on follow-all\n",
        "Gloning the repo from remote"
       ]
      },
      {
       "output_type": "stream",
       "stream": "stdout",
       "text": [
        "\n",
        "Checking if cached"
       ]
      },
      {
       "output_type": "stream",
       "stream": "stdout",
       "text": [
        "\n",
        "Checking for gollum at /home/aryan/urap/bigbang/archives/sample_git_repos/gollum\n",
        "gollum\n",
        "WARNING: Currently going through file diffs. This will take a very long time (1 minute per 3000 commits.) We suggest using a small repository.\n",
        "failed to add a commit because of an encoding error"
       ]
      },
      {
       "output_type": "stream",
       "stream": "stdout",
       "text": [
        "\n",
        "<type 'list'>\n",
        "Running Entity Resolution on gollum\n",
        "Gloning the repo from remote"
       ]
      },
      {
       "output_type": "stream",
       "stream": "stdout",
       "text": [
        "\n",
        "Checking if cached"
       ]
      },
      {
       "output_type": "stream",
       "stream": "stdout",
       "text": [
        "\n",
        "Checking for svg_canvas_experiments at /home/aryan/urap/bigbang/archives/sample_git_repos/svg_canvas_experiments\n",
        "svg_canvas_experiments\n",
        "WARNING: Currently going through file diffs. This will take a very long time (1 minute per 3000 commits.) We suggest using a small repository.\n",
        "failed to add a commit because of an encoding error\n",
        "<type 'list'>\n",
        "Running Entity Resolution on svg_canvas_experiments\n",
        "Gloning the repo from remote\n",
        "Checking if cached"
       ]
      },
      {
       "output_type": "stream",
       "stream": "stdout",
       "text": [
        "\n",
        "Checking for adopt-a-hydrant at /home/aryan/urap/bigbang/archives/sample_git_repos/adopt-a-hydrant\n",
        "adopt-a-hydrant\n",
        "WARNING: Currently going through file diffs. This will take a very long time (1 minute per 3000 commits.) We suggest using a small repository.\n",
        "failed to add a commit because of an encoding error"
       ]
      },
      {
       "output_type": "stream",
       "stream": "stdout",
       "text": [
        "\n",
        "<type 'list'>\n",
        "Running Entity Resolution on adopt-a-hydrant\n",
        "Gloning the repo from remote"
       ]
      },
      {
       "output_type": "stream",
       "stream": "stdout",
       "text": [
        "\n",
        "Checking if cached"
       ]
      },
      {
       "output_type": "stream",
       "stream": "stdout",
       "text": [
        "\n",
        "Checking for secretsauce at /home/aryan/urap/bigbang/archives/sample_git_repos/secretsauce\n",
        "secretsauce\n",
        "WARNING: Currently going through file diffs. This will take a very long time (1 minute per 3000 commits.) We suggest using a small repository.\n",
        "failed to add a commit because of an encoding error"
       ]
      },
      {
       "output_type": "stream",
       "stream": "stdout",
       "text": [
        "\n",
        "<type 'list'>\n",
        "Running Entity Resolution on secretsauce\n",
        "Gloning the repo from remote"
       ]
      },
      {
       "output_type": "stream",
       "stream": "stdout",
       "text": [
        "\n",
        "Checking if cached"
       ]
      },
      {
       "output_type": "stream",
       "stream": "stdout",
       "text": [
        "\n",
        "Checking for datalogue at /home/aryan/urap/bigbang/archives/sample_git_repos/datalogue\n",
        "datalogue\n",
        "WARNING: Currently going through file diffs. This will take a very long time (1 minute per 3000 commits.) We suggest using a small repository.\n",
        "failed to add a commit because of an encoding error\n",
        "<type 'list'>\n",
        "Running Entity Resolution on datalogue\n",
        "Gloning the repo from remote\n",
        "Checking if cached"
       ]
      },
      {
       "output_type": "stream",
       "stream": "stdout",
       "text": [
        "\n",
        "Checking for open311dashboard at /home/aryan/urap/bigbang/archives/sample_git_repos/open311dashboard\n",
        "open311dashboard\n",
        "WARNING: Currently going through file diffs. This will take a very long time (1 minute per 3000 commits.) We suggest using a small repository.\n",
        "failed to add a commit because of an encoding error"
       ]
      },
      {
       "output_type": "stream",
       "stream": "stdout",
       "text": [
        "\n",
        "<type 'list'>\n",
        "Running Entity Resolution on open311dashboard\n",
        "Gloning the repo from remote"
       ]
      },
      {
       "output_type": "stream",
       "stream": "stdout",
       "text": [
        "\n",
        "Checking if cached"
       ]
      },
      {
       "output_type": "stream",
       "stream": "stdout",
       "text": [
        "\n",
        "Checking for designforamerica at /home/aryan/urap/bigbang/archives/sample_git_repos/designforamerica\n",
        "designforamerica\n",
        "WARNING: Currently going through file diffs. This will take a very long time (1 minute per 3000 commits.) We suggest using a small repository.\n",
        "failed to add a commit because of an encoding error"
       ]
      },
      {
       "output_type": "stream",
       "stream": "stdout",
       "text": [
        "\n",
        "<type 'list'>\n",
        "Running Entity Resolution on designforamerica\n",
        "Gloning the repo from remote\n",
        "Checking if cached"
       ]
      },
      {
       "output_type": "stream",
       "stream": "stdout",
       "text": [
        "\n",
        "Checking for tipster at /home/aryan/urap/bigbang/archives/sample_git_repos/tipster\n",
        "tipster\n",
        "WARNING: Currently going through file diffs. This will take a very long time (1 minute per 3000 commits.) We suggest using a small repository.\n",
        "failed to add a commit because of an encoding error"
       ]
      },
      {
       "output_type": "stream",
       "stream": "stdout",
       "text": [
        "\n",
        "<type 'list'>\n",
        "Running Entity Resolution on tipster\n",
        "Gloning the repo from remote\n",
        "Checking if cached"
       ]
      },
      {
       "output_type": "stream",
       "stream": "stdout",
       "text": [
        "\n",
        "Checking for georuby at /home/aryan/urap/bigbang/archives/sample_git_repos/georuby\n",
        "georuby\n",
        "WARNING: Currently going through file diffs. This will take a very long time (1 minute per 3000 commits.) We suggest using a small repository.\n",
        "failed to add a commit because of an encoding error"
       ]
      },
      {
       "output_type": "stream",
       "stream": "stdout",
       "text": [
        "\n",
        "<type 'list'>\n",
        "Running Entity Resolution on georuby\n",
        "Gloning the repo from remote\n",
        "Checking if cached"
       ]
      },
      {
       "output_type": "stream",
       "stream": "stdout",
       "text": [
        "\n",
        "Checking for gem_template at /home/aryan/urap/bigbang/archives/sample_git_repos/gem_template\n",
        "gem_template\n",
        "WARNING: Currently going through file diffs. This will take a very long time (1 minute per 3000 commits.) We suggest using a small repository.\n",
        "failed to add a commit because of an encoding error"
       ]
      },
      {
       "output_type": "stream",
       "stream": "stdout",
       "text": [
        "\n",
        "<type 'list'>\n",
        "Running Entity Resolution on gem_template\n",
        "Gloning the repo from remote\n",
        "Checking if cached"
       ]
      },
      {
       "output_type": "stream",
       "stream": "stdout",
       "text": [
        "\n",
        "Checking for hubbuds at /home/aryan/urap/bigbang/archives/sample_git_repos/hubbuds\n",
        "hubbuds\n",
        "WARNING: Currently going through file diffs. This will take a very long time (1 minute per 3000 commits.) We suggest using a small repository.\n",
        "failed to add a commit because of an encoding error"
       ]
      },
      {
       "output_type": "stream",
       "stream": "stdout",
       "text": [
        "\n",
        "<type 'list'>\n",
        "Running Entity Resolution on hubbuds\n",
        "Gloning the repo from remote\n",
        "Checking if cached"
       ]
      },
      {
       "output_type": "stream",
       "stream": "stdout",
       "text": [
        "\n",
        "Checking for Twitter-Collage at /home/aryan/urap/bigbang/archives/sample_git_repos/Twitter-Collage\n",
        "Twitter-Collage\n",
        "WARNING: Currently going through file diffs. This will take a very long time (1 minute per 3000 commits.) We suggest using a small repository.\n",
        "failed to add a commit because of an encoding error"
       ]
      },
      {
       "output_type": "stream",
       "stream": "stdout",
       "text": [
        "\n",
        "<type 'list'>\n",
        "Running Entity Resolution on Twitter-Collage\n",
        "Gloning the repo from remote"
       ]
      },
      {
       "output_type": "stream",
       "stream": "stdout",
       "text": [
        "\n",
        "Checking if cached"
       ]
      },
      {
       "output_type": "stream",
       "stream": "stdout",
       "text": [
        "\n",
        "Checking for flocky at /home/aryan/urap/bigbang/archives/sample_git_repos/flocky\n",
        "flocky\n",
        "WARNING: Currently going through file diffs. This will take a very long time (1 minute per 3000 commits.) We suggest using a small repository.\n",
        "failed to add a commit because of an encoding error"
       ]
      },
      {
       "output_type": "stream",
       "stream": "stdout",
       "text": [
        "\n",
        "<type 'list'>\n",
        "Running Entity Resolution on flocky\n",
        "Gloning the repo from remote\n",
        "Checking if cached"
       ]
      },
      {
       "output_type": "stream",
       "stream": "stdout",
       "text": [
        "\n",
        "Checking for councilmatic at /home/aryan/urap/bigbang/archives/sample_git_repos/councilmatic\n",
        "councilmatic\n",
        "WARNING: Currently going through file diffs. This will take a very long time (1 minute per 3000 commits.) We suggest using a small repository.\n",
        "failed to add a commit because of an encoding error"
       ]
      },
      {
       "output_type": "stream",
       "stream": "stdout",
       "text": [
        "\n",
        "<type 'list'>\n",
        "Running Entity Resolution on councilmatic\n",
        "Gloning the repo from remote"
       ]
      },
      {
       "output_type": "stream",
       "stream": "stdout",
       "text": [
        "\n",
        "Checking if cached"
       ]
      },
      {
       "output_type": "stream",
       "stream": "stdout",
       "text": [
        "\n",
        "Checking for classtalk at /home/aryan/urap/bigbang/archives/sample_git_repos/classtalk\n",
        "classtalk\n",
        "WARNING: Currently going through file diffs. This will take a very long time (1 minute per 3000 commits.) We suggest using a small repository.\n",
        "failed to add a commit because of an encoding error"
       ]
      },
      {
       "output_type": "stream",
       "stream": "stdout",
       "text": [
        "\n",
        "<type 'list'>\n",
        "Running Entity Resolution on classtalk\n",
        "Gloning the repo from remote"
       ]
      },
      {
       "output_type": "stream",
       "stream": "stdout",
       "text": [
        "\n",
        "Checking if cached"
       ]
      },
      {
       "output_type": "stream",
       "stream": "stdout",
       "text": [
        "\n",
        "Checking for 2010BasicCensusMap at /home/aryan/urap/bigbang/archives/sample_git_repos/2010BasicCensusMap\n",
        "2010BasicCensusMap\n",
        "WARNING: Currently going through file diffs. This will take a very long time (1 minute per 3000 commits.) We suggest using a small repository.\n",
        "failed to add a commit because of an encoding error"
       ]
      },
      {
       "output_type": "stream",
       "stream": "stdout",
       "text": [
        "\n",
        "<type 'list'>\n",
        "Running Entity Resolution on 2010BasicCensusMap\n",
        "Gloning the repo from remote\n",
        "Checking if cached"
       ]
      },
      {
       "output_type": "stream",
       "stream": "stdout",
       "text": [
        "\n",
        "Checking for cfa-drupal-template at /home/aryan/urap/bigbang/archives/sample_git_repos/cfa-drupal-template\n",
        "cfa-drupal-template\n",
        "WARNING: Currently going through file diffs. This will take a very long time (1 minute per 3000 commits.) We suggest using a small repository.\n",
        "failed to add a commit because of an encoding error"
       ]
      },
      {
       "output_type": "stream",
       "stream": "stdout",
       "text": [
        "\n",
        "<type 'list'>\n",
        "Running Entity Resolution on cfa-drupal-template\n",
        "Gloning the repo from remote\n",
        "Checking if cached"
       ]
      },
      {
       "output_type": "stream",
       "stream": "stdout",
       "text": [
        "\n",
        "Checking for wheresmyschoolbus at /home/aryan/urap/bigbang/archives/sample_git_repos/wheresmyschoolbus\n",
        "wheresmyschoolbus\n",
        "WARNING: Currently going through file diffs. This will take a very long time (1 minute per 3000 commits.) We suggest using a small repository.\n",
        "failed to add a commit because of an encoding error"
       ]
      },
      {
       "output_type": "stream",
       "stream": "stdout",
       "text": [
        "\n",
        "<type 'list'>\n",
        "Running Entity Resolution on wheresmyschoolbus\n",
        "Gloning the repo from remote"
       ]
      },
      {
       "output_type": "stream",
       "stream": "stdout",
       "text": [
        "\n",
        "Checking if cached"
       ]
      },
      {
       "output_type": "stream",
       "stream": "stdout",
       "text": [
        "\n",
        "Checking for cfa-drupal-example-module at /home/aryan/urap/bigbang/archives/sample_git_repos/cfa-drupal-example-module\n",
        "cfa-drupal-example-module\n",
        "WARNING: Currently going through file diffs. This will take a very long time (1 minute per 3000 commits.) We suggest using a small repository.\n",
        "failed to add a commit because of an encoding error"
       ]
      },
      {
       "output_type": "stream",
       "stream": "stdout",
       "text": [
        "\n",
        "<type 'list'>\n",
        "Running Entity Resolution on cfa-drupal-example-module\n",
        "Gloning the repo from remote\n",
        "Checking if cached"
       ]
      },
      {
       "output_type": "stream",
       "stream": "stdout",
       "text": [
        "\n",
        "Checking for Wufoopress at /home/aryan/urap/bigbang/archives/sample_git_repos/Wufoopress\n",
        "Wufoopress\n",
        "WARNING: Currently going through file diffs. This will take a very long time (1 minute per 3000 commits.) We suggest using a small repository.\n",
        "failed to add a commit because of an encoding error"
       ]
      },
      {
       "output_type": "stream",
       "stream": "stdout",
       "text": [
        "\n",
        "<type 'list'>\n",
        "Running Entity Resolution on Wufoopress\n",
        "Gloning the repo from remote\n",
        "Checking if cached"
       ]
      },
      {
       "output_type": "stream",
       "stream": "stdout",
       "text": [
        "\n",
        "Checking for cfa_coder_sounds at /home/aryan/urap/bigbang/archives/sample_git_repos/cfa_coder_sounds\n",
        "cfa_coder_sounds\n",
        "WARNING: Currently going through file diffs. This will take a very long time (1 minute per 3000 commits.) We suggest using a small repository.\n",
        "failed to add a commit because of an encoding error"
       ]
      },
      {
       "output_type": "stream",
       "stream": "stdout",
       "text": [
        "\n",
        "failed to add a commit because of an encoding error"
       ]
      },
      {
       "output_type": "stream",
       "stream": "stdout",
       "text": [
        "\n",
        "<type 'list'>\n",
        "Running Entity Resolution on cfa_coder_sounds\n",
        "Gloning the repo from remote"
       ]
      },
      {
       "output_type": "stream",
       "stream": "stdout",
       "text": [
        "\n",
        "Checking if cached"
       ]
      },
      {
       "output_type": "stream",
       "stream": "stdout",
       "text": [
        "\n",
        "Checking for engagement_toolkit at /home/aryan/urap/bigbang/archives/sample_git_repos/engagement_toolkit\n",
        "engagement_toolkit\n",
        "WARNING: Currently going through file diffs. This will take a very long time (1 minute per 3000 commits.) We suggest using a small repository."
       ]
      },
      {
       "output_type": "stream",
       "stream": "stdout",
       "text": [
        "\n",
        "failed to add a commit because of an encoding error"
       ]
      },
      {
       "output_type": "stream",
       "stream": "stdout",
       "text": [
        "\n",
        "<type 'list'>\n",
        "Running Entity Resolution on engagement_toolkit\n",
        "Gloning the repo from remote"
       ]
      },
      {
       "output_type": "stream",
       "stream": "stdout",
       "text": [
        "\n",
        "Checking if cached"
       ]
      },
      {
       "output_type": "stream",
       "stream": "stdout",
       "text": [
        "\n",
        "Checking for Catalyze at /home/aryan/urap/bigbang/archives/sample_git_repos/Catalyze\n",
        "Catalyze\n",
        "WARNING: Currently going through file diffs. This will take a very long time (1 minute per 3000 commits.) We suggest using a small repository.\n",
        "failed to add a commit because of an encoding error"
       ]
      },
      {
       "output_type": "stream",
       "stream": "stdout",
       "text": [
        "\n",
        "<type 'list'>\n",
        "Running Entity Resolution on Catalyze\n",
        "Gloning the repo from remote\n",
        "Checking if cached"
       ]
      },
      {
       "output_type": "stream",
       "stream": "stdout",
       "text": [
        "\n",
        "Checking for lunch_roulette at /home/aryan/urap/bigbang/archives/sample_git_repos/lunch_roulette\n",
        "lunch_roulette\n",
        "WARNING: Currently going through file diffs. This will take a very long time (1 minute per 3000 commits.) We suggest using a small repository.\n",
        "failed to add a commit because of an encoding error"
       ]
      },
      {
       "output_type": "stream",
       "stream": "stdout",
       "text": [
        "\n",
        "<type 'list'>\n",
        "Running Entity Resolution on lunch_roulette\n"
       ]
      }
     ],
     "prompt_number": 2
    },
    {
     "cell_type": "code",
     "collapsed": false,
     "input": [
      "print multigitrepo.commit_data"
     ],
     "language": "python",
     "metadata": {},
     "outputs": [
      {
       "output_type": "stream",
       "stream": "stdout",
       "text": [
        "             Unnamed: 0                                     Commit Message  \\\n",
        "0   2015-03-29 20:06:06                    updating Twitter and email info   \n",
        "1   2015-03-27 01:51:45                                             whoops   \n",
        "2   2015-03-27 01:51:32    hell yeah metaphors over similes every time ftw   \n",
        "3   2015-03-27 01:48:43                      Update 2015-03-26-new-logo.md   \n",
        "4   2015-03-26 21:21:43  moving logo into the blog post that announces ...   \n",
        "5   2015-03-26 21:10:58                 adding paragraph margin on posts\\n   \n",
        "6   2015-03-26 21:07:16                   paragraph margins on home page\\n   \n",
        "7   2015-03-26 21:01:47                             glass bead logo post\\n   \n",
        "8   2015-03-26 20:51:25                                 padding the logo\\n   \n",
        "9   2015-03-26 20:50:35            removing theme credit from about page\\n   \n",
        "10  2015-03-26 20:49:36                               centering the logo\\n   \n",
        "11  2015-03-26 20:46:56                 changing path to logo image/data\\n   \n",
        "12  2015-03-26 20:46:41                        changing what we're about\\n   \n",
        "13  2015-03-26 20:41:23   using the image again in the logo.html include\\n   \n",
        "14  2015-03-26 20:39:05                                 fix logo include\\n   \n",
        "15  2015-03-26 20:37:45                     including logo.html in index\\n   \n",
        "16  2015-03-26 20:24:10                             adding logo to index\\n   \n",
        "17  2015-03-26 20:23:29                     fixing typos on members page\\n   \n",
        "18  2015-03-26 20:18:15                      adding glass bead labs logo\\n   \n",
        "19  2015-03-26 20:16:11                  moving CV links to Members page\\n   \n",
        "20  2015-03-03 22:16:17                              Added calendar page\\n   \n",
        "21  2015-02-24 03:09:51                     Added headings to members.md\\n   \n",
        "22  2015-02-24 02:37:11  Merge pull request #4 from jesscxu/patch-1\\n\\n...   \n",
        "23  2015-02-23 21:11:13                                  Update members.md   \n",
        "24  2015-02-21 01:51:34  Merge pull request #3 from KishPatel1996/patch...   \n",
        "25  2015-02-19 20:59:31                Update Kishan's bio on Members Page   \n",
        "26  2015-02-16 02:36:16  Merge pull request #2 from dianecw/patch-1\\n\\n...   \n",
        "27  2015-02-15 23:39:17                    Added Diane to the members page   \n",
        "28  2015-01-21 06:42:43                                 Added link to CV\\n   \n",
        "29  2014-12-16 22:44:36                            Added posts for talks\\n   \n",
        "30  2014-11-06 01:33:47                        Fixed title for ISCS 2014\\n   \n",
        "31  2014-11-01 04:08:23                     Added link to ISCS 2014 page\\n   \n",
        "32  2014-10-20 22:51:54                            Updates to loose ends\\n   \n",
        "33  2014-10-20 22:46:07                       Added links on taiji study\\n   \n",
        "34  2014-10-09 22:11:28       Moving towards actual content on the site.\\n   \n",
        "35  2014-09-26 04:39:34                       Added initial members page\\n   \n",
        "36  2014-09-15 23:33:37                        Added some fake demo data\\n   \n",
        "37  2014-09-15 23:28:30                                    Update about.md   \n",
        "38  2014-09-09 22:01:16                                      Added CNAME\\n   \n",
        "39  2014-09-09 22:00:57                          Updates to be more v0.1\\n   \n",
        "0   2015-03-18 00:04:41                     Moved code to data-connector\\n   \n",
        "1   2015-03-03 23:29:19                                   Update README.md   \n",
        "2   2015-03-03 23:28:17               Added README for the issue-tracker\\n   \n",
        "3   2015-03-02 23:37:30                       Moved key to external file\\n   \n",
        "4   2015-03-02 18:56:02                                 changed auth key\\n   \n",
        "5   2015-02-27 01:34:34  removed the authentication for get (everything...   \n",
        "6   2015-02-27 00:33:03                        Constantly updates ASBase\\n   \n",
        "7   2015-02-27 00:16:21  we did it! issue tracker works, but isn't a co...   \n",
        "8   2015-02-26 22:49:15  made issue-tracker code more modular, working ...   \n",
        "9   2015-02-25 00:25:10                               Made issue-tracker\\n   \n",
        "10  2015-02-23 20:41:10         Added note about example code to README.md   \n",
        "11  2015-02-23 20:20:15     Added sample code in JavaScript from @smnmyr\\n   \n",
        "12  2015-02-12 23:42:50                 Some additional edits to README.md   \n",
        "13  2015-02-12 23:40:15                                   Update README.md   \n",
        "0   2015-03-31 22:58:40           Warmup video working with new csv file\\n   \n",
        "1   2015-03-31 19:41:19                       Added a list of all videos\\n   \n",
        "2   2015-03-17 22:30:33                              Templated home page\\n   \n",
        "3   2015-03-10 19:52:13                                 merging again...\\n   \n",
        "4   2015-03-10 19:40:06                                           Signup\\n   \n",
        "5   2015-03-07 21:08:08  Refactoring some more, almost have a security ...   \n",
        "                    ...                                                ...   \n",
        "\n",
        "                  Committer Email         Committer Name  \\\n",
        "0             sbenthall@gmail.com     Sebastian Benthall   \n",
        "1             sbenthall@gmail.com     Sebastian Benthall   \n",
        "2             sbenthall@gmail.com     Sebastian Benthall   \n",
        "3             sbenthall@gmail.com     Sebastian Benthall   \n",
        "4             sbenthall@gmail.com                     sb   \n",
        "5             sbenthall@gmail.com                     sb   \n",
        "6             sbenthall@gmail.com                     sb   \n",
        "7             sbenthall@gmail.com                     sb   \n",
        "8             sbenthall@gmail.com                     sb   \n",
        "9             sbenthall@gmail.com                     sb   \n",
        "10            sbenthall@gmail.com                     sb   \n",
        "11            sbenthall@gmail.com                     sb   \n",
        "12            sbenthall@gmail.com                     sb   \n",
        "13            sbenthall@gmail.com                     sb   \n",
        "14            sbenthall@gmail.com                     sb   \n",
        "15            sbenthall@gmail.com                     sb   \n",
        "16            sbenthall@gmail.com                     sb   \n",
        "17            sbenthall@gmail.com                     sb   \n",
        "18            sbenthall@gmail.com                     sb   \n",
        "19            sbenthall@gmail.com                     sb   \n",
        "20          davclark@berkeley.edu              Dav Clark   \n",
        "21          davclark@berkeley.edu              Dav Clark   \n",
        "22             davclark@gmail.com              Dav Clark   \n",
        "23              jcxu@berkeley.edu                jesscxu   \n",
        "24             davclark@gmail.com              Dav Clark   \n",
        "25             kishcoin@gmail.com           Kishan Patel   \n",
        "26             davclark@gmail.com              Dav Clark   \n",
        "27         dianewang@berkeley.edu             Diane Wang   \n",
        "28             davclark@gmail.com              Dav Clark   \n",
        "29          davclark@berkeley.edu              Dav Clark   \n",
        "30          davclark@berkeley.edu              Dav Clark   \n",
        "31             davclark@gmail.com              Dav Clark   \n",
        "32          davclark@berkeley.edu              Dav Clark   \n",
        "33          davclark@berkeley.edu              Dav Clark   \n",
        "34          davclark@berkeley.edu              Dav Clark   \n",
        "35          davclark@berkeley.edu              Dav Clark   \n",
        "36          davclark@berkeley.edu              Dav Clark   \n",
        "37             davclark@gmail.com              Dav Clark   \n",
        "38          davclark@berkeley.edu              Dav Clark   \n",
        "39          davclark@berkeley.edu              Dav Clark   \n",
        "0           davclark@berkeley.edu              Dav Clark   \n",
        "1              kishcoin@gmail.com           Kishan Patel   \n",
        "2              kishcoin@gmail.com           Kishan Patel   \n",
        "3              kishcoin@gmail.com           Kishan Patel   \n",
        "4              kishcoin@gmail.com           Kishan Patel   \n",
        "5              kishcoin@gmail.com           Kishan Patel   \n",
        "6              kishcoin@gmail.com           Kishan Patel   \n",
        "7            dianecwang@gmail.com                  Diane   \n",
        "8            dianecwang@gmail.com                  Diane   \n",
        "9            dianecwang@gmail.com                  Diane   \n",
        "10             davclark@gmail.com              Dav Clark   \n",
        "11          davclark@berkeley.edu              Dav Clark   \n",
        "12  schuetzenmeister@berkeley.edu  Falk Schuetzenmeister   \n",
        "13  schuetzenmeister@berkeley.edu  Falk Schuetzenmeister   \n",
        "0       arjunmehta94@berkeley.edu            Arjun Mehta   \n",
        "1           davclark@berkeley.edu              Dav Clark   \n",
        "2       arjunmehta94@berkeley.edu            Arjun Mehta   \n",
        "3       arjunmehta94@berkeley.edu            Arjun Mehta   \n",
        "4       arjunmehta94@berkeley.edu            Arjun Mehta   \n",
        "5           davclark@berkeley.edu              Dav Clark   \n",
        "                              ...                    ...   \n",
        "\n",
        "                                      HEXSHA  \\\n",
        "0   75f4c700812319e7d92a92d091c19be5218a3e8f   \n",
        "1   0347c4fa655d10bc78afefb0b91b30d1e9db4b06   \n",
        "2   4822fc6b4dcd27c5aa0282fbcd9c01fb59ab4f7c   \n",
        "3   c2114aad19803a5654bfa9327debfaf99b4fa7fe   \n",
        "4   b044cce47915419ee44128647823ee8c3af3d619   \n",
        "5   70cc84325f0975162e9a67401bc413136818a4b5   \n",
        "6   ea664129645d3b7dc64b4c84cfeedc0f925c687b   \n",
        "7   f25572354837422ce9ffee9cfbbd239df7d72302   \n",
        "8   95099a5773a9831ac2624e1d4e8e20f0d706aa84   \n",
        "9   6bb6e16fbd19dfb84e55a3463fe36a32724852e6   \n",
        "10  5729a723669444cbed457369cacd39e227c7569d   \n",
        "11  57d38b9dbea8a02e1da7aedae6fdef025c9e7634   \n",
        "12  5194336ab33dc03cb81c081408ae123d03208193   \n",
        "13  503d359be982367594680a9b8164ba2914c14c6a   \n",
        "14  ab8925d71fd3fb1a335404462a3ca0c6c64eca81   \n",
        "15  fbaaf3a57d49b9103dcd3fdafc0dbb0f98216dfb   \n",
        "16  aa943caf271e6b460fcf59e13522fd81ff3997ad   \n",
        "17  aefa5b5b1dad5bae86856096822497c4457efcc2   \n",
        "18  9e345fd15cf6d167a71b28518c49539cbe45e2bf   \n",
        "19  be24fb9ddf2730e371da42d05901adff0446423a   \n",
        "20  b0c04415d055f2609c61ffefe38234ae89fbfd73   \n",
        "21  ffbdccc5ad1a92e050a98f95a9796c08077a19b6   \n",
        "22  b553371e549741bd0b309cb015737f28fe0f5a7f   \n",
        "23  ef42fb11eac6c9baca91be7dfbad88dd889a7c93   \n",
        "24  71103bcb7f0d4e08e99839736d1d2ad9b0b76113   \n",
        "25  2b6d7ed330e57cf2bf5e0bff815adaac5b4d4339   \n",
        "26  b0c7ab9335c63080c248b2f66541d62d19c02546   \n",
        "27  7786938816745bf1b0242781000e0abbe7849051   \n",
        "28  7e849ef3b2c7281ce3b936344e5afb4520724cc9   \n",
        "29  f01d7ae7a82c803ccebe3894736b0b93df769ff8   \n",
        "30  5d6a47a7aa2c0fc95740b46d6e159a6718d06d2c   \n",
        "31  5dc30e30e656320338f183053821e3fedac8ec46   \n",
        "32  cc9aee645e0048a3459e4db7e445c1c72c694b48   \n",
        "33  85e020a8ac5434c00d838700354056e3ce6b65fe   \n",
        "34  97d13ba7687fdc72ee0065fb2af49bc9c2b33cd3   \n",
        "35  7bc07016513f7e648ec8c058760eab296bf4c50f   \n",
        "36  a9746a20a80b50049b92dfe187642a6e3bf04b7e   \n",
        "37  10dfc1a9a75bd5b24d5e20ca497d4ee459e06e64   \n",
        "38  9071c50219a90a04610cc9868c5c58844ca99acc   \n",
        "39  f303e7f4a7b7b3fad88cf04b9f814ccbb2b2fc89   \n",
        "0   2035e59119bf4d48ec518fdbf1f0a0eefb816c69   \n",
        "1   305ab5f9d92d409fc67de7988731cd096ae2c6c6   \n",
        "2   8762f43598a1c392705c88e90109edbc02428e03   \n",
        "3   61dd6f8259cc913bf9be0e60a54a99a5b6a82f9f   \n",
        "4   c0af36af12d97c6d97de27a4b33620a352068168   \n",
        "5   eb374ede01d6a3aa489b4fa9fc7042e4abb9b684   \n",
        "6   aeb9210d0b81c85237792d73a7f9a59c2acda50e   \n",
        "7   be23f24204bf529b9222f45d7c970d36d2734f55   \n",
        "8   5b6e39fdd9ec1d2e53b877bb2fc4ca5a13c4181e   \n",
        "9   838d27b878cb35abc2c2138ecdade93c9e3e0b28   \n",
        "10  e927386c3e1d6f1e4502207a24904230df3347b7   \n",
        "11  8000478182fca38252e5527a4b3cc6c313718b44   \n",
        "12  cf3feb7845a93463ef0676837f171765228fbab4   \n",
        "13  232a28117f5411cd96a22f736f98d0880f3efe39   \n",
        "0   f11032fc8a28fd73f76b88b9102e10366fdd6ea4   \n",
        "1   6ec912fd687ee09569cde31522ca1cba25e6607b   \n",
        "2   3216b5affb731179b65a1771fd17549cac4745c7   \n",
        "3   eee2738ffd45da18cb629d87b0eb2a04fc4af6a9   \n",
        "4   29f8dde51873bf30db9aaab18f150ad721f78026   \n",
        "5   5f633b339c851c573557d424ffe14eda37420596   \n",
        "                                         ...   \n",
        "\n",
        "                                        Parent Commit                 Time  \\\n",
        "0          [0347c4fa655d10bc78afefb0b91b30d1e9db4b06]  2015-03-29 20:06:06   \n",
        "1          [4822fc6b4dcd27c5aa0282fbcd9c01fb59ab4f7c]  2015-03-27 01:51:45   \n",
        "2          [c2114aad19803a5654bfa9327debfaf99b4fa7fe]  2015-03-27 01:51:32   \n",
        "3          [b044cce47915419ee44128647823ee8c3af3d619]  2015-03-27 01:48:43   \n",
        "4          [70cc84325f0975162e9a67401bc413136818a4b5]  2015-03-26 21:21:43   \n",
        "5          [ea664129645d3b7dc64b4c84cfeedc0f925c687b]  2015-03-26 21:10:58   \n",
        "6          [f25572354837422ce9ffee9cfbbd239df7d72302]  2015-03-26 21:07:16   \n",
        "7          [95099a5773a9831ac2624e1d4e8e20f0d706aa84]  2015-03-26 21:01:47   \n",
        "8          [6bb6e16fbd19dfb84e55a3463fe36a32724852e6]  2015-03-26 20:51:25   \n",
        "9          [5729a723669444cbed457369cacd39e227c7569d]  2015-03-26 20:50:35   \n",
        "10         [57d38b9dbea8a02e1da7aedae6fdef025c9e7634]  2015-03-26 20:49:36   \n",
        "11         [5194336ab33dc03cb81c081408ae123d03208193]  2015-03-26 20:46:56   \n",
        "12         [503d359be982367594680a9b8164ba2914c14c6a]  2015-03-26 20:46:41   \n",
        "13         [ab8925d71fd3fb1a335404462a3ca0c6c64eca81]  2015-03-26 20:41:23   \n",
        "14         [fbaaf3a57d49b9103dcd3fdafc0dbb0f98216dfb]  2015-03-26 20:39:05   \n",
        "15         [aa943caf271e6b460fcf59e13522fd81ff3997ad]  2015-03-26 20:37:45   \n",
        "16         [aefa5b5b1dad5bae86856096822497c4457efcc2]  2015-03-26 20:24:10   \n",
        "17         [9e345fd15cf6d167a71b28518c49539cbe45e2bf]  2015-03-26 20:23:29   \n",
        "18         [be24fb9ddf2730e371da42d05901adff0446423a]  2015-03-26 20:18:15   \n",
        "19         [b0c04415d055f2609c61ffefe38234ae89fbfd73]  2015-03-26 20:16:11   \n",
        "20         [ffbdccc5ad1a92e050a98f95a9796c08077a19b6]  2015-03-03 22:16:17   \n",
        "21         [b553371e549741bd0b309cb015737f28fe0f5a7f]  2015-02-24 03:09:51   \n",
        "22  [71103bcb7f0d4e08e99839736d1d2ad9b0b76113, ef4...  2015-02-24 02:37:11   \n",
        "23         [71103bcb7f0d4e08e99839736d1d2ad9b0b76113]  2015-02-23 21:11:13   \n",
        "24  [b0c7ab9335c63080c248b2f66541d62d19c02546, 2b6...  2015-02-21 01:51:34   \n",
        "25         [b0c7ab9335c63080c248b2f66541d62d19c02546]  2015-02-19 20:59:31   \n",
        "26  [7e849ef3b2c7281ce3b936344e5afb4520724cc9, 778...  2015-02-16 02:36:16   \n",
        "27         [7e849ef3b2c7281ce3b936344e5afb4520724cc9]  2015-02-15 23:39:17   \n",
        "28         [f01d7ae7a82c803ccebe3894736b0b93df769ff8]  2015-01-21 06:42:43   \n",
        "29         [5d6a47a7aa2c0fc95740b46d6e159a6718d06d2c]  2014-12-16 22:44:36   \n",
        "30         [5dc30e30e656320338f183053821e3fedac8ec46]  2014-11-06 01:33:47   \n",
        "31         [cc9aee645e0048a3459e4db7e445c1c72c694b48]  2014-11-01 04:08:23   \n",
        "32         [85e020a8ac5434c00d838700354056e3ce6b65fe]  2014-10-20 22:51:54   \n",
        "33         [97d13ba7687fdc72ee0065fb2af49bc9c2b33cd3]  2014-10-20 22:46:07   \n",
        "34         [7bc07016513f7e648ec8c058760eab296bf4c50f]  2014-10-09 22:11:28   \n",
        "35         [a9746a20a80b50049b92dfe187642a6e3bf04b7e]  2014-09-26 04:39:34   \n",
        "36         [10dfc1a9a75bd5b24d5e20ca497d4ee459e06e64]  2014-09-15 23:33:37   \n",
        "37         [9071c50219a90a04610cc9868c5c58844ca99acc]  2014-09-15 23:28:30   \n",
        "38         [f303e7f4a7b7b3fad88cf04b9f814ccbb2b2fc89]  2014-09-09 22:01:16   \n",
        "39         [2090288b2cdf894b3fb1278986953f9684042ccc]  2014-09-09 22:00:57   \n",
        "0          [305ab5f9d92d409fc67de7988731cd096ae2c6c6]  2015-03-18 00:04:41   \n",
        "1          [8762f43598a1c392705c88e90109edbc02428e03]  2015-03-03 23:29:19   \n",
        "2          [61dd6f8259cc913bf9be0e60a54a99a5b6a82f9f]  2015-03-03 23:28:17   \n",
        "3          [c0af36af12d97c6d97de27a4b33620a352068168]  2015-03-02 23:37:30   \n",
        "4          [eb374ede01d6a3aa489b4fa9fc7042e4abb9b684]  2015-03-02 18:56:02   \n",
        "5          [aeb9210d0b81c85237792d73a7f9a59c2acda50e]  2015-02-27 01:34:34   \n",
        "6          [be23f24204bf529b9222f45d7c970d36d2734f55]  2015-02-27 00:33:03   \n",
        "7          [5b6e39fdd9ec1d2e53b877bb2fc4ca5a13c4181e]  2015-02-27 00:16:21   \n",
        "8          [838d27b878cb35abc2c2138ecdade93c9e3e0b28]  2015-02-26 22:49:15   \n",
        "9          [e927386c3e1d6f1e4502207a24904230df3347b7]  2015-02-25 00:25:10   \n",
        "10         [8000478182fca38252e5527a4b3cc6c313718b44]  2015-02-23 20:41:10   \n",
        "11         [cf3feb7845a93463ef0676837f171765228fbab4]  2015-02-23 20:20:15   \n",
        "12         [232a28117f5411cd96a22f736f98d0880f3efe39]  2015-02-12 23:42:50   \n",
        "13         [fa2773ba7a84aa5d3252fa7a3cdc56b5b16ddd86]  2015-02-12 23:40:15   \n",
        "0          [6ec912fd687ee09569cde31522ca1cba25e6607b]  2015-03-31 22:58:40   \n",
        "1          [3216b5affb731179b65a1771fd17549cac4745c7]  2015-03-31 19:41:19   \n",
        "2          [eee2738ffd45da18cb629d87b0eb2a04fc4af6a9]  2015-03-17 22:30:33   \n",
        "3   [29f8dde51873bf30db9aaab18f150ad721f78026, 5f6...  2015-03-10 19:52:13   \n",
        "4          [9ba9e703a5aceb3edf5dbffaf51c673e6f92bc62]  2015-03-10 19:40:06   \n",
        "5          [d56736fa2a53ec4396ef4deefd956d920eb1291b]  2015-03-07 21:08:08   \n",
        "                                                  ...                  ...   \n",
        "\n",
        "                                         Touched File Person-ID      Repo Name  \n",
        "0                                       [_config.yml]         1     bead.glass  \n",
        "1                     [_posts/2015-03-26-new-logo.md]         1     bead.glass  \n",
        "2                     [_posts/2015-03-26-new-logo.md]         1     bead.glass  \n",
        "3                     [_posts/2015-03-26-new-logo.md]         1     bead.glass  \n",
        "4         [_posts/2015-03-26-new-logo.md, index.html]         1     bead.glass  \n",
        "5                                      [css/main.css]         1     bead.glass  \n",
        "6                                      [css/main.css]         1     bead.glass  \n",
        "7                     [_posts/2015-03-26-new-logo.md]         1     bead.glass  \n",
        "8                               [_includes/logo.html]         1     bead.glass  \n",
        "9                                          [about.md]         1     bead.glass  \n",
        "10                              [_includes/logo.html]         1     bead.glass  \n",
        "11                              [_includes/logo.html]         1     bead.glass  \n",
        "12                                      [_config.yml]         1     bead.glass  \n",
        "13                              [_includes/logo.html]         1     bead.glass  \n",
        "14                                       [index.html]         1     bead.glass  \n",
        "15                  [_includes/logo.html, index.html]         1     bead.glass  \n",
        "16                                       [index.html]         1     bead.glass  \n",
        "17      [images/gbl-logo.png, index.html, members.md]         1     bead.glass  \n",
        "18                              [images/gbl-logo.svg]         1     bead.glass  \n",
        "19                [_includes/header.html, members.md]         1     bead.glass  \n",
        "20                                    [calendar.html]         3     bead.glass  \n",
        "21                                       [members.md]         2     bead.glass  \n",
        "22                                       [members.md]         2     bead.glass  \n",
        "23                                       [members.md]         4     bead.glass  \n",
        "24                                       [members.md]         2     bead.glass  \n",
        "25                                       [members.md]         5     bead.glass  \n",
        "26                                       [members.md]         2     bead.glass  \n",
        "27                                       [members.md]         6     bead.glass  \n",
        "28                            [_includes/header.html]         2     bead.glass  \n",
        "29  [_posts/2014-12-10-data-rights-data-wrongs.md,...         2     bead.glass  \n",
        "30                   [_posts/2014-11-01-ISCS-2014.md]         2     bead.glass  \n",
        "31                   [_posts/2014-11-01-ISCS-2014.md]         2     bead.glass  \n",
        "32     [_config.yml, _includes/footer.html, feed.xml]         2     bead.glass  \n",
        "33                                       [members.md]         2     bead.glass  \n",
        "34  [_includes/post_list.md, _posts/2014-09-09-wel...         2     bead.glass  \n",
        "35                                       [members.md]         2     bead.glass  \n",
        "36                                    [fake-data.csv]         2     bead.glass  \n",
        "37                                         [about.md]         2     bead.glass  \n",
        "38                                            [CNAME]         2     bead.glass  \n",
        "39                [_config.yml, about.md, index.html]         2     bead.glass  \n",
        "0   [SimpleEventer/publishToASbase.js, SimpleSubsc...         2   sensor-group  \n",
        "1                              [github-api/README.md]         4   sensor-group  \n",
        "2                              [github-api/README.md]         4   sensor-group  \n",
        "3   [github-api/.gitignore, github-api/issue-track...         4   sensor-group  \n",
        "4                       [github-api/issue-tracker.py]         4   sensor-group  \n",
        "5                       [github-api/issue-tracker.py]         4   sensor-group  \n",
        "6                       [github-api/issue-tracker.py]         4   sensor-group  \n",
        "7                       [github-api/issue-tracker.py]         7   sensor-group  \n",
        "8                       [github-api/issue-tracker.py]         6   sensor-group  \n",
        "9                       [github-api/issue-tracker.py]         6   sensor-group  \n",
        "10                                        [README.md]         2   sensor-group  \n",
        "11  [SimpleEventer/publishToASbase.js, SimpleSubsc...         2   sensor-group  \n",
        "12                                        [README.md]         8   sensor-group  \n",
        "13                                        [README.md]         7   sensor-group  \n",
        "0   [taichi_videos/main.py, taichi_videos/template...         8  taichi-videos  \n",
        "1                          [resources/all-videos.csv]         2  taichi-videos  \n",
        "2   [more.jinja2, morepath, resources/index.html, ...         8  taichi-videos  \n",
        "3   [.gitignore, log.csv, log/.gitkeep, setup.py, ...         8  taichi-videos  \n",
        "4   [log.csv, resources/login.html, resources/sign...         8  taichi-videos  \n",
        "5   [taichi_videos/app.py, taichi_videos/main.py, ...         2  taichi-videos  \n",
        "                                                  ...       ...            ...  \n",
        "\n",
        "[110 rows x 10 columns]\n"
       ]
      }
     ],
     "prompt_number": 3
    },
    {
     "cell_type": "code",
     "collapsed": false,
     "input": [],
     "language": "python",
     "metadata": {},
     "outputs": [],
     "prompt_number": 2
    },
    {
     "cell_type": "code",
     "collapsed": false,
     "input": [],
     "language": "python",
     "metadata": {},
     "outputs": [],
     "prompt_number": 2
    }
   ],
   "metadata": {}
  }
 ]
}