{
 "cells": [
  {
   "cell_type": "code",
   "execution_count": 1,
   "metadata": {
    "collapsed": false
   },
   "outputs": [
    {
     "ename": "ImportError",
     "evalue": "No module named yaml",
     "output_type": "error",
     "traceback": [
      "\u001b[1;31m---------------------------------------------------------------------------\u001b[0m",
      "\u001b[1;31mImportError\u001b[0m                               Traceback (most recent call last)",
      "\u001b[1;32m<ipython-input-1-c4c356fae1dd>\u001b[0m in \u001b[0;36m<module>\u001b[1;34m()\u001b[0m\n\u001b[0;32m      1\u001b[0m \u001b[0mget_ipython\u001b[0m\u001b[1;33m(\u001b[0m\u001b[1;33m)\u001b[0m\u001b[1;33m.\u001b[0m\u001b[0mmagic\u001b[0m\u001b[1;33m(\u001b[0m\u001b[1;34mu'matplotlib inline'\u001b[0m\u001b[1;33m)\u001b[0m\u001b[1;33m\u001b[0m\u001b[0m\n\u001b[0;32m      2\u001b[0m \u001b[1;32mfrom\u001b[0m \u001b[0mbigbang\u001b[0m\u001b[1;33m.\u001b[0m\u001b[0marchive\u001b[0m \u001b[1;32mimport\u001b[0m \u001b[0mArchive\u001b[0m\u001b[1;33m\u001b[0m\u001b[0m\n\u001b[1;32m----> 3\u001b[1;33m \u001b[1;32mfrom\u001b[0m \u001b[0mbigbang\u001b[0m \u001b[1;32mimport\u001b[0m \u001b[0mrepo_loader\u001b[0m\u001b[1;33m;\u001b[0m\u001b[1;33m\u001b[0m\u001b[0m\n\u001b[0m\u001b[0;32m      4\u001b[0m \u001b[1;32mfrom\u001b[0m \u001b[0mbigbang\u001b[0m\u001b[1;33m.\u001b[0m\u001b[0mgit_repo\u001b[0m \u001b[1;32mimport\u001b[0m \u001b[0mGitRepo\u001b[0m\u001b[1;33m;\u001b[0m\u001b[1;33m\u001b[0m\u001b[0m\n\u001b[0;32m      5\u001b[0m \u001b[1;32mimport\u001b[0m \u001b[0mmatplotlib\u001b[0m\u001b[1;33m.\u001b[0m\u001b[0mpyplot\u001b[0m \u001b[1;32mas\u001b[0m \u001b[0mplt\u001b[0m\u001b[1;33m\u001b[0m\u001b[0m\n",
      "\u001b[1;32m/home/aryan/urap/bigbang/bigbang/repo_loader.py\u001b[0m in \u001b[0;36m<module>\u001b[1;34m()\u001b[0m\n\u001b[0;32m      7\u001b[0m \u001b[1;32mimport\u001b[0m \u001b[0mpandas\u001b[0m \u001b[1;32mas\u001b[0m \u001b[0mpd\u001b[0m\u001b[1;33m\u001b[0m\u001b[0m\n\u001b[0;32m      8\u001b[0m \u001b[1;32mimport\u001b[0m \u001b[0mrequests\u001b[0m\u001b[1;33m\u001b[0m\u001b[0m\n\u001b[1;32m----> 9\u001b[1;33m \u001b[1;32mfrom\u001b[0m \u001b[0mconfig\u001b[0m\u001b[1;33m.\u001b[0m\u001b[0mconfig\u001b[0m \u001b[1;32mimport\u001b[0m \u001b[0mCONFIG\u001b[0m\u001b[1;33m\u001b[0m\u001b[0m\n\u001b[0m\u001b[0;32m     10\u001b[0m \u001b[1;33m\u001b[0m\u001b[0m\n\u001b[0;32m     11\u001b[0m \u001b[0mrepoLocation\u001b[0m \u001b[1;33m=\u001b[0m \u001b[0mCONFIG\u001b[0m\u001b[1;33m.\u001b[0m\u001b[0mrepo_path\u001b[0m\u001b[1;33m\u001b[0m\u001b[0m\n",
      "\u001b[1;32m/home/aryan/urap/bigbang/config/config.py\u001b[0m in \u001b[0;36m<module>\u001b[1;34m()\u001b[0m\n\u001b[1;32m----> 1\u001b[1;33m \u001b[1;32mimport\u001b[0m \u001b[0myaml\u001b[0m\u001b[1;33m\u001b[0m\u001b[0m\n\u001b[0m\u001b[0;32m      2\u001b[0m \u001b[1;32mimport\u001b[0m \u001b[0mos\u001b[0m\u001b[1;33m\u001b[0m\u001b[0m\n\u001b[0;32m      3\u001b[0m \u001b[0mbase_loc\u001b[0m \u001b[1;33m=\u001b[0m \u001b[0mos\u001b[0m\u001b[1;33m.\u001b[0m\u001b[0mpath\u001b[0m\u001b[1;33m.\u001b[0m\u001b[0mdirname\u001b[0m\u001b[1;33m(\u001b[0m\u001b[0mos\u001b[0m\u001b[1;33m.\u001b[0m\u001b[0mpath\u001b[0m\u001b[1;33m.\u001b[0m\u001b[0mrealpath\u001b[0m\u001b[1;33m(\u001b[0m\u001b[0m__file__\u001b[0m\u001b[1;33m)\u001b[0m\u001b[1;33m)\u001b[0m\u001b[1;33m\u001b[0m\u001b[0m\n\u001b[0;32m      4\u001b[0m \u001b[0mlast_index\u001b[0m \u001b[1;33m=\u001b[0m \u001b[0mbase_loc\u001b[0m\u001b[1;33m.\u001b[0m\u001b[0mrfind\u001b[0m\u001b[1;33m(\u001b[0m\u001b[1;34m\"/\"\u001b[0m\u001b[1;33m)\u001b[0m\u001b[1;33m\u001b[0m\u001b[0m\n\u001b[0;32m      5\u001b[0m \u001b[0mbase_loc\u001b[0m \u001b[1;33m=\u001b[0m \u001b[0mbase_loc\u001b[0m\u001b[1;33m[\u001b[0m\u001b[1;36m0\u001b[0m\u001b[1;33m:\u001b[0m\u001b[0mlast_index\u001b[0m\u001b[1;33m]\u001b[0m \u001b[1;33m+\u001b[0m \u001b[1;34m\"/\"\u001b[0m\u001b[1;33m\u001b[0m\u001b[0m\n",
      "\u001b[1;31mImportError\u001b[0m: No module named yaml"
     ]
    }
   ],
   "source": [
    "%matplotlib inline\n",
    "from bigbang.archive import Archive\n",
    "from bigbang import repo_loader;\n",
    "from bigbang.git_repo import GitRepo;\n",
    "import matplotlib.pyplot as plt\n",
    "import numpy as np\n",
    "import pandas as pd\n",
    "import networkx as nx\n",
    "import random\n",
    "\n",
    "from networkx.readwrite import json_graph\n",
    "import json"
   ]
  },
  {
   "cell_type": "markdown",
   "metadata": {},
   "source": [
    "# Loading Our MultiRepo\n",
    "A MultiRepo is an object that contains commit data from multiple GitRepo objects. We create this with a special function in the repo_loader class. The name provided must be the exact name of the organization on Github.\n",
    "\n",
    "Please note that many Github organizations have many projects with many commits, and bigbang takes about 1 minute per 3000 commits. Also, if you have a slow internet connection, the API calls to github may freeze. Loading from the edX organization takes about 5 to 10 minutes. Make sure it isn't frozen!"
   ]
  },
  {
   "cell_type": "code",
   "execution_count": null,
   "metadata": {
    "collapsed": false
   },
   "outputs": [],
   "source": [
    "org_name = \"glass-bead-labs\"\n",
    "repo = repo_loader.get_org_multirepo(org_name)\n",
    "full_info = repo.commit_data\n",
    "\n",
    "handled = pd.DataFrame(full_info.groupby([\"Repo Name\", \"Committer Name\"]).size())\n",
    "repo_size_df = pd.DataFrame(full_info.groupby(\"Repo Name\").size())\n",
    "author_commits_df = pd.DataFrame(full_info.groupby(\"Committer Name\").size())"
   ]
  },
  {
   "cell_type": "markdown",
   "metadata": {},
   "source": [
    "## Author / File Graph\n",
    "The graph below is a bi-partite graph. There are two types of nodes: committers, and files. Each committer will be connected to a file if they have edited that file. The edge weight represents how many times that committer has edited that file.\n",
    "Feel free to skip this, as you'll see, the data is impossible to comprehend. There are way too many sample points and connections. It will take around 5 minutes just to gather the data."
   ]
  },
  {
   "cell_type": "code",
   "execution_count": null,
   "metadata": {
    "collapsed": false
   },
   "outputs": [],
   "source": [
    "G = nx.Graph()\n",
    "full_info = repo.commit_data\n",
    "repo_colors = dict() # Repo name -> (r, g, b)\n",
    "\n",
    "# Author -> File\n",
    "def make_graph(row):\n",
    "    repo_name = row[\"Repo Name\"]\n",
    "    committer_name = row[\"Committer Name\"]\n",
    "    files = row[\"Touched File\"]\n",
    "    if repo_name not in repo_colors:\n",
    "        repo_colors[repo_name] = (random.randrange(255), random.randrange(255), random.randrange(255))\n",
    "    \n",
    "    if committer_name not in G:\n",
    "        s = ((author_commits_df.loc[committer_name])[0])\n",
    "        G.add_node(committer_name, type=\"committer\", size=s)\n",
    "    \n",
    "    for f in files:\n",
    "        if f not in G:\n",
    "            G.add_node(f, color=\"blue\", type=\"file\", repo=repo_name)\n",
    "\n",
    "        if f not in G[committer_name]:\n",
    "            G.add_edge(committer_name, f, weight=0)\n",
    "\n",
    "        G[committer_name][f][\"weight\"] += 1;\n",
    "        \n",
    "    return row\n",
    "    \n",
    "full_info = full_info.apply(make_graph, axis=1)\n",
    "json.dump(json_graph.node_link_data(G), open(\"./viz/git/\" + str(org_name) + \"_author2file.json\", \"w\"))"
   ]
  },
  {
   "cell_type": "code",
   "execution_count": null,
   "metadata": {
    "collapsed": false
   },
   "outputs": [],
   "source": [
    "widths = [G[u][v]['weight']/10.0 for u, v in G.edges()]\n",
    "#nx.draw(G)\n",
    "plt.figure(1,figsize=(15, 15))\n",
    "pos = nx.spring_layout(G, k = 0.6, iterations = 50)\n",
    "nx.draw_networkx_nodes(G, pos, nodelist = [node[0] for node in G.nodes(data=True) if node[1][\"type\"] == 'committer'], node_size=50, node_color = 'r')\n",
    "nx.draw_networkx_nodes(G, pos, nodelist = [node[0] for node in G.nodes(data=True) if node[1][\"type\"] == 'file'], node_color = 'b')\n",
    "#nx.draw_networkx_edges(G, pos, edge_color = 'g', alpha = 0.8)\n",
    "nx.draw_networkx_edges(G, pos, width=widths, edge_color = \"g\")\n",
    "nx.draw_networkx_labels(G, pos);\n"
   ]
  },
  {
   "cell_type": "markdown",
   "metadata": {},
   "source": [
    "## Author / Repo Graph\n",
    "\n",
    "Let's merge the nodes a little bit to make our lives easier. We don't care that much about individual files, but more so the repos that they belong to.\n",
    "\n",
    "The graph below is a bi-partite graph. There are two types of nodes: committers, and repos. Each committer will be connected to a repo if they have edited a file in that repo. The edge weight represents how many times that committer has editted a file in that repo.\n",
    "\n",
    "We expect a few authors to connect to more than one repo, because they might work across projects within their organization.\n"
   ]
  },
  {
   "cell_type": "code",
   "execution_count": null,
   "metadata": {
    "collapsed": false
   },
   "outputs": [],
   "source": [
    "G = nx.Graph()\n",
    "handled = pd.DataFrame(full_info.groupby([\"Repo Name\", \"Committer Name\"]).size())\n",
    "\n",
    "# Author -> Repo\n",
    "def make_graph(row):\n",
    "    repo_name = row.name[0]\n",
    "    committer_name = row.name[1]\n",
    "    count = row[0]\n",
    "    \n",
    "    if committer_name not in G:\n",
    "        s = ((author_commits_df.loc[committer_name])[0])\n",
    "        G.add_node(committer_name, type=\"committer\", size=s)\n",
    "        \n",
    "    if repo_name not in G:\n",
    "        s = ((repo_size_df.loc[repo_name])[0])\n",
    "        G.add_node(repo_name, color=\"blue\", type=\"repo\", size=s)\n",
    "    \n",
    "    if repo_name not in G[committer_name]:\n",
    "        G.add_edge(committer_name, repo_name, weight=0)\n",
    "        \n",
    "    G[committer_name][repo_name][\"weight\"] += count;\n",
    "        \n",
    "    return row\n",
    "    \n",
    "handled = handled.apply(make_graph, axis=1)\n",
    "json.dump(json_graph.node_link_data(G), open(\"./viz/git/\" + str(org_name) + \"_author2repo.json\", \"w\"))"
   ]
  },
  {
   "cell_type": "code",
   "execution_count": null,
   "metadata": {
    "collapsed": false
   },
   "outputs": [],
   "source": [
    "widths = [G[u][v]['weight']/20.0 for u, v in G.edges()]\n",
    "c_sizes = [node[1][\"size\"]*5 for node in G.nodes(data=True) if node[1][\"type\"] == 'committer']\n",
    "r_sizes = [node[1][\"size\"]*5 for node in G.nodes(data=True) if node[1][\"type\"] == 'repo']\n",
    "\n",
    "#nx.draw(G)\n",
    "plt.figure(1,figsize=(15, 15))\n",
    "pos = nx.spring_layout(G, k = 0.6, iterations = 50)\n",
    "nx.draw_networkx_nodes(G, pos, nodelist = [node[0] for node in G.nodes(data=True) if node[1][\"type\"] == 'committer'], node_size=c_sizes, node_color = 'r')\n",
    "nx.draw_networkx_nodes(G, pos, nodelist = [node[0] for node in G.nodes(data=True) if node[1][\"type\"] == 'repo'], node_size=r_sizes, node_color = 'b')\n",
    "#nx.draw_networkx_edges(G, pos, edge_color = 'g', alpha = 0.8)\n",
    "nx.draw_networkx_edges(G, pos, width=widths)\n",
    "nx.draw_networkx_labels(G, pos);"
   ]
  },
  {
   "cell_type": "markdown",
   "metadata": {},
   "source": [
    "## Repo / Repo Graph\n",
    "The above graph might still be way too cluttered for us to gain any insight, especially with large organizations. What we really want is to see how socially connected two repos are. In this case, we don't really care about specific committers. So we are going to consolidate our Committer-Repo graph's information into a Repo-Repo Graph. We want the weight of the edge between two repo nodes to represent, in some way, how \"socially connected\" they are. If they have a lot of committers that make a lot of edits to both repos, then the weight between them should be more. This is kind of tricky to do quantitatively, but this is going to be our method:\n",
    "\n",
    "For each pair of nodes, n1 and n2, the edge weight between them will be the sum of the \"common-ness\" of their common authors. For a given author that has committed to n1 3 times and n2 5 times, for example, the \"common-ness\" will be the minimum least value of 3 and 5. Therefore, for that common author, we will add 3 to the edge weight between n1 and n2. We repeat this process for all common authors between n1 and n2, and for all other pairs of nodes as well.\n",
    "\n"
   ]
  },
  {
   "cell_type": "code",
   "execution_count": null,
   "metadata": {
    "collapsed": false
   },
   "outputs": [],
   "source": [
    "repos = [node[0] for node in G.nodes(data=True) if node[1][\"type\"] == 'repo']\n",
    "committers = [node[0] for node in G.nodes(data=True) if node[1][\"type\"] == 'committer']\n",
    "\n",
    "# Repo -> Repo\n",
    "NG = nx.Graph()\n",
    "for u,v in G.edges():\n",
    "    committer = v\n",
    "    repo = u\n",
    "    if u in committers:\n",
    "        committer = u\n",
    "        repo = v\n",
    "    if repo not in NG:\n",
    "        NG.add_node(repo, type=\"repo\");\n",
    "    \n",
    "    for other_repo in repos:\n",
    "        if other_repo not in NG:\n",
    "            NG.add_node(other_repo, type=\"repo\");\n",
    "        if other_repo != repo:\n",
    "            if committer in G[other_repo]:\n",
    "                to_add = min(G[repo][committer][\"weight\"], G[other_repo][committer][\"weight\"])\n",
    "                \n",
    "                if other_repo not in NG[repo]:\n",
    "                    NG.add_edge(repo, other_repo, weight=0);\n",
    "                \n",
    "                NG[repo][other_repo][\"weight\"] += to_add;\n",
    "\n",
    "\n",
    "    \n",
    "    "
   ]
  },
  {
   "cell_type": "code",
   "execution_count": null,
   "metadata": {
    "collapsed": false
   },
   "outputs": [],
   "source": [
    "json.dump(json_graph.node_link_data(NG), open(\"./viz/git/\" + str(org_name) + \"_repo2repo.json\", \"w\"))"
   ]
  },
  {
   "cell_type": "code",
   "execution_count": null,
   "metadata": {
    "collapsed": false
   },
   "outputs": [],
   "source": [
    "widths = [NG[u][v]['weight']/20.0  for u, v in NG.edges()]\n",
    "r_sizes = [node[1][\"size\"]*5 for node in G.nodes(data=True) if node[1][\"type\"] == 'repo']\n",
    "\n",
    "plt.figure(1,figsize=(15, 15))\n",
    "pos = nx.spring_layout(NG, k = 0.6, iterations = 100)\n",
    "nx.draw_networkx_nodes(NG, pos, nodelist = [node[0] for node in NG.nodes(data=True)], node_size=r_sizes, node_color = 'r')\n",
    "nx.draw_networkx_edges(NG, pos, width=widths)\n",
    "nx.draw_networkx_labels(NG, pos);"
   ]
  },
  {
   "cell_type": "code",
   "execution_count": null,
   "metadata": {
    "collapsed": true
   },
   "outputs": [],
   "source": []
  }
 ],
 "metadata": {
  "kernelspec": {
   "display_name": "Python 2",
   "language": "python",
   "name": "python2"
  },
  "language_info": {
   "codemirror_mode": {
    "name": "ipython",
    "version": 2
   },
   "file_extension": ".py",
   "mimetype": "text/x-python",
   "name": "python",
   "nbconvert_exporter": "python",
   "pygments_lexer": "ipython2",
   "version": "2.7.9"
  }
 },
 "nbformat": 4,
 "nbformat_minor": 0
}
