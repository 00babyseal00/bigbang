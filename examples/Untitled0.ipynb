{
 "metadata": {
  "name": "",
  "signature": "sha256:3f2f8563e6c200eb8575c09e0c0d1691bbb956360f51e35f603488e6125e26c8"
 },
 "nbformat": 3,
 "nbformat_minor": 0,
 "worksheets": []
}