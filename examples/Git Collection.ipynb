{
 "metadata": {
  "name": "",
  "signature": "sha256:de1de2697136a09a3ab2a1f3f18f8c5f2d600834217e77e76c06b8f5930c591b"
 },
 "nbformat": 3,
 "nbformat_minor": 0,
 "worksheets": [
  {
   "cells": [
    {
     "cell_type": "code",
     "collapsed": false,
     "input": [
      "%matplotlib inline\n",
      "from bigbang.archive import Archive\n",
      "from git_data import Repos;\n",
      "import matplotlib.pyplot as plt\n",
      "import numpy as np\n",
      "import pandas as pd\n",
      "\n",
      "url = \"http://mail.scipy.org/pipermail/scipy-dev/\"\n",
      "arx = Archive(url,archive_dir=\"../archives\")\n"
     ],
     "language": "python",
     "metadata": {},
     "outputs": [
      {
       "output_type": "stream",
       "stream": "stdout",
       "text": [
        "Opening 0 archive files\n"
       ]
      },
      {
       "ename": "MissingDataException",
       "evalue": "'No messages in ../archives under http://mail.scipy.org/pipermail/scipy-dev/. Did you run the collect_mail.py script?'",
       "output_type": "pyerr",
       "traceback": [
        "\u001b[1;31m---------------------------------------------------------------------------\u001b[0m\n\u001b[1;31mMissingDataException\u001b[0m                      Traceback (most recent call last)",
        "\u001b[1;32m<ipython-input-1-891e8f53b712>\u001b[0m in \u001b[0;36m<module>\u001b[1;34m()\u001b[0m\n\u001b[0;32m      7\u001b[0m \u001b[1;33m\u001b[0m\u001b[0m\n\u001b[0;32m      8\u001b[0m \u001b[0murl\u001b[0m \u001b[1;33m=\u001b[0m \u001b[1;34m\"http://mail.scipy.org/pipermail/scipy-dev/\"\u001b[0m\u001b[1;33m\u001b[0m\u001b[0m\n\u001b[1;32m----> 9\u001b[1;33m \u001b[0marx\u001b[0m \u001b[1;33m=\u001b[0m \u001b[0mArchive\u001b[0m\u001b[1;33m(\u001b[0m\u001b[0murl\u001b[0m\u001b[1;33m,\u001b[0m\u001b[0marchive_dir\u001b[0m\u001b[1;33m=\u001b[0m\u001b[1;34m\"../archives\"\u001b[0m\u001b[1;33m)\u001b[0m\u001b[1;33m\u001b[0m\u001b[0m\n\u001b[0m",
        "\u001b[1;32m/home/aryan/urap/bigbang/bigbang/archive.pyc\u001b[0m in \u001b[0;36m__init__\u001b[1;34m(self, data, archive_dir, single_file)\u001b[0m\n\u001b[0;32m     75\u001b[0m                         (\"No messages in %s under %s. Did you run the \"\n\u001b[0;32m     76\u001b[0m                          \"collect_mail.py script?\") %\n\u001b[1;32m---> 77\u001b[1;33m                         (archive_dir, data))\n\u001b[0m\u001b[0;32m     78\u001b[0m \u001b[1;33m\u001b[0m\u001b[0m\n\u001b[0;32m     79\u001b[0m             \u001b[0mself\u001b[0m\u001b[1;33m.\u001b[0m\u001b[0mdata\u001b[0m \u001b[1;33m=\u001b[0m \u001b[0mself\u001b[0m\u001b[1;33m.\u001b[0m\u001b[0mmessages_to_dataframe\u001b[0m\u001b[1;33m(\u001b[0m\u001b[0mmessages\u001b[0m\u001b[1;33m)\u001b[0m\u001b[1;33m\u001b[0m\u001b[0m\n",
        "\u001b[1;31mMissingDataException\u001b[0m: 'No messages in ../archives under http://mail.scipy.org/pipermail/scipy-dev/. Did you run the collect_mail.py script?'"
       ]
      }
     ],
     "prompt_number": 1
    },
    {
     "cell_type": "code",
     "collapsed": false,
     "input": [
      "print(\"Starting\");\n",
      "act = arx.get_activity()\n",
      "print(\"Activity loaded!\");\n",
      "repo = Repos.get_repo(\"scipy\")\n",
      "print(\"Repo loaded!\");\n",
      "full_info = repo.commit_data;\n",
      "print(\"Full info loaded!\");"
     ],
     "language": "python",
     "metadata": {},
     "outputs": []
    },
    {
     "cell_type": "code",
     "collapsed": false,
     "input": [
      "fig = plt.figure(figsize=(12.5, 7.5))\n",
      "\n",
      "#act.idxmax().order().T.plot()\n",
      "act = arx.data.groupby(\"Date\").size();\n",
      "act = act.resample(\"D\", how=np.sum)\n",
      "act = act[act.index.year <= 2014]\n",
      "act_week = act.resample(\"W\", how=np.sum)\n",
      "\n",
      "act_week.plot()"
     ],
     "language": "python",
     "metadata": {},
     "outputs": []
    },
    {
     "cell_type": "code",
     "collapsed": false,
     "input": [
      "fig = plt.figure(figsize=(10, 7.5));\n",
      "commits_per_day = repo.commits_per_day()\n",
      "commits_per_week = repo.commits_per_week()\n",
      "commits_per_day.plot()\n",
      "commits_per_week.plot()"
     ],
     "language": "python",
     "metadata": {},
     "outputs": []
    },
    {
     "cell_type": "code",
     "collapsed": false,
     "input": [
      "fig = plt.figure(figsize=(10, 7.5));\n",
      "simp = 7\n",
      "convulation_array = [1.0/(simp) for n in range(simp)];\n",
      "c_array = np.convolve(commits_per_week, convulation_array, \"same\")\n",
      "e_array = np.convolve(act_week, convulation_array, \"same\");\n",
      "print(len(e_array) - len(act.index))\n",
      "plt.plot(act_week.index, e_array)\n",
      "plt.plot(commits_per_week.index, c_array)\n",
      "fig.axes[0].xaxis_date()"
     ],
     "language": "python",
     "metadata": {},
     "outputs": []
    },
    {
     "cell_type": "code",
     "collapsed": false,
     "input": [
      "commits_per_day"
     ],
     "language": "python",
     "metadata": {},
     "outputs": []
    },
    {
     "cell_type": "code",
     "collapsed": false,
     "input": [
      "plt.figure(figsize=(10, 7.5));\n",
      "df = repo.by_committer();\n",
      "if (len(df > 20)):\n",
      "    df = df[len(df)-20:]\n",
      "df.plot(kind=\"bar\")\n"
     ],
     "language": "python",
     "metadata": {},
     "outputs": []
    },
    {
     "cell_type": "code",
     "collapsed": false,
     "input": [
      "n = 5"
     ],
     "language": "python",
     "metadata": {},
     "outputs": []
    },
    {
     "cell_type": "code",
     "collapsed": false,
     "input": [
      "import numpy as np\n",
      "\n",
      "def first_commit_fn(df):\n",
      "    if (len(df) < 1):\n",
      "        return;\n",
      "    else:\n",
      "        return df\n",
      "dataFrame = full_info\n",
      "\n",
      "commits_by_time =  dataFrame.groupby([\"Committer Name\", dataFrame['Time'].map(lambda x: x.toordinal()/100)], sort=True).size();\n",
      "time = dataFrame.groupby(dataFrame['Time'].map(lambda x: x.toordinal()/100)).size().order();\n",
      "first_commits = dataFrame.groupby(\"Committer Name\").min().sort(\"Time\");\n",
      "\n",
      "commits_by_time = (commits_by_time.reindex(index = time.index.values, level=1, fill_value=0))\n",
      "\n",
      "cohorts = np.array_split(first_commits, n);\n",
      "\n",
      "convulation_array = [.1,.1,.1,.1,.1,.1,.1,.1,.1,.1];\n",
      "\n",
      "cohort_activity = [(commits_by_time.loc[cohort.index.values].sum(None, False, 1, False)).reindex(index = time.index.values) for cohort in cohorts];\n",
      "\n",
      "for i in range(len(cohort_activity)):\n",
      "    cohort_activity[i] = np.convolve(cohort_activity[i], convulation_array)\n",
      "\n",
      "\n",
      "to_graph = pd.DataFrame(cohort_activity).transpose()\n",
      "fig = plt.figure(figsize=(20, 15))\n",
      "to_graph.plot(kind=\"bar\",stacked=True, linewidth=0)"
     ],
     "language": "python",
     "metadata": {},
     "outputs": []
    },
    {
     "cell_type": "code",
     "collapsed": false,
     "input": [],
     "language": "python",
     "metadata": {},
     "outputs": []
    },
    {
     "cell_type": "code",
     "collapsed": false,
     "input": [],
     "language": "python",
     "metadata": {},
     "outputs": []
    }
   ],
   "metadata": {}
  }
 ]
}