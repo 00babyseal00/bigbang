{
 "metadata": {
  "name": "",
  "signature": "sha256:80e520f20869f8793e882e7ddaff71d975ecc1c2f1bf0235fb3e3526742555d7"
 },
 "nbformat": 3,
 "nbformat_minor": 0,
 "worksheets": [
  {
   "cells": [
    {
     "cell_type": "code",
     "collapsed": false,
     "input": [
      "%matplotlib inline\n",
      "from bigbang.archive import Archive\n",
      "from git_data import Repos;\n",
      "import matplotlib.pyplot as plt\n",
      "import numpy as np\n",
      "import pandas as pd\n"
     ],
     "language": "python",
     "metadata": {},
     "outputs": [],
     "prompt_number": 1
    },
    {
     "cell_type": "markdown",
     "metadata": {},
     "source": [
      "One of the newest features of BigBang is the ability to analyze git info for each project. For now, we mostly just look at commits over time. We can also analyze individual committers to run cohort visualization. \n",
      "\n",
      "First, make sure that you've collected git and mail data. For now, we are looking at scipy, but you can analyze any git repo you'd like by loading its info. Below, we load the mail and git data into data tables.\n",
      "\n"
     ]
    },
    {
     "cell_type": "code",
     "collapsed": false,
     "input": [
      "url = \"http://mail.scipy.org/pipermail/scipy-dev/\"\n",
      "arx = Archive(url,archive_dir=\"../archives\")\n",
      "repo = Repos.get_repo(\"scipy\")\n",
      "full_info = repo.commit_data;\n",
      "\n",
      "act = arx.data.groupby(\"Date\").size();\n",
      "act = act.resample(\"D\", how=np.sum)\n",
      "act = act[act.index.year <= 2014]\n",
      "act_week = act.resample(\"W\", how=np.sum)"
     ],
     "language": "python",
     "metadata": {},
     "outputs": []
    },
    {
     "cell_type": "markdown",
     "metadata": {},
     "source": [
      "The code below graphs the commits per day and commits per week for scipy. As we will see later, consolidating commits into larger time periods allows for smoother graphs. As you can see, the weekly graph is slightly smoother. We will find some more ways to smoothen these lines."
     ]
    },
    {
     "cell_type": "code",
     "collapsed": false,
     "input": [
      "fig = plt.figure(figsize=(10, 7.5));\n",
      "commits_per_day = repo.commits_per_day()\n",
      "commits_per_week = repo.commits_per_week()\n",
      "commits_per_day.plot()\n",
      "fig = plt.figure(figsize=(10, 7.5));\n",
      "commits_per_week.plot()"
     ],
     "language": "python",
     "metadata": {},
     "outputs": []
    },
    {
     "cell_type": "markdown",
     "metadata": {},
     "source": [
      "With some convolution, the two jutted graphs make much more sense. This graphs commits per week and emails per week. The fact that we have the git and mail data for the same project lets us analyze the relationship between emails and commits. We can look at whether or not weeks where there is a lot of emailing are followed by weeks of many commits. We can even go down to the individual level and analyze each commiter/emailer with questions like \"Is a person less likely to commit if they email a lot?\""
     ]
    },
    {
     "cell_type": "code",
     "collapsed": false,
     "input": [
      "fig = plt.figure(figsize=(10, 7.5));\n",
      "\n",
      "simp = 5\n",
      "\n",
      "convulation_array = [1.0/(simp) for n in range(simp)];\n",
      "c_array = np.convolve(commits_per_week, convulation_array, \"same\")\n",
      "e_array = np.convolve(act_week, convulation_array, \"same\");\n",
      "\n",
      "plt.plot(act_week.index, e_array) # The Blue\n",
      "plt.plot(commits_per_week.index, c_array) # The Green\n",
      "\n",
      "fig.axes[0].xaxis_date()"
     ],
     "language": "python",
     "metadata": {},
     "outputs": []
    },
    {
     "cell_type": "markdown",
     "metadata": {},
     "source": [
      "This is the top 20 (or fewer) committers to a project. An interesting question to answer for the future would be whether or not these committers are more likely to be in the same cohort. "
     ]
    },
    {
     "cell_type": "code",
     "collapsed": false,
     "input": [
      "plt.figure(figsize=(10, 7.5));\n",
      "df = repo.by_committer();\n",
      "if (len(df > 20)):\n",
      "    df = df[len(df)-20:]\n",
      "df.plot(kind=\"bar\")\n"
     ],
     "language": "python",
     "metadata": {},
     "outputs": []
    },
    {
     "cell_type": "markdown",
     "metadata": {},
     "source": [
      "Below, one can see cohort visualization of commits. Each cohort is a group of commiters that started working on the project around the same time. The first cohort is the first 1/5th of people to start committing, the second cohort is the second 1/5th of people to start committing, and so on. For Scipy, the first cohort of commiters tends to dominate, while the second has recently taken some more charge."
     ]
    },
    {
     "cell_type": "code",
     "collapsed": false,
     "input": [
      "n = 5\n",
      "\n",
      "import numpy as np\n",
      "\n",
      "def first_commit_fn(df):\n",
      "    if (len(df) < 1):\n",
      "        return;\n",
      "    else:\n",
      "        return df\n",
      "dataFrame = full_info\n",
      "\n",
      "commits_by_time =  dataFrame.groupby([\"Committer Name\", dataFrame['Time'].map(lambda x: x.toordinal()/100)], sort=True).size();\n",
      "time = dataFrame.groupby(dataFrame['Time'].map(lambda x: x.toordinal()/100)).size().order();\n",
      "first_commits = dataFrame.groupby(\"Committer Name\").min().sort(\"Time\");\n",
      "\n",
      "commits_by_time = (commits_by_time.reindex(index = time.index.values, level=1, fill_value=0))\n",
      "\n",
      "cohorts = np.array_split(first_commits, n);\n",
      "\n",
      "convulation_array = [.1,.1,.1,.1,.1,.1,.1,.1,.1,.1];\n",
      "\n",
      "cohort_activity = [(commits_by_time.loc[cohort.index.values].sum(None, False, 1, False)).reindex(index = time.index.values) for cohort in cohorts];\n",
      "\n",
      "for i in range(len(cohort_activity)):\n",
      "    cohort_activity[i] = np.convolve(cohort_activity[i], convulation_array)\n",
      "\n",
      "\n",
      "to_graph = pd.DataFrame(cohort_activity).transpose()\n",
      "\n",
      "to_graph.plot(kind=\"bar\",stacked=True, linewidth=0)"
     ],
     "language": "python",
     "metadata": {},
     "outputs": []
    },
    {
     "cell_type": "code",
     "collapsed": false,
     "input": [
      "byCommitter = repo.by_committer();\n",
      "\n",
      "totalCohortCommits = [];\n",
      "\n",
      "for cohort in cohorts:\n",
      "    cohortPeople = byCommitter.reindex(cohort.index);\n",
      "    totalCohortCommits.append(cohortPeople.sum())\n",
      "\n",
      "commitsPerCohort = pd.DataFrame(totalCohortCommits);\n",
      "\n",
      "commitsPerCohort.transpose().plot(kind=\"bar\")"
     ],
     "language": "python",
     "metadata": {},
     "outputs": []
    },
    {
     "cell_type": "markdown",
     "metadata": {},
     "source": [
      "This explains why the first cohort dominates all the others: those who joined the project early on happen to make many more commits than those who joined later. Part of this is because they've had more time to contribute to the project, but there could be other factors."
     ]
    },
    {
     "cell_type": "code",
     "collapsed": false,
     "input": [],
     "language": "python",
     "metadata": {},
     "outputs": []
    },
    {
     "cell_type": "code",
     "collapsed": false,
     "input": [],
     "language": "python",
     "metadata": {},
     "outputs": []
    }
   ],
   "metadata": {}
  }
 ]
}