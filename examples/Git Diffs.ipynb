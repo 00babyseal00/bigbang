{
 "metadata": {
  "name": "",
  "signature": "sha256:8ddfcc96b1d567cf0cfe95940d4cff72b75b38f2ab6044e7562ae4c6a92543e6"
 },
 "nbformat": 3,
 "nbformat_minor": 0,
 "worksheets": [
  {
   "cells": [
    {
     "cell_type": "code",
     "collapsed": false,
     "input": [
      "%matplotlib inline\n",
      "from bigbang.archive import Archive\n",
      "from git_data import Repos;\n",
      "import matplotlib.pyplot as plt\n",
      "import numpy as np\n",
      "import pandas as pd\n"
     ],
     "language": "python",
     "metadata": {},
     "outputs": [],
     "prompt_number": 1
    },
    {
     "cell_type": "code",
     "collapsed": false,
     "input": [
      "repo = Repos.get_repo(\"bigbang\")\n",
      "full_info = repo.commit_data;\n"
     ],
     "language": "python",
     "metadata": {},
     "outputs": [],
     "prompt_number": 2
    },
    {
     "cell_type": "code",
     "collapsed": false,
     "input": [
      "print(full_info[\"Touched File\"])"
     ],
     "language": "python",
     "metadata": {},
     "outputs": [
      {
       "output_type": "stream",
       "stream": "stdout",
       "text": [
        "2015-02-18 20:07:05    [examples/Git Collection.ipynb, git_data/GitRe...\n",
        "2015-02-18 07:07:57    [examples/Git Collection.ipynb, git_data/GitRe...\n",
        "2015-02-12 18:37:35                                                   []\n",
        "2015-02-05 21:51:57                                          [README.md]\n",
        "2015-02-04 01:38:39                        [README.md, bigbang/parse.py]\n",
        "2015-02-04 01:25:50    [README.md, bigbang/mailman.py, bigbang/parse.py]\n",
        "2015-01-30 22:40:47    [README.md, bigbang/mailman.py, bigbang/parse.py]\n",
        "2015-01-30 21:51:16    [README.md, bigbang/mailman.py, bigbang/parse.py]\n",
        "2015-01-30 21:50:20    [README.md, bigbang/mailman.py, bigbang/parse....\n",
        "2015-01-26 20:47:05    [README.md, bigbang/mailman.py, bigbang/parse.py]\n",
        "2014-12-19 17:55:09    [.gitignore, .travis.yml, README.md, bigbang/a...\n",
        "2014-12-18 21:06:29    [README.md, bigbang/mailman.py, bigbang/parse....\n",
        "2014-12-15 23:46:04    [README.md, bigbang/mailman.py, bigbang/parse....\n",
        "2014-12-15 23:45:53    [README.md, bigbang/entity_resolution.py, bigb...\n",
        "2014-12-10 02:05:19    [.gitignore, .travis.yml, README.md, bigbang/a...\n",
        "...\n",
        "2014-06-26 16:22:18    [.gitignore, .travis.yml, README.md, bigbang/a...\n",
        "2014-06-26 16:08:19    [.gitignore, .travis.yml, README.md, bigbang/a...\n",
        "2014-06-25 04:37:21    [.gitignore, .travis.yml, README.md, bigbang/a...\n",
        "2014-06-23 21:45:05    [.gitignore, .travis.yml, README.md, bigbang/a...\n",
        "2014-06-23 20:37:25    [.gitignore, .travis.yml, README.md, bigbang/a...\n",
        "2014-06-23 18:57:27    [.gitignore, .travis.yml, README.md, bigbang/a...\n",
        "2014-06-23 18:54:04    [.gitignore, .travis.yml, README.md, bigbang/a...\n",
        "2014-06-19 21:21:42    [.gitignore, .travis.yml, README.md, bigbang/a...\n",
        "2014-06-19 21:20:58    [.gitignore, .travis.yml, README.md, bigbang/_...\n",
        "2014-06-19 20:53:35    [.gitignore, .travis.yml, README.md, bigbang/_...\n",
        "2014-06-19 20:52:56    [.gitignore, .travis.yml, README.md, bigbang/_...\n",
        "2014-06-18 00:35:00    [.gitignore, .travis.yml, README.md, bigbang/_...\n",
        "2014-06-17 23:17:32    [.gitignore, .travis.yml, README.md, bigbang/_...\n",
        "2014-06-17 23:02:13    [.gitignore, .travis.yml, README.md, bigbang/_...\n",
        "2014-06-17 22:42:32    [.gitignore, .travis.yml, LICENSE, README.md, ...\n",
        "Freq: H, Name: Touched File, Length: 279\n"
       ]
      }
     ],
     "prompt_number": 5
    }
   ],
   "metadata": {}
  }
 ]
}