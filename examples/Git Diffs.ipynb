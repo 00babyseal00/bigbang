{
 "metadata": {
  "name": "",
  "signature": "sha256:9a72968d7aa6faf810e3e38b6437334710c547fbb3b2d5fa13f117d93492593f"
 },
 "nbformat": 3,
 "nbformat_minor": 0,
 "worksheets": [
  {
   "cells": [
    {
     "cell_type": "code",
     "collapsed": false,
     "input": [
      "%matplotlib inline\n",
      "from bigbang.archive import Archive\n",
      "from git_data import Repos;\n",
      "from git_data import GitRepo\n",
      "import matplotlib.pyplot as plt\n",
      "import numpy as np\n",
      "import pandas as pd\n"
     ],
     "language": "python",
     "metadata": {},
     "outputs": [],
     "prompt_number": 1
    },
    {
     "cell_type": "code",
     "collapsed": false,
     "input": [
      "repo = GitRepo.GitRepo(\"..\")\n",
      "full_info = repo.commit_data;\n"
     ],
     "language": "python",
     "metadata": {},
     "outputs": [],
     "prompt_number": 2
    },
    {
     "cell_type": "code",
     "collapsed": false,
     "input": [
      "print(full_info.columns)"
     ],
     "language": "python",
     "metadata": {},
     "outputs": [
      {
       "output_type": "stream",
       "stream": "stdout",
       "text": [
        "Index([u'Commit Message', u'Committer Email', u'Committer Name', u'HEXSHA', u'Parent Commit', u'Time', u'Touched File'], dtype='object')\n"
       ]
      }
     ],
     "prompt_number": 3
    },
    {
     "cell_type": "code",
     "collapsed": true,
     "input": [
      "import networkx as nx;\n"
     ],
     "language": "python",
     "metadata": {},
     "outputs": [
      {
       "output_type": "stream",
       "stream": "stdout",
       "text": [
        "Couldn't import dot_parser, loading of dot files will not be possible.\n"
       ]
      }
     ],
     "prompt_number": 4
    },
    {
     "cell_type": "code",
     "collapsed": false,
     "input": [
      "G = nx.Graph()\n",
      "\n",
      "def add_to_graph(r): # Adds info from row to graph\n",
      "    author = r[\"Committer Name\"]\n",
      "    files = r[\"Touched File\"]\n",
      "    for f in files:\n",
      "        if G.has_edge(author, f):\n",
      "            G[author][f]['weight'] += 1\n",
      "        else:\n",
      "            G.add_edge(author, f, weight = 1)\n",
      "            G.node[author][type] = 'author'\n",
      "            G.node[f][type] = 'file'\n",
      "        \n",
      "a = full_info.apply(add_to_graph, axis=1) # Dummy to make it not print\n",
      "widths = [G[u][v]['weight']/20.0 for u, v in G.edges()]"
     ],
     "language": "python",
     "metadata": {},
     "outputs": [],
     "prompt_number": 5
    },
    {
     "cell_type": "code",
     "collapsed": false,
     "input": [
      "#nx.draw(G)\n",
      "plt.figure(1,figsize=(15, 15))\n",
      "pos = nx.spring_layout(G, k = 0.6, iterations = 20)\n",
      "nx.draw_networkx_nodes(G, pos, nodelist = [node[0] for node in G.nodes(data=True) if node[1][type] == 'author'], node_size=750, node_color = 'r')\n",
      "nx.draw_networkx_nodes(G, pos, nodelist = [node[0] for node in G.nodes(data=True) if node[1][type] == 'file'], node_color = 'b')\n",
      "nx.draw_networkx_edges(G, pos, width=widths, edge_color = 'g', alpha = 0.8)\n",
      "#nx.draw_networkx_edges(G, pos, width=widths, edge_color = widths)\n",
      "nx.draw_networkx_labels(G, pos);"
     ],
     "language": "python",
     "metadata": {},
     "outputs": []
    }
   ],
   "metadata": {}
  }
 ]
}
