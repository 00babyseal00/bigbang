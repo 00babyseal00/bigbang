{
 "metadata": {
  "name": "",
  "signature": "sha256:6d51461eaca4a910f396a036af08bc66afe21a6bc3977f76bc93d43d78cb7a51"
 },
 "nbformat": 3,
 "nbformat_minor": 0,
 "worksheets": [
  {
   "cells": [
    {
     "cell_type": "markdown",
     "metadata": {},
     "source": [
      "This notebook creates a graph representation of the collaboration between contributors of a Git repository, where nodes are authors, and edges are weighted by the parent/child dependencies between the commits of authors."
     ]
    },
    {
     "cell_type": "code",
     "collapsed": false,
     "input": [
      "%matplotlib inline\n",
      "from bigbang.git_repo import GitRepo;\n",
      "from bigbang import repo_loader;\n",
      "\n",
      "import matplotlib.pyplot as plt\n",
      "import networkx as nx\n",
      "import pandas as pd"
     ],
     "language": "python",
     "metadata": {},
     "outputs": [],
     "prompt_number": 13
    },
    {
     "cell_type": "code",
     "collapsed": false,
     "input": [
      "repos = repo_loader.get_org_repos(\"codeforamerica\")\n",
      "repo = repo_loader.get_multi_repo(repos=repos)\n",
      "full_info = repo.commit_data;"
     ],
     "language": "python",
     "metadata": {},
     "outputs": [
      {
       "output_type": "stream",
       "stream": "stdout",
       "text": [
        "Checking if cached\n",
        "Running Entity Resolution on cfahelloworld"
       ]
      },
      {
       "output_type": "stream",
       "stream": "stdout",
       "text": [
        "\n",
        "Checking if cached\n",
        "Running Entity Resolution on shortstack"
       ]
      },
      {
       "output_type": "stream",
       "stream": "stdout",
       "text": [
        "\n",
        "Checking if cached"
       ]
      },
      {
       "output_type": "stream",
       "stream": "stdout",
       "text": [
        "\n",
        "Running Entity Resolution on cfawp2012"
       ]
      },
      {
       "output_type": "stream",
       "stream": "stdout",
       "text": [
        "\n",
        "Checking if cached"
       ]
      },
      {
       "output_type": "stream",
       "stream": "stdout",
       "text": [
        "\n",
        "Running Entity Resolution on Open311-Visualization"
       ]
      },
      {
       "output_type": "stream",
       "stream": "stdout",
       "text": [
        "\n",
        "Checking if cached\n",
        "Running Entity Resolution on open311"
       ]
      },
      {
       "output_type": "stream",
       "stream": "stdout",
       "text": [
        "\n",
        "Checking if cached\n",
        "Running Entity Resolution on follow-all"
       ]
      },
      {
       "output_type": "stream",
       "stream": "stdout",
       "text": [
        "\n",
        "Checking if cached"
       ]
      },
      {
       "output_type": "stream",
       "stream": "stdout",
       "text": [
        "\n",
        "Running Entity Resolution on gollum"
       ]
      },
      {
       "output_type": "stream",
       "stream": "stdout",
       "text": [
        "\n",
        "Checking if cached"
       ]
      },
      {
       "output_type": "stream",
       "stream": "stdout",
       "text": [
        "\n",
        "Running Entity Resolution on svg_canvas_experiments\n",
        "Checking if cached\n",
        "Running Entity Resolution on adopt-a-hydrant"
       ]
      },
      {
       "output_type": "stream",
       "stream": "stdout",
       "text": [
        "\n",
        "Checking if cached"
       ]
      },
      {
       "output_type": "stream",
       "stream": "stdout",
       "text": [
        "\n",
        "Running Entity Resolution on secretsauce\n",
        "Checking if cached"
       ]
      },
      {
       "output_type": "stream",
       "stream": "stdout",
       "text": [
        "\n",
        "Running Entity Resolution on datalogue\n",
        "Checking if cached\n",
        "Running Entity Resolution on open311dashboard"
       ]
      },
      {
       "output_type": "stream",
       "stream": "stdout",
       "text": [
        "\n",
        "Checking if cached\n",
        "Running Entity Resolution on designforamerica"
       ]
      },
      {
       "output_type": "stream",
       "stream": "stdout",
       "text": [
        "\n",
        "Checking if cached\n",
        "Running Entity Resolution on tipster\n",
        "Checking if cached\n",
        "Running Entity Resolution on georuby\n",
        "Checking if cached\n",
        "Running Entity Resolution on gem_template"
       ]
      },
      {
       "output_type": "stream",
       "stream": "stdout",
       "text": [
        "\n",
        "Checking if cached\n",
        "Running Entity Resolution on hubbuds\n",
        "Checking if cached\n",
        "Running Entity Resolution on Twitter-Collage"
       ]
      },
      {
       "output_type": "stream",
       "stream": "stdout",
       "text": [
        "\n",
        "Checking if cached"
       ]
      },
      {
       "output_type": "stream",
       "stream": "stdout",
       "text": [
        "\n",
        "Running Entity Resolution on flocky\n",
        "Checking if cached\n",
        "Running Entity Resolution on councilmatic"
       ]
      },
      {
       "output_type": "stream",
       "stream": "stdout",
       "text": [
        "\n",
        "Checking if cached"
       ]
      },
      {
       "output_type": "stream",
       "stream": "stdout",
       "text": [
        "\n",
        "Running Entity Resolution on classtalk"
       ]
      },
      {
       "output_type": "stream",
       "stream": "stdout",
       "text": [
        "\n",
        "Checking if cached"
       ]
      },
      {
       "output_type": "stream",
       "stream": "stdout",
       "text": [
        "\n",
        "Running Entity Resolution on 2010BasicCensusMap\n",
        "Checking if cached\n",
        "Running Entity Resolution on cfa-drupal-template\n",
        "Checking if cached\n",
        "Running Entity Resolution on wheresmyschoolbus"
       ]
      },
      {
       "output_type": "stream",
       "stream": "stdout",
       "text": [
        "\n",
        "Checking if cached\n",
        "Running Entity Resolution on cfa-drupal-example-module\n",
        "Checking if cached\n",
        "Running Entity Resolution on Wufoopress\n",
        "Checking if cached"
       ]
      },
      {
       "output_type": "stream",
       "stream": "stdout",
       "text": [
        "\n",
        "Running Entity Resolution on cfa_coder_sounds"
       ]
      },
      {
       "output_type": "stream",
       "stream": "stdout",
       "text": [
        "\n",
        "Checking if cached"
       ]
      },
      {
       "output_type": "stream",
       "stream": "stdout",
       "text": [
        "\n",
        "Running Entity Resolution on engagement_toolkit"
       ]
      },
      {
       "output_type": "stream",
       "stream": "stdout",
       "text": [
        "\n",
        "Checking if cached"
       ]
      },
      {
       "output_type": "stream",
       "stream": "stdout",
       "text": [
        "\n",
        "Running Entity Resolution on Catalyze\n",
        "Checking if cached\n",
        "Running Entity Resolution on lunch_roulette"
       ]
      },
      {
       "output_type": "stream",
       "stream": "stdout",
       "text": [
        "\n"
       ]
      }
     ],
     "prompt_number": 14
    },
    {
     "cell_type": "markdown",
     "metadata": {},
     "source": [
      "Nodes will be Author objects, each of which holds a list of Commit objects."
     ]
    },
    {
     "cell_type": "code",
     "collapsed": false,
     "input": [
      "class Commit:\n",
      "    def __init__(self, message, hexsha, parents):\n",
      "        self.message = message\n",
      "        self.hexsha = hexsha\n",
      "        self.parents = parents\n",
      "        \n",
      "    def __repr__(self):\n",
      "        return ' '.join(self.message.split(' ')[:4])\n",
      "\n",
      "    \n",
      "class Author:\n",
      "    def __init__(self, name, commits):\n",
      "        self.name = name\n",
      "        self.commits = commits\n",
      "        self.number_of_commits = 1\n",
      "    \n",
      "    def add_commit(self, commit):\n",
      "        self.commits.append(commit)\n",
      "        self.number_of_commits += 1\n",
      "        \n",
      "    def __repr__(self):\n",
      "        return self.name"
     ],
     "language": "python",
     "metadata": {},
     "outputs": [],
     "prompt_number": 15
    },
    {
     "cell_type": "markdown",
     "metadata": {},
     "source": [
      "We create a list of authors, also separately keeping track of committer names to make sure we only add each author once. If a commit by an already stored author is found, we add it to that authors list of commits."
     ]
    },
    {
     "cell_type": "code",
     "collapsed": false,
     "input": [
      "def get_authors():\n",
      "    authors = []\n",
      "    names = []\n",
      "\n",
      "    for index, row in full_info.iterrows():\n",
      "        name = row[\"Committer Name\"]\n",
      "        hexsha = row[\"HEXSHA\"]\n",
      "        parents = row[\"Parent Commit\"]\n",
      "        message = row[\"Commit Message\"]\n",
      "\n",
      "        if name not in names:\n",
      "            authors.append(Author(name, [Commit(message, hexsha, parents)]))\n",
      "            names.append(name)\n",
      "\n",
      "        else:\n",
      "            for author in authors:\n",
      "                if author.name == name:\n",
      "                    author.add_commit(Commit(message, hexsha, parents))\n",
      "\n",
      "    return authors"
     ],
     "language": "python",
     "metadata": {},
     "outputs": [],
     "prompt_number": 16
    },
    {
     "cell_type": "markdown",
     "metadata": {},
     "source": [
      "We create our graph by forming an edge whenever an author has a commit which is the parent of another author's commit, and only increasing the weight of that edge if an edge between those two authors already exists."
     ]
    },
    {
     "cell_type": "code",
     "collapsed": false,
     "input": [
      "def make_graph(nodes):\n",
      "    G = nx.Graph()\n",
      "    \n",
      "    for author in nodes:\n",
      "        for commit in author.commits:\n",
      "            for other in nodes:\n",
      "                for other_commit in other.commits:\n",
      "                    if commit.hexsha in other_commit.parents:\n",
      "                        if G.has_edge(author, other):\n",
      "                            G[author][other]['weight'] += 1\n",
      "                        else:\n",
      "                            G.add_edge(author, other, weight = 1)\n",
      "    \n",
      "    return G"
     ],
     "language": "python",
     "metadata": {},
     "outputs": [],
     "prompt_number": 17
    },
    {
     "cell_type": "code",
     "collapsed": false,
     "input": [
      "nodes = get_authors()\n",
      "G = make_graph(nodes)\n",
      "\n",
      "pos = nx.spring_layout(G, iterations=100)\n",
      "nx.draw(G, pos, font_size=8, with_labels = False)\n",
      "# nx.draw_networkx_labels(G, pos);"
     ],
     "language": "python",
     "metadata": {},
     "outputs": []
    }
   ],
   "metadata": {}
  }
 ]
}