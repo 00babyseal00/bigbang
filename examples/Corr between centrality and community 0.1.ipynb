{
 "metadata": {
  "name": "",
  "signature": "sha256:8b8e00dccdcb9fcc9c23efc7a414aa060aec692c42032eb68b275a4617b1e9ed"
 },
 "nbformat": 3,
 "nbformat_minor": 0,
 "worksheets": [
  {
   "cells": [
    {
     "cell_type": "markdown",
     "metadata": {},
     "source": [
      "An IPython notebook that explores the relationship(correlation) between betweenness centrality and community membership of a number of mailing-lists in a given time period."
     ]
    },
    {
     "cell_type": "code",
     "collapsed": false,
     "input": [
      "%matplotlib inline"
     ],
     "language": "python",
     "metadata": {},
     "outputs": [],
     "prompt_number": 1
    },
    {
     "cell_type": "code",
     "collapsed": false,
     "input": [
      "from bigbang.archive import Archive\n",
      "import bigbang.parse as parse\n",
      "import bigbang.graph as graph\n",
      "import bigbang.mailman as mailman\n",
      "import bigbang.process as process\n",
      "import networkx as nx\n",
      "import matplotlib.pyplot as plt\n",
      "import pandas as pd\n",
      "from pprint import pprint as pp\n",
      "import pytz\n",
      "import numpy as np\n",
      "import math\n",
      "from itertools import repeat"
     ],
     "language": "python",
     "metadata": {},
     "outputs": [],
     "prompt_number": 2
    },
    {
     "cell_type": "code",
     "collapsed": false,
     "input": [
      "urls = [\"http://mail.scipy.org/pipermail/ipython-dev/\",\n",
      "        \"http://mail.scipy.org/pipermail/ipython-user/\",\n",
      "        \"http://mail.scipy.org/pipermail/scipy-dev/\",\n",
      "        \"http://mail.scipy.org/pipermail/scipy-user/\",\n",
      "        \"http://mail.scipy.org/pipermail/numpy-discussion/\"]\n",
      "\n",
      "\n",
      "archives= [Archive(url,archive_dir=\"../archives\") for url in urls]"
     ],
     "language": "python",
     "metadata": {},
     "outputs": [
      {
       "output_type": "stream",
       "stream": "stdout",
       "text": [
        "Opening 138 archive files\n",
        "Opening 139 archive files"
       ]
      },
      {
       "output_type": "stream",
       "stream": "stdout",
       "text": [
        "\n",
        "Opening 160 archive files"
       ]
      },
      {
       "output_type": "stream",
       "stream": "stdout",
       "text": [
        "\n",
        "Opening 159 archive files"
       ]
      },
      {
       "output_type": "stream",
       "stream": "stdout",
       "text": [
        "\n",
        "Date parsing error on: "
       ]
      },
      {
       "output_type": "stream",
       "stream": "stdout",
       "text": [
        "\n",
        "pon, 4 stu 2002 16:22:52\n",
        "Opening 177 archive files"
       ]
      },
      {
       "output_type": "stream",
       "stream": "stdout",
       "text": [
        "\n",
        "Date parsing error on: "
       ]
      },
      {
       "output_type": "stream",
       "stream": "stdout",
       "text": [
        "\n",
        "Wed, 01 Nov 2006 15:46:73 +0800\n",
        "Date parsing error on: "
       ]
      },
      {
       "output_type": "stream",
       "stream": "stdout",
       "text": [
        "\n",
        "Wed, 01 Nov 2006 15:46:73 +0800\n"
       ]
      }
     ],
     "prompt_number": 3
    },
    {
     "cell_type": "markdown",
     "metadata": {},
     "source": [
      "The following sets start month and end month, both inclusive."
     ]
    },
    {
     "cell_type": "code",
     "collapsed": false,
     "input": [
      "date_from_whole = [2010,1] #Include June(Start month)\n",
      "date_to_whole = [2012,12] #Include December(End month)\n",
      "total_month = (date_to_whole[0] - date_from_whole[0])*12 + (date_to_whole[1]-date_from_whole[1]+1)"
     ],
     "language": "python",
     "metadata": {},
     "outputs": [],
     "prompt_number": 5
    },
    {
     "cell_type": "code",
     "collapsed": false,
     "input": [
      "date_from = []\n",
      "date_to = []\n",
      "temp_year = date_from_whole[0]\n",
      "temp_month = date_from_whole[1]\n",
      "\n",
      "for i in range(total_month):\n",
      "    date_from.append(pd.datetime(temp_year,temp_month,1,tzinfo=pytz.utc))\n",
      "    if temp_month == 12:\n",
      "        temp_year += 1\n",
      "        temp_month = 0\n",
      "    date_to.append(pd.datetime(temp_year,temp_month+1,1,tzinfo=pytz.utc))\n",
      "    temp_month += 1\n",
      "    "
     ],
     "language": "python",
     "metadata": {},
     "outputs": [],
     "prompt_number": 6
    },
    {
     "cell_type": "code",
     "collapsed": false,
     "input": [
      "def filter_by_date(df,d_from,d_to):\n",
      "    return df[(df['Date'] > d_from) & (df['Date'] < d_to)]"
     ],
     "language": "python",
     "metadata": {},
     "outputs": [],
     "prompt_number": 7
    },
    {
     "cell_type": "code",
     "collapsed": false,
     "input": [
      "IG = []\n",
      "for k in range(total_month):\n",
      "    dfs = [filter_by_date(arx.data,\n",
      "                      date_from[k],\n",
      "                      date_to[k]) for arx in archives]\n",
      "    bdf = pd.concat(dfs)\n",
      "    IG.append(graph.messages_to_interaction_graph(bdf))\n",
      "\n",
      "#RG = graph.messages_to_reply_graph(messages)\n",
      "\n",
      "#IG = graph.messages_to_interaction_graph(bdf)"
     ],
     "language": "python",
     "metadata": {},
     "outputs": [],
     "prompt_number": 8
    },
    {
     "cell_type": "code",
     "collapsed": false,
     "input": [
      "bc = []\n",
      "for j in range(total_month):\n",
      "    bc.append(pd.Series(nx.betweenness_centrality(IG[j])))"
     ],
     "language": "python",
     "metadata": {},
     "outputs": [],
     "prompt_number": 9
    },
    {
     "cell_type": "code",
     "collapsed": false,
     "input": [
      "len(bc)"
     ],
     "language": "python",
     "metadata": {},
     "outputs": [
      {
       "metadata": {},
       "output_type": "pyout",
       "prompt_number": 10,
       "text": [
        "36"
       ]
      }
     ],
     "prompt_number": 10
    },
    {
     "cell_type": "markdown",
     "metadata": {},
     "source": [
      "new_dict is a dictionary with keys as users' names, and values of their community membership(can have different interpretation)\n",
      "Here the community membership for a user is defined as sum of log(Ni + 1), with Ni corresponds to the number of emails a user sent to Mailing list i."
     ]
    },
    {
     "cell_type": "code",
     "collapsed": false,
     "input": [
      "new_dict = [{} for i in repeat(None, total_month)]\n",
      "for t in range(total_month):\n",
      "    filtered_activity = []\n",
      "    for i in range(5):\n",
      "        df = archives[i].data\n",
      "        fdf = filter_by_date(df,date_from[t],date_to[t])\n",
      "        filtered_activity.append(Archive(fdf).get_activity().sum())\n",
      "    for k in range(len(filtered_activity)):\n",
      "        for g in range(len(filtered_activity[k])):\n",
      "            original_key = filtered_activity[k].keys()[g]\n",
      "            new_key = (original_key[original_key.index(\"(\") + 1:original_key.rindex(\")\")])\n",
      "            if new_key not in new_dict[t]:\n",
      "                new_dict[t][new_key] = 0\n",
      "            new_dict[t][new_key] += math.log(filtered_activity[k].get_values()[g]+1)\n",
      "            #can define community membership by changing the above line.\n",
      "            #example, direct sum of emails would be \n",
      "            #new_dict[t][new_key] += filtered_activity[k].get_values()[g]\n",
      "            "
     ],
     "language": "python",
     "metadata": {},
     "outputs": [
      {
       "output_type": "stream",
       "stream": "stderr",
       "text": [
        "/Users/jiabinchen/Desktop/Research/asd/bigbang/bigbang/archive.py:124: SettingWithCopyWarning: A value is trying to be set on a copy of a slice from a DataFrame.\n",
        "Try using .loc[row_index,col_indexer] = value instead\n",
        "  mdf2['Date'] = mdf['Date'].apply(lambda x: x.toordinal())\n"
       ]
      }
     ],
     "prompt_number": 11
    },
    {
     "cell_type": "code",
     "collapsed": false,
     "input": [
      "#check if there's name difference, return nothing if perfect.\n",
      "for i in range(total_month):\n",
      "    set(new_dict[i].keys()).difference(bc[i].index.values)\n",
      "    set(bc[i].index.values).difference(new_dict[i].keys())"
     ],
     "language": "python",
     "metadata": {},
     "outputs": [],
     "prompt_number": 20
    },
    {
     "cell_type": "code",
     "collapsed": false,
     "input": [
      "#A list of corresponding betweenness centrality and community membership for all users, monthly\n",
      "comparison = []\n",
      "for i in range(len(new_dict)):\n",
      "    comparison.append(pd.DataFrame([new_dict[i], bc[i]]))"
     ],
     "language": "python",
     "metadata": {},
     "outputs": [],
     "prompt_number": 24
    },
    {
     "cell_type": "code",
     "collapsed": false,
     "input": [
      "corr = []\n",
      "for i in range(len(new_dict)):\n",
      "    corr.append(np.corrcoef(comparison[i].get_values()[0],comparison[i].get_values()[1])[0,1])"
     ],
     "language": "python",
     "metadata": {},
     "outputs": [],
     "prompt_number": 25
    },
    {
     "cell_type": "code",
     "collapsed": false,
     "input": [
      "corr"
     ],
     "language": "python",
     "metadata": {},
     "outputs": [
      {
       "metadata": {},
       "output_type": "pyout",
       "prompt_number": 26,
       "text": [
        "[0.82929207408833205,\n",
        " 0.85566888230103844,\n",
        " 0.75397063395005304,\n",
        " 0.83642890334334041,\n",
        " 0.81197873930939723,\n",
        " 0.85464965736507048,\n",
        " 0.80729454292678027,\n",
        " 0.73979678588252529,\n",
        " 0.82140636815085311,\n",
        " 0.85011707320133278,\n",
        " 0.79169238902694983,\n",
        " 0.85132150025120212,\n",
        " 0.77848668611739147,\n",
        " 0.85729123014235586,\n",
        " 0.77600944975986674,\n",
        " 0.82044294970135978,\n",
        " 0.80209059968746688,\n",
        " 0.78422369687635451,\n",
        " 0.80925731756238384,\n",
        " 0.87894184110790119,\n",
        " 0.79427800467519871,\n",
        " 0.78140736420187396,\n",
        " 0.81931212007104359,\n",
        " 0.87273314623332487,\n",
        " 0.85134795972168797,\n",
        " 0.86513549086118247,\n",
        " 0.86231234069217555,\n",
        " 0.83929030424228623,\n",
        " 0.83599211525531736,\n",
        " 0.83949865448965943,\n",
        " 0.81128498205614141,\n",
        " 0.86279436831540468,\n",
        " 0.84434125545487315,\n",
        " 0.84580847808338488,\n",
        " 0.78854771701641901,\n",
        " 0.81354521206580754]"
       ]
      }
     ],
     "prompt_number": 26
    },
    {
     "cell_type": "code",
     "collapsed": false,
     "input": [
      "x = range(1,total_month+1)\n",
      "y = corr\n",
      "plt.plot(x, y)"
     ],
     "language": "python",
     "metadata": {},
     "outputs": [
      {
       "metadata": {},
       "output_type": "pyout",
       "prompt_number": 27,
       "text": [
        "[<matplotlib.lines.Line2D at 0x10d7a6850>]"
       ]
      },
      {
       "metadata": {},
       "output_type": "display_data",
       "png": "[encoded data removed]",
       "text": [
        "<matplotlib.figure.Figure at 0x10b153950>"
       ]
      }
     ],
     "prompt_number": 27
    },
    {
     "cell_type": "code",
     "collapsed": false,
     "input": [],
     "language": "python",
     "metadata": {},
     "outputs": []
    }
   ],
   "metadata": {}
  }
 ]
}