{
 "metadata": {
  "name": "",
  "signature": "sha256:f30bcb8447c34a58dffd10145e37b50436f94fe8d64d987f8aa9a7a773526bc4"
 },
 "nbformat": 3,
 "nbformat_minor": 0,
 "worksheets": [
  {
   "cells": [
    {
     "cell_type": "markdown",
     "metadata": {},
     "source": [
      "An IPython notebook that explores the relationship(correlation) between betweenness centrality and community membership of a number of mailing-lists in a given time period."
     ]
    },
    {
     "cell_type": "code",
     "collapsed": false,
     "input": [
      "%matplotlib inline"
     ],
     "language": "python",
     "metadata": {},
     "outputs": [],
     "prompt_number": 1
    },
    {
     "cell_type": "code",
     "collapsed": false,
     "input": [
      "from bigbang.archive import Archive\n",
      "import bigbang.parse as parse\n",
      "import bigbang.graph as graph\n",
      "import bigbang.mailman as mailman\n",
      "import bigbang.process as process\n",
      "import networkx as nx\n",
      "import matplotlib.pyplot as plt\n",
      "import pandas as pd\n",
      "from pprint import pprint as pp\n",
      "import pytz\n",
      "import numpy as np\n",
      "import math\n",
      "from itertools import repeat"
     ],
     "language": "python",
     "metadata": {},
     "outputs": [],
     "prompt_number": 2
    },
    {
     "cell_type": "code",
     "collapsed": false,
     "input": [
      "urls = [\"http://mail.scipy.org/pipermail/ipython-dev/\",\n",
      "        \"http://mail.scipy.org/pipermail/ipython-user/\",\n",
      "        \"http://mail.scipy.org/pipermail/scipy-dev/\",\n",
      "        \"http://mail.scipy.org/pipermail/scipy-user/\",\n",
      "        \"http://mail.scipy.org/pipermail/numpy-discussion/\"]\n",
      "\n",
      "\n",
      "archives= [Archive(url,archive_dir=\"../archives\") for url in urls]"
     ],
     "language": "python",
     "metadata": {},
     "outputs": [
      {
       "output_type": "stream",
       "stream": "stdout",
       "text": [
        "Opening 138 archive files\n",
        "Opening 139 archive files"
       ]
      },
      {
       "output_type": "stream",
       "stream": "stdout",
       "text": [
        "\n",
        "Opening 160 archive files"
       ]
      },
      {
       "output_type": "stream",
       "stream": "stdout",
       "text": [
        "\n",
        "Opening 159 archive files"
       ]
      },
      {
       "output_type": "stream",
       "stream": "stdout",
       "text": [
        "\n",
        "Date parsing error on: "
       ]
      },
      {
       "output_type": "stream",
       "stream": "stdout",
       "text": [
        "\n",
        "pon, 4 stu 2002 16:22:52\n",
        "Opening 177 archive files"
       ]
      },
      {
       "output_type": "stream",
       "stream": "stdout",
       "text": [
        "\n",
        "Date parsing error on: "
       ]
      },
      {
       "output_type": "stream",
       "stream": "stdout",
       "text": [
        "\n",
        "Wed, 01 Nov 2006 15:46:73 +0800\n",
        "Date parsing error on: "
       ]
      },
      {
       "output_type": "stream",
       "stream": "stdout",
       "text": [
        "\n",
        "Wed, 01 Nov 2006 15:46:73 +0800\n"
       ]
      }
     ],
     "prompt_number": 3
    },
    {
     "cell_type": "markdown",
     "metadata": {},
     "source": [
      "The following sets start month and end month, both inclusive."
     ]
    },
    {
     "cell_type": "code",
     "collapsed": false,
     "input": [
      "date_from_whole = [2010,1] #Include June(Start month)\n",
      "date_to_whole = [2012,12] #Include December(End month)\n",
      "total_month = (date_to_whole[0] - date_from_whole[0])*12 + (date_to_whole[1]-date_from_whole[1]+1)"
     ],
     "language": "python",
     "metadata": {},
     "outputs": [],
     "prompt_number": 5
    },
    {
     "cell_type": "code",
     "collapsed": false,
     "input": [
      "date_from = []\n",
      "date_to = []\n",
      "temp_year = date_from_whole[0]\n",
      "temp_month = date_from_whole[1]\n",
      "\n",
      "for i in range(total_month):\n",
      "    date_from.append(pd.datetime(temp_year,temp_month,1,tzinfo=pytz.utc))\n",
      "    if temp_month == 12:\n",
      "        temp_year += 1\n",
      "        temp_month = 0\n",
      "    date_to.append(pd.datetime(temp_year,temp_month+1,1,tzinfo=pytz.utc))\n",
      "    temp_month += 1\n",
      "    "
     ],
     "language": "python",
     "metadata": {},
     "outputs": [],
     "prompt_number": 6
    },
    {
     "cell_type": "code",
     "collapsed": false,
     "input": [
      "def filter_by_date(df,d_from,d_to):\n",
      "    return df[(df['Date'] > d_from) & (df['Date'] < d_to)]"
     ],
     "language": "python",
     "metadata": {},
     "outputs": [],
     "prompt_number": 7
    },
    {
     "cell_type": "code",
     "collapsed": false,
     "input": [
      "IG = []\n",
      "for k in range(total_month):\n",
      "    dfs = [filter_by_date(arx.data,\n",
      "                      date_from[k],\n",
      "                      date_to[k]) for arx in archives]\n",
      "    bdf = pd.concat(dfs)\n",
      "    IG.append(graph.messages_to_interaction_graph(bdf))\n",
      "\n",
      "#RG = graph.messages_to_reply_graph(messages)\n",
      "\n",
      "#IG = graph.messages_to_interaction_graph(bdf)"
     ],
     "language": "python",
     "metadata": {},
     "outputs": [],
     "prompt_number": 8
    },
    {
     "cell_type": "code",
     "collapsed": false,
     "input": [
      "bc = []\n",
      "for j in range(total_month):\n",
      "    bc.append(pd.Series(nx.betweenness_centrality(IG[j])))"
     ],
     "language": "python",
     "metadata": {},
     "outputs": [],
     "prompt_number": 9
    },
    {
     "cell_type": "code",
     "collapsed": false,
     "input": [
      "len(bc)"
     ],
     "language": "python",
     "metadata": {},
     "outputs": [
      {
       "metadata": {},
       "output_type": "pyout",
       "prompt_number": 10,
       "text": [
        "36"
       ]
      }
     ],
     "prompt_number": 10
    },
    {
     "cell_type": "markdown",
     "metadata": {},
     "source": [
      "new_dict is a dictionary with keys as users' names, and values of their community membership(can have different interpretation)\n",
      "Here the community membership for a user is defined as sum of log(Ni + 1), with Ni corresponds to the number of emails a user sent to Mailing list i."
     ]
    },
    {
     "cell_type": "code",
     "collapsed": false,
     "input": [
      "new_dict = [{} for i in repeat(None, total_month)]\n",
      "new_dict1 = [{} for i in repeat(None, total_month)]\n",
      "for t in range(total_month):\n",
      "    filtered_activity = []\n",
      "    for i in range(5):\n",
      "        df = archives[i].data\n",
      "        fdf = filter_by_date(df,date_from[t],date_to[t])\n",
      "        filtered_activity.append(Archive(fdf).get_activity().sum())\n",
      "    for k in range(len(filtered_activity)):\n",
      "        for g in range(len(filtered_activity[k])):\n",
      "            original_key = filtered_activity[k].keys()[g]\n",
      "            new_key = (original_key[original_key.index(\"(\") + 1:original_key.rindex(\")\")])\n",
      "            if new_key not in new_dict[t]:\n",
      "                new_dict[t][new_key] = 0\n",
      "                new_dict1[t][new_key] = 0\n",
      "            new_dict[t][new_key] += math.log(filtered_activity[k].get_values()[g]+1)\n",
      "            #can define community membership by changing the above line.\n",
      "            #example, direct sum of emails would be \n",
      "            new_dict1[t][new_key] += filtered_activity[k].get_values()[g]\n"
     ],
     "language": "python",
     "metadata": {},
     "outputs": [],
     "prompt_number": 31
    },
    {
     "cell_type": "code",
     "collapsed": false,
     "input": [
      "for i in range(len(new_dict1)):\n",
      "    [x+1 for x in new_dict1[i].values()]\n",
      "    [np.log(x) for x in new_dict1[i].values()]"
     ],
     "language": "python",
     "metadata": {},
     "outputs": [],
     "prompt_number": 47
    },
    {
     "cell_type": "code",
     "collapsed": false,
     "input": [
      "#check if there's name difference, return nothing if perfect.\n",
      "for i in range(total_month):\n",
      "    set(new_dict[i].keys()).difference(bc[i].index.values)\n",
      "    set(bc[i].index.values).difference(new_dict[i].keys())\n",
      "    set(new_dict1[i].keys()).difference(bc[i].index.values)\n",
      "    set(bc[i].index.values).difference(new_dict1[i].keys())"
     ],
     "language": "python",
     "metadata": {},
     "outputs": [],
     "prompt_number": 49
    },
    {
     "cell_type": "code",
     "collapsed": false,
     "input": [
      "#A list of corresponding betweenness centrality and community membership for all users, monthly\n",
      "comparison = []\n",
      "comparison1 = []\n",
      "for i in range(len(new_dict)):\n",
      "    comparison.append(pd.DataFrame([new_dict[i], bc[i]]))\n",
      "    comparison1.append(pd.DataFrame([new_dict1[i], bc[i]]))"
     ],
     "language": "python",
     "metadata": {},
     "outputs": [],
     "prompt_number": 53
    },
    {
     "cell_type": "code",
     "collapsed": false,
     "input": [
      "corr = []\n",
      "corr1 = []\n",
      "for i in range(len(new_dict)):\n",
      "    corr.append(np.corrcoef(comparison[i].get_values()[0],comparison[i].get_values()[1])[0,1])\n",
      "    corr1.append(np.corrcoef(comparison1[i].get_values()[0],comparison1[i].get_values()[1])[0,1])"
     ],
     "language": "python",
     "metadata": {},
     "outputs": [],
     "prompt_number": 54
    },
    {
     "cell_type": "code",
     "collapsed": false,
     "input": [
      "corr1"
     ],
     "language": "python",
     "metadata": {},
     "outputs": [
      {
       "metadata": {},
       "output_type": "pyout",
       "prompt_number": 56,
       "text": [
        "[0.96037411067096634,\n",
        " 0.9290138698150141,\n",
        " 0.89425367964646685,\n",
        " 0.89917617005470662,\n",
        " 0.92991018321441909,\n",
        " 0.82147285776944867,\n",
        " 0.87427839105054217,\n",
        " 0.90600460345005496,\n",
        " 0.88271122203671915,\n",
        " 0.88553587680879164,\n",
        " 0.85441186827144266,\n",
        " 0.93719201756052384,\n",
        " 0.83104612834996139,\n",
        " 0.774586996595649,\n",
        " 0.84519537229516306,\n",
        " 0.85677539808041736,\n",
        " 0.88870809362997261,\n",
        " 0.8167283158671691,\n",
        " 0.90511019084905298,\n",
        " 0.89887965432552719,\n",
        " 0.86415159226754346,\n",
        " 0.87402695037197142,\n",
        " 0.76063235325679746,\n",
        " 0.90447740840444568,\n",
        " 0.91035098143920701,\n",
        " 0.9221783659392957,\n",
        " 0.94070862509041964,\n",
        " 0.95431393892826144,\n",
        " 0.93629494205905239,\n",
        " 0.90463638705091931,\n",
        " 0.86892862334827548,\n",
        " 0.8758045601354455,\n",
        " 0.92942914877260052,\n",
        " 0.92685099851158981,\n",
        " 0.88117423471033274,\n",
        " 0.86581332777478748]"
       ]
      }
     ],
     "prompt_number": 56
    },
    {
     "cell_type": "code",
     "collapsed": false,
     "input": [
      "#Blue as sum of log, red as log of sum, respect to community membership\n",
      "x = range(1,total_month+1)\n",
      "y = corr\n",
      "plt.plot(x, y, marker='o')\n",
      "z = corr1\n",
      "plt.plot(x, z, marker='o', linestyle='--', color='r')"
     ],
     "language": "python",
     "metadata": {},
     "outputs": [
      {
       "metadata": {},
       "output_type": "pyout",
       "prompt_number": 57,
       "text": [
        "[<matplotlib.lines.Line2D at 0x111bdbd50>]"
       ]
      },
      {
       "metadata": {},
       "output_type": "display_data",
       "png": "[encoded data removed]",
       "text": [
        "<matplotlib.figure.Figure at 0x111575c50>"
       ]
      }
     ],
     "prompt_number": 57
    },
    {
     "cell_type": "code",
     "collapsed": false,
     "input": [],
     "language": "python",
     "metadata": {},
     "outputs": []
    }
   ],
   "metadata": {}
  }
 ]
}