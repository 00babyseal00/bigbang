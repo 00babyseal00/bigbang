{
 "metadata": {
  "name": "",
  "signature": "sha256:e02851ed48e1ab219dafbbfa40c4cca33ee71c020e26093590082580cf9ac09b"
 },
 "nbformat": 3,
 "nbformat_minor": 0,
 "worksheets": [
  {
   "cells": [
    {
     "cell_type": "code",
     "collapsed": false,
     "input": [
      "%load_ext autoreload\n",
      "%autoreload 2"
     ],
     "language": "python",
     "metadata": {},
     "outputs": [],
     "prompt_number": 2
    },
    {
     "cell_type": "code",
     "collapsed": false,
     "input": [
      "%matplotlib inline\n",
      "from bigbang.archive import Archive\n",
      "from bigbang.thread import Thread\n",
      "from bigbang.thread import Node\n",
      "import matplotlib.pyplot as plt\n",
      "import datetime\n",
      "#import talon\n",
      "#from talon import quotations\n",
      "#import regex\n",
      "#from email_reply_parser import EmailReplyParser"
     ],
     "language": "python",
     "metadata": {},
     "outputs": [],
     "prompt_number": 1
    },
    {
     "cell_type": "code",
     "collapsed": false,
     "input": [
      "url = \"http://mail.scipy.org/pipermail/ipython-dev/\"\n",
      "arx = Archive(url,archive_dir=\"../archives\")"
     ],
     "language": "python",
     "metadata": {},
     "outputs": [
      {
       "output_type": "stream",
       "stream": "stdout",
       "text": [
        "Opening 138 archive files\n"
       ]
      }
     ],
     "prompt_number": 2
    },
    {
     "cell_type": "code",
     "collapsed": false,
     "input": [
      "df = arx.data\n",
      "threads = list()\n",
      "visited = dict()\n",
      "\n",
      "for i in df.iterrows():\n",
      "    if(i[1]['In-Reply-To'] is None):\n",
      "        root = Node(i[0], i[1])\n",
      "        visited[i[0]] = root\n",
      "        threads.append(Thread(root))\n",
      "    elif(i[1]['In-Reply-To'] not in visited.keys()):\n",
      "        root = Node(i[1]['In-Reply-To'])\n",
      "        succ = Node(i[0],i[1], root)\n",
      "        root.add_successor(succ)\n",
      "        visited[i[1]['In-Reply-To']] = root\n",
      "        visited[i[0]] = succ\n",
      "        threads.append(Thread(root, known_root=False))\n",
      "    else:\n",
      "        parent = visited[i[1]['In-Reply-To']]\n",
      "        node = Node(i[0],i[1], parent)\n",
      "        parent.add_successor(node)\n",
      "        visited[i[0]] = node"
     ],
     "language": "python",
     "metadata": {},
     "outputs": [],
     "prompt_number": 3
    },
    {
     "cell_type": "code",
     "collapsed": false,
     "input": [
      "y = [t.get_num_messages() for t in threads]\n",
      "\n",
      "plt.hist(y, bins=30)\n",
      "plt.xlabel('number of messages in a thread')\n",
      "plt.show()"
     ],
     "language": "python",
     "metadata": {},
     "outputs": [
      {
       "metadata": {},
       "output_type": "display_data",
       "png": "[encoded data removed]",
       "text": [
        "<matplotlib.figure.Figure at 0x106d6a0d0>"
       ]
      }
     ],
     "prompt_number": 4
    },
    {
     "cell_type": "code",
     "collapsed": false,
     "input": [
      "n = [t.get_num_people() for t in threads]\n",
      "\n",
      "plt.hist(n, bins = 20)\n",
      "plt.xlabel('number of email-address in a thread')\n",
      "plt.show()"
     ],
     "language": "python",
     "metadata": {},
     "outputs": [
      {
       "metadata": {},
       "output_type": "display_data",
       "png": "[encoded data removed]",
       "text": [
        "<matplotlib.figure.Figure at 0x106c49950>"
       ]
      }
     ],
     "prompt_number": 5
    },
    {
     "cell_type": "code",
     "collapsed": false,
     "input": [
      "x = threads[7].get_root().properties()[2]\n",
      "len(x)"
     ],
     "language": "python",
     "metadata": {},
     "outputs": [
      {
       "metadata": {},
       "output_type": "pyout",
       "prompt_number": 6,
       "text": [
        "1"
       ]
      }
     ],
     "prompt_number": 6
    },
    {
     "cell_type": "code",
     "collapsed": false,
     "input": [
      "y = [t.get_duration().days for t in threads]\n",
      "\n",
      "plt.hist(y, bins = (10))\n",
      "plt.xlabel('duration of a thread(days)')\n",
      "plt.show()"
     ],
     "language": "python",
     "metadata": {},
     "outputs": [
      {
       "metadata": {},
       "output_type": "display_data",
       "png": "[encoded data removed]",
       "text": [
        "<matplotlib.figure.Figure at 0x10dc622d0>"
       ]
      }
     ],
     "prompt_number": 7
    },
    {
     "cell_type": "code",
     "collapsed": false,
     "input": [
      "y = [t.get_duration().seconds for t in threads]\n",
      "\n",
      "plt.hist(y, bins = (20))\n",
      "plt.xlabel('duration of a thread(seconds)')\n",
      "plt.show()"
     ],
     "language": "python",
     "metadata": {},
     "outputs": [
      {
       "metadata": {},
       "output_type": "display_data",
       "png": "[encoded data removed]",
       "text": [
        "<matplotlib.figure.Figure at 0x10cd66fd0>"
       ]
      }
     ],
     "prompt_number": 8
    },
    {
     "cell_type": "code",
     "collapsed": false,
     "input": [
      "k= []\n",
      "for i in range(0, len(threads)):\n",
      "    if(threads[i].get_duration() > datetime.timedelta(3)): k.append(i)"
     ],
     "language": "python",
     "metadata": {},
     "outputs": [],
     "prompt_number": 9
    },
    {
     "cell_type": "code",
     "collapsed": false,
     "input": [
      "threads[85].get_root().properties()[2]"
     ],
     "language": "python",
     "metadata": {},
     "outputs": [
      {
       "metadata": {},
       "output_type": "pyout",
       "prompt_number": 10,
       "text": [
        "[<bigbang.thread.Node instance at 0x106cbd710>,\n",
        " <bigbang.thread.Node instance at 0x106cbd518>,\n",
        " <bigbang.thread.Node instance at 0x106cbdfc8>]"
       ]
      }
     ],
     "prompt_number": 10
    },
    {
     "cell_type": "code",
     "collapsed": false,
     "input": [
      "print(threads[85].get_duration())"
     ],
     "language": "python",
     "metadata": {},
     "outputs": [
      {
       "output_type": "stream",
       "stream": "stdout",
       "text": [
        "4 days, 23:13:32\n"
       ]
      }
     ],
     "prompt_number": 11
    },
    {
     "cell_type": "code",
     "collapsed": false,
     "input": [
      "content = threads[85].get_root().data['Body']"
     ],
     "language": "python",
     "metadata": {},
     "outputs": [],
     "prompt_number": 12
    },
    {
     "cell_type": "code",
     "collapsed": false,
     "input": [
      "len(content.split())"
     ],
     "language": "python",
     "metadata": {},
     "outputs": [
      {
       "metadata": {},
       "output_type": "pyout",
       "prompt_number": 13,
       "text": [
        "255"
       ]
      }
     ],
     "prompt_number": 13
    },
    {
     "cell_type": "code",
     "collapsed": false,
     "input": [
      "short_threads = []\n",
      "long_threads = []\n",
      "for t in threads:\n",
      "    if(t.get_num_messages() < 6): short_threads.append(t)\n",
      "    else: long_threads.append(t)"
     ],
     "language": "python",
     "metadata": {},
     "outputs": [],
     "prompt_number": 14
    },
    {
     "cell_type": "code",
     "collapsed": false,
     "input": [
      "print(len(short_threads))\n",
      "print(len(long_threads))"
     ],
     "language": "python",
     "metadata": {},
     "outputs": [
      {
       "output_type": "stream",
       "stream": "stdout",
       "text": [
        "2690\n",
        "807\n"
       ]
      }
     ],
     "prompt_number": 15
    },
    {
     "cell_type": "code",
     "collapsed": false,
     "input": [
      "len(long_threads[0].get_content())"
     ],
     "language": "python",
     "metadata": {},
     "outputs": [
      {
       "metadata": {},
       "output_type": "pyout",
       "prompt_number": 16,
       "text": [
        "11"
       ]
      }
     ],
     "prompt_number": 16
    },
    {
     "cell_type": "code",
     "collapsed": false,
     "input": [
      "dist_short = []\n",
      "dist_long = []\n",
      "for t in short_threads:\n",
      "    avg_short = sum([len(i.split()) for i in t.get_content()]) / len(t.get_content())\n",
      "    dist_short.append(avg_short)\n",
      "for t in long_threads:\n",
      "    avg_long = sum([len(i.split()) for i in t.get_content()]) / len(t.get_content())\n",
      "    dist_long.append(avg_long)"
     ],
     "language": "python",
     "metadata": {},
     "outputs": [],
     "prompt_number": 17
    },
    {
     "cell_type": "code",
     "collapsed": false,
     "input": [
      "plt.hist(dist_short, bins = (15))\n",
      "plt.show()"
     ],
     "language": "python",
     "metadata": {},
     "outputs": [
      {
       "metadata": {},
       "output_type": "display_data",
       "png": "[encoded data removed]",
       "text": [
        "<matplotlib.figure.Figure at 0x10dc675d0>"
       ]
      }
     ],
     "prompt_number": 18
    },
    {
     "cell_type": "code",
     "collapsed": false,
     "input": [
      "plt.hist(dist_long, bins = (15))\n",
      "plt.show()"
     ],
     "language": "python",
     "metadata": {},
     "outputs": [
      {
       "metadata": {},
       "output_type": "display_data",
       "png": "[encoded data removed]",
       "text": [
        "<matplotlib.figure.Figure at 0x10cd66d90>"
       ]
      }
     ],
     "prompt_number": 19
    },
    {
     "cell_type": "code",
     "collapsed": false,
     "input": [
      "print(sum(dist_short)/ len(dist_short))\n",
      "print(sum(dist_long)/ len(dist_long))"
     ],
     "language": "python",
     "metadata": {},
     "outputs": [
      {
       "output_type": "stream",
       "stream": "stdout",
       "text": [
        "149\n",
        "117\n"
       ]
      }
     ],
     "prompt_number": 20
    },
    {
     "cell_type": "code",
     "collapsed": false,
     "input": [
      "%reload_ext autoreload\n",
      "s_leaves = []\n",
      "s_notleaves = []\n",
      "for t in threads:\n",
      "    for node in t.get_leaves():\n",
      "        s_leaves.append(len(node.data['Body'].split()))\n",
      "    for node in t.get_not_leaves():\n",
      "        s_notleaves.append(len(node.data['Body'].split()))"
     ],
     "language": "python",
     "metadata": {},
     "outputs": [],
     "prompt_number": 21
    },
    {
     "cell_type": "code",
     "collapsed": false,
     "input": [
      "plt.hist(s_leaves, bins = (15))\n",
      "plt.show()"
     ],
     "language": "python",
     "metadata": {},
     "outputs": [
      {
       "metadata": {},
       "output_type": "display_data",
       "png": "[encoded data removed]",
       "text": [
        "<matplotlib.figure.Figure at 0x106d05450>"
       ]
      }
     ],
     "prompt_number": 22
    },
    {
     "cell_type": "code",
     "collapsed": false,
     "input": [
      "plt.hist(s_notleaves, bins = (15))\n",
      "plt.show()"
     ],
     "language": "python",
     "metadata": {},
     "outputs": [
      {
       "metadata": {},
       "output_type": "display_data",
       "png": "[encoded data removed]",
       "text": [
        "<matplotlib.figure.Figure at 0x10dbd5110>"
       ]
      }
     ],
     "prompt_number": 23
    },
    {
     "cell_type": "code",
     "collapsed": false,
     "input": [
      "print(sum(s_leaves)/len(s_leaves))\n",
      "print(sum(s_notleaves)/len(s_notleaves))"
     ],
     "language": "python",
     "metadata": {},
     "outputs": [
      {
       "output_type": "stream",
       "stream": "stdout",
       "text": [
        "264\n",
        "295\n"
       ]
      }
     ],
     "prompt_number": 24
    },
    {
     "cell_type": "code",
     "collapsed": false,
     "input": [
      "import re\n",
      "mess = threads[85].get_leaves()[0].data['Body']"
     ],
     "language": "python",
     "metadata": {},
     "outputs": [],
     "prompt_number": 25
    },
    {
     "cell_type": "code",
     "collapsed": false,
     "input": [
      "print(mess)"
     ],
     "language": "python",
     "metadata": {},
     "outputs": [
      {
       "output_type": "stream",
       "stream": "stdout",
       "text": [
        "Fernando Perez wrote:\n",
        "\n",
        ">\n",
        "> Great!  Many thanks for this.  Please give it a bit more pounding, and \n",
        "> I'd encourage other users of dreload to also try it out.  The code is \n",
        "> definitely far simpler than the original dreload, but since I don't \n",
        "> understand that code too well, I'd like to tiptoe a bit on this \n",
        "> issue.  If it survives a bit of pounding and discussion, I'll \n",
        "> definitely be glad to put it in.\n",
        "\n",
        "One of the things where it differ's from the old deep_reload is that \n",
        "when importing a submodule, say ipbug.vm, it will not reload \n",
        "ipbug/__init__.py. I've attached another version, which tries to do just \n",
        "that and I'm using that version currently without problems.\n",
        "However I think there must be an even  less complicated version.  \n",
        "Clearing sys.modules and 'reimporting' the module like in the following \n",
        "code seems to work ok.\n",
        "====\n",
        "import sys, bbutils.textproc.spellcheck\n",
        "m=sys.modules.copy()\n",
        "sys.modules.clear()\n",
        "sys.modules['sys'] = sys\n",
        "import bbutils.textproc.spellcheck\n",
        "====\n",
        "\n",
        "Currently I don't have the time to investigate this further, but in a \n",
        "week or two, I'll  have another look at this.\n",
        "\n",
        "- Ralf\n",
        "\n",
        "-------------- next part --------------\n",
        "import sys\n",
        "import __builtin__\n",
        "\n",
        "builtin_import = None   # will be set to __builtin__.__import__ by reload function\n",
        "old_modules = {}        # will be set to sys.modules by reload function\n",
        "reloaded = {}           # names of reloaded modules, uses same keys as sys.modules\n",
        "\n",
        "def determineParentName(globals):\n",
        "    \"\"\"determine name of the module which has called the import statement\"\"\"\n",
        "    if not globals or  not globals.has_key(\"__name__\"):\n",
        "        return None\n",
        "    pname = globals['__name__']\n",
        "    if globals.has_key(\"__path__\"):\n",
        "        return pname\n",
        "    if '.' in pname:\n",
        "        i = pname.rfind('.')\n",
        "        pname = pname[:i]\n",
        "        return pname\n",
        "    return None\n",
        "\n",
        "\n",
        "def reloadModuleAndParents(name, globals=None):\n",
        "    \"\"\"for name='some.module.bar', reload some, some.module, some.module.bar.\n",
        "    Determines module, which has called the import statement, and prefers\n",
        "    module relative paths, i.e. 'import os' in module m, from m/__init__.py\n",
        "    imports m/os.py if it's there.\n",
        "    \"\"\"\n",
        "    global reloaded\n",
        "\n",
        "    def reloadByName(n):\n",
        "        if old_modules.has_key(n):\n",
        "            if reloaded.has_key(n):\n",
        "                return reloaded[n]\n",
        "            \n",
        "            reloaded[mname]=1\n",
        "            sys.modules[mname] = old_modules[mname]\n",
        "\n",
        "            if mname != old_modules[mname].__name__:\n",
        "                # module changed it's name. otherwise dreload(xml.sax) fails.\n",
        "                print \"Module changed name:\", mname, old_modules[mname].__name__\n",
        "                return reloadModuleAndParents(old_modules[mname].__name__)\n",
        "            else:\n",
        "                print \"Reloading\", mname\n",
        "                return __builtin__.reload(old_modules[mname])\n",
        "\n",
        "        return None\n",
        "\n",
        "    mods = name.split(\".\")\n",
        "    parent = determineParentName(globals)\n",
        "\n",
        "    retval = None\n",
        "    for i in range(len(mods)):\n",
        "        mname = \".\".join(mods[:i+1])\n",
        "        if parent:\n",
        "            relative = \"%s.%s\" % (parent, mname)\n",
        "            if old_modules.has_key(relative) and old_modules[relative]:\n",
        "                retval=reloadModuleAndParents(relative)\n",
        "                continue\n",
        "        retval=reloadByName(mname)\n",
        "    return retval\n",
        "                \n",
        "def my_import_hook(name, globals=None, locals=None, fromlist=None):\n",
        "    \"\"\"replacement for __builtin__.__import__\n",
        "\n",
        "    reloads module 'name' if it hasn't been already reloaded\n",
        "    and then calls original __builtin__.__import__.\n",
        "    \"\"\"\n",
        "\n",
        "##     if fromlist:\n",
        "##         print 'Importing', fromlist, 'from module', name\n",
        "##     else:\n",
        "##         print 'Importing module', name\n",
        "    reloadModuleAndParents(name, globals)\n",
        "    return builtin_import(name, globals, locals, fromlist)\n",
        "\n",
        "\n",
        "\n",
        "# Replacement for reload()\n",
        "def reload(module, exclude=['sys', '__builtin__', '__main__']):\n",
        "    \"\"\"Recursively reload all modules used in the given module.  Optionally\n",
        "    takes a list of modules to exclude from reloading.  The default exclude\n",
        "    list contains sys, __main__, and __builtin__, to prevent, e.g., resetting \n",
        "    display, exception, and io hooks.\n",
        "    \"\"\"\n",
        "    global builtin_import\n",
        "    global old_modules\n",
        "    global reloaded\n",
        "\n",
        "    reloaded = {}\n",
        "    old_modules = sys.modules.copy()\n",
        "    sys.modules.clear()\n",
        "    for ex in exclude+list(sys.builtin_module_names):\n",
        "        if old_modules.has_key(ex) and not sys.modules.has_key(ex):\n",
        "            print \"EXCLUDING\", ex\n",
        "            sys.modules[ex] = old_modules[ex]\n",
        "            reloaded[ex]=1\n",
        "\n",
        "    builtin_import = __builtin__.__import__\n",
        "    __builtin__.__import__ = my_import_hook\n",
        "\n",
        "    try:\n",
        "        return reloadModuleAndParents(module.__name__)\n",
        "    finally:\n",
        "        # restore old values\n",
        "        __builtin__.__import__ = builtin_import\n",
        "        for m in old_modules:\n",
        "            if not sys.modules.has_key(m):\n",
        "                sys.modules[m] = old_modules[m]\n",
        "\n"
       ]
      }
     ],
     "prompt_number": 26
    },
    {
     "cell_type": "code",
     "collapsed": false,
     "input": [
      "mess.split('\\n')\n",
      "message = list()\n",
      "for l in mess.split('\\n'):\n",
      "    n = len(l)\n",
      "    if(len(l)!=0 and l[0] != '>' and l[n-6:n] != 'wrote:'):\n",
      "        message.append(l)\n",
      "new = str()\n",
      "for l in message:\n",
      "    new = new + l + '\\n'\n"
     ],
     "language": "python",
     "metadata": {},
     "outputs": [],
     "prompt_number": 27
    },
    {
     "cell_type": "code",
     "collapsed": false,
     "input": [
      "print(new)"
     ],
     "language": "python",
     "metadata": {},
     "outputs": [
      {
       "output_type": "stream",
       "stream": "stdout",
       "text": [
        "One of the things where it differ's from the old deep_reload is that \n",
        "when importing a submodule, say ipbug.vm, it will not reload \n",
        "ipbug/__init__.py. I've attached another version, which tries to do just \n",
        "that and I'm using that version currently without problems.\n",
        "However I think there must be an even  less complicated version.  \n",
        "Clearing sys.modules and 'reimporting' the module like in the following \n",
        "code seems to work ok.\n",
        "====\n",
        "import sys, bbutils.textproc.spellcheck\n",
        "m=sys.modules.copy()\n",
        "sys.modules.clear()\n",
        "sys.modules['sys'] = sys\n",
        "import bbutils.textproc.spellcheck\n",
        "====\n",
        "Currently I don't have the time to investigate this further, but in a \n",
        "week or two, I'll  have another look at this.\n",
        "- Ralf\n",
        "-------------- next part --------------\n",
        "import sys\n",
        "import __builtin__\n",
        "builtin_import = None   # will be set to __builtin__.__import__ by reload function\n",
        "old_modules = {}        # will be set to sys.modules by reload function\n",
        "reloaded = {}           # names of reloaded modules, uses same keys as sys.modules\n",
        "def determineParentName(globals):\n",
        "    \"\"\"determine name of the module which has called the import statement\"\"\"\n",
        "    if not globals or  not globals.has_key(\"__name__\"):\n",
        "        return None\n",
        "    pname = globals['__name__']\n",
        "    if globals.has_key(\"__path__\"):\n",
        "        return pname\n",
        "    if '.' in pname:\n",
        "        i = pname.rfind('.')\n",
        "        pname = pname[:i]\n",
        "        return pname\n",
        "    return None\n",
        "def reloadModuleAndParents(name, globals=None):\n",
        "    \"\"\"for name='some.module.bar', reload some, some.module, some.module.bar.\n",
        "    Determines module, which has called the import statement, and prefers\n",
        "    module relative paths, i.e. 'import os' in module m, from m/__init__.py\n",
        "    imports m/os.py if it's there.\n",
        "    \"\"\"\n",
        "    global reloaded\n",
        "    def reloadByName(n):\n",
        "        if old_modules.has_key(n):\n",
        "            if reloaded.has_key(n):\n",
        "                return reloaded[n]\n",
        "            \n",
        "            reloaded[mname]=1\n",
        "            sys.modules[mname] = old_modules[mname]\n",
        "            if mname != old_modules[mname].__name__:\n",
        "                # module changed it's name. otherwise dreload(xml.sax) fails.\n",
        "                print \"Module changed name:\", mname, old_modules[mname].__name__\n",
        "                return reloadModuleAndParents(old_modules[mname].__name__)\n",
        "            else:\n",
        "                print \"Reloading\", mname\n",
        "                return __builtin__.reload(old_modules[mname])\n",
        "        return None\n",
        "    mods = name.split(\".\")\n",
        "    parent = determineParentName(globals)\n",
        "    retval = None\n",
        "    for i in range(len(mods)):\n",
        "        mname = \".\".join(mods[:i+1])\n",
        "        if parent:\n",
        "            relative = \"%s.%s\" % (parent, mname)\n",
        "            if old_modules.has_key(relative) and old_modules[relative]:\n",
        "                retval=reloadModuleAndParents(relative)\n",
        "                continue\n",
        "        retval=reloadByName(mname)\n",
        "    return retval\n",
        "                \n",
        "def my_import_hook(name, globals=None, locals=None, fromlist=None):\n",
        "    \"\"\"replacement for __builtin__.__import__\n",
        "    reloads module 'name' if it hasn't been already reloaded\n",
        "    and then calls original __builtin__.__import__.\n",
        "    \"\"\"\n",
        "##     if fromlist:\n",
        "##         print 'Importing', fromlist, 'from module', name\n",
        "##     else:\n",
        "##         print 'Importing module', name\n",
        "    reloadModuleAndParents(name, globals)\n",
        "    return builtin_import(name, globals, locals, fromlist)\n",
        "# Replacement for reload()\n",
        "def reload(module, exclude=['sys', '__builtin__', '__main__']):\n",
        "    \"\"\"Recursively reload all modules used in the given module.  Optionally\n",
        "    takes a list of modules to exclude from reloading.  The default exclude\n",
        "    list contains sys, __main__, and __builtin__, to prevent, e.g., resetting \n",
        "    display, exception, and io hooks.\n",
        "    \"\"\"\n",
        "    global builtin_import\n",
        "    global old_modules\n",
        "    global reloaded\n",
        "    reloaded = {}\n",
        "    old_modules = sys.modules.copy()\n",
        "    sys.modules.clear()\n",
        "    for ex in exclude+list(sys.builtin_module_names):\n",
        "        if old_modules.has_key(ex) and not sys.modules.has_key(ex):\n",
        "            print \"EXCLUDING\", ex\n",
        "            sys.modules[ex] = old_modules[ex]\n",
        "            reloaded[ex]=1\n",
        "    builtin_import = __builtin__.__import__\n",
        "    __builtin__.__import__ = my_import_hook\n",
        "    try:\n",
        "        return reloadModuleAndParents(module.__name__)\n",
        "    finally:\n",
        "        # restore old values\n",
        "        __builtin__.__import__ = builtin_import\n",
        "        for m in old_modules:\n",
        "            if not sys.modules.has_key(m):\n",
        "                sys.modules[m] = old_modules[m]\n",
        "\n"
       ]
      }
     ],
     "prompt_number": 28
    },
    {
     "cell_type": "code",
     "collapsed": false,
     "input": [
      "print(EmailReplyParser.parse_reply(mess))"
     ],
     "language": "python",
     "metadata": {},
     "outputs": [
      {
       "ename": "NameError",
       "evalue": "name 'EmailReplyParser' is not defined",
       "output_type": "pyerr",
       "traceback": [
        "\u001b[0;31m---------------------------------------------------------------------------\u001b[0m\n\u001b[0;31mNameError\u001b[0m                                 Traceback (most recent call last)",
        "\u001b[0;32m<ipython-input-29-671024fec275>\u001b[0m in \u001b[0;36m<module>\u001b[0;34m()\u001b[0m\n\u001b[0;32m----> 1\u001b[0;31m \u001b[0;32mprint\u001b[0m\u001b[0;34m(\u001b[0m\u001b[0mEmailReplyParser\u001b[0m\u001b[0;34m.\u001b[0m\u001b[0mparse_reply\u001b[0m\u001b[0;34m(\u001b[0m\u001b[0mmess\u001b[0m\u001b[0;34m)\u001b[0m\u001b[0;34m)\u001b[0m\u001b[0;34m\u001b[0m\u001b[0m\n\u001b[0m",
        "\u001b[0;31mNameError\u001b[0m: name 'EmailReplyParser' is not defined"
       ]
      }
     ],
     "prompt_number": 29
    },
    {
     "cell_type": "code",
     "collapsed": false,
     "input": [
      "print(mess)"
     ],
     "language": "python",
     "metadata": {},
     "outputs": []
    },
    {
     "cell_type": "code",
     "collapsed": false,
     "input": [
      "threads[85].get_leaves()[0].data"
     ],
     "language": "python",
     "metadata": {},
     "outputs": []
    },
    {
     "cell_type": "code",
     "collapsed": false,
     "input": [],
     "language": "python",
     "metadata": {},
     "outputs": []
    },
    {
     "cell_type": "code",
     "collapsed": false,
     "input": [],
     "language": "python",
     "metadata": {},
     "outputs": []
    }
   ],
   "metadata": {}
  }
 ]
}