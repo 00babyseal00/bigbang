{
 "metadata": {
  "name": "",
  "signature": "sha256:e0beb43f1ee79c82cd868eb773d55fc378475a70c55058a3cf1e0f94ec03f5d3"
 },
 "nbformat": 3,
 "nbformat_minor": 0,
 "worksheets": [
  {
   "cells": [
    {
     "cell_type": "code",
     "collapsed": false,
     "input": [
      "%matplotlib inline\n",
      "from bigbang.archive import Archive\n",
      "from bigbang.thread import Thread\n",
      "from bigbang.thread import Node\n",
      "import matplotlib.pyplot as plt\n",
      "import datetime"
     ],
     "language": "python",
     "metadata": {},
     "outputs": [],
     "prompt_number": 1
    },
    {
     "cell_type": "code",
     "collapsed": false,
     "input": [
      "url = \"http://mail.scipy.org/pipermail/ipython-dev/\"\n",
      "arx = Archive(url,archive_dir=\"../archives\")"
     ],
     "language": "python",
     "metadata": {},
     "outputs": [
      {
       "output_type": "stream",
       "stream": "stdout",
       "text": [
        "Opening 138 archive files\n"
       ]
      }
     ],
     "prompt_number": 2
    },
    {
     "cell_type": "code",
     "collapsed": false,
     "input": [
      "df = arx.data\n",
      "threads = list()\n",
      "visited = dict()\n",
      "\n",
      "for i in df.iterrows():\n",
      "    if(i[1]['In-Reply-To'] is None):\n",
      "        root = Node(i[0], i[1])\n",
      "        visited[i[0]] = root\n",
      "        threads.append(Thread(root))\n",
      "    elif(i[1]['In-Reply-To'] not in visited.keys()):\n",
      "        root = Node(i[1]['In-Reply-To'])\n",
      "        succ = Node(i[0],i[1], root)\n",
      "        root.add_successor(succ)\n",
      "        visited[i[1]['In-Reply-To']] = root\n",
      "        visited[i[0]] = succ\n",
      "        threads.append(Thread(root, known_root=False))\n",
      "    else:\n",
      "        parent = visited[i[1]['In-Reply-To']]\n",
      "        node = Node(i[0],i[1], parent)\n",
      "        parent.add_successor(node)\n",
      "        visited[i[0]] = node"
     ],
     "language": "python",
     "metadata": {},
     "outputs": [],
     "prompt_number": 3
    },
    {
     "cell_type": "code",
     "collapsed": false,
     "input": [
      "y = [t.get_num_messages() for t in threads]\n",
      "\n",
      "plt.hist(y, bins=30)\n",
      "plt.xlabel('number of messages in a thread')\n",
      "plt.show()"
     ],
     "language": "python",
     "metadata": {},
     "outputs": [
      {
       "metadata": {},
       "output_type": "display_data",
       "png": "[encoded data removed]",
       "text": [
        "<matplotlib.figure.Figure at 0x106b031d0>"
       ]
      }
     ],
     "prompt_number": 4
    },
    {
     "cell_type": "code",
     "collapsed": false,
     "input": [
      "n = [t.get_num_people() for t in threads]\n",
      "\n",
      "plt.hist(n, bins = 20)\n",
      "plt.xlabel('number of email-address in a thread')\n",
      "plt.show()"
     ],
     "language": "python",
     "metadata": {},
     "outputs": [
      {
       "metadata": {},
       "output_type": "display_data",
       "png": "[encoded data removed]",
       "text": [
        "<matplotlib.figure.Figure at 0x1041e9ed0>"
       ]
      }
     ],
     "prompt_number": 5
    },
    {
     "cell_type": "code",
     "collapsed": false,
     "input": [
      "x = threads[7].get_root().properties()[2]\n",
      "len(x)"
     ],
     "language": "python",
     "metadata": {},
     "outputs": [
      {
       "metadata": {},
       "output_type": "pyout",
       "prompt_number": 6,
       "text": [
        "1"
       ]
      }
     ],
     "prompt_number": 6
    },
    {
     "cell_type": "code",
     "collapsed": false,
     "input": [
      "y = [t.get_duration().days for t in threads]\n",
      "\n",
      "plt.hist(y, bins = (10))\n",
      "plt.xlabel('duration of a thread(days)')\n",
      "plt.show()"
     ],
     "language": "python",
     "metadata": {},
     "outputs": [
      {
       "metadata": {},
       "output_type": "display_data",
       "png": "[encoded data removed]",
       "text": [
        "<matplotlib.figure.Figure at 0x106aacf10>"
       ]
      }
     ],
     "prompt_number": 7
    },
    {
     "cell_type": "code",
     "collapsed": false,
     "input": [
      "y = [t.get_duration().seconds for t in threads]\n",
      "\n",
      "plt.hist(y, bins = (10))\n",
      "plt.xlabel('duration of a thread(seconds)')\n",
      "plt.show()"
     ],
     "language": "python",
     "metadata": {},
     "outputs": [
      {
       "metadata": {},
       "output_type": "display_data",
       "png": "[encoded data removed]",
       "text": [
        "<matplotlib.figure.Figure at 0x10d626550>"
       ]
      }
     ],
     "prompt_number": 8
    },
    {
     "cell_type": "code",
     "collapsed": false,
     "input": [
      "k= []\n",
      "for i in range(0, len(threads)):\n",
      "    if(threads[i].get_duration() > datetime.timedelta(3)): k.append(i)"
     ],
     "language": "python",
     "metadata": {},
     "outputs": [],
     "prompt_number": 9
    },
    {
     "cell_type": "code",
     "collapsed": false,
     "input": [
      "threads[85].get_root().properties()[2]"
     ],
     "language": "python",
     "metadata": {},
     "outputs": [
      {
       "metadata": {},
       "output_type": "pyout",
       "prompt_number": 10,
       "text": [
        "[<bigbang.thread.Node instance at 0x106aaa440>,\n",
        " <bigbang.thread.Node instance at 0x106aaa368>,\n",
        " <bigbang.thread.Node instance at 0x106aaadd0>]"
       ]
      }
     ],
     "prompt_number": 10
    },
    {
     "cell_type": "code",
     "collapsed": false,
     "input": [
      "print(threads[85].get_duration())"
     ],
     "language": "python",
     "metadata": {},
     "outputs": [
      {
       "output_type": "stream",
       "stream": "stdout",
       "text": [
        "4 days, 23:13:32\n"
       ]
      }
     ],
     "prompt_number": 11
    },
    {
     "cell_type": "code",
     "collapsed": false,
     "input": [],
     "language": "python",
     "metadata": {},
     "outputs": []
    }
   ],
   "metadata": {}
  }
 ]
}